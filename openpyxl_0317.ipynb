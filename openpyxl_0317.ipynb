{
 "cells": [
  {
   "cell_type": "code",
   "execution_count": 3,
   "metadata": {},
   "outputs": [
    {
     "name": "stdout",
     "output_type": "stream",
     "text": [
      "Collecting openpyxl\n",
      "  Downloading openpyxl-3.1.2-py2.py3-none-any.whl.metadata (2.5 kB)\n",
      "Collecting et-xmlfile (from openpyxl)\n",
      "  Downloading et_xmlfile-1.1.0-py3-none-any.whl.metadata (1.8 kB)\n",
      "Using cached openpyxl-3.1.2-py2.py3-none-any.whl (249 kB)\n",
      "Downloading et_xmlfile-1.1.0-py3-none-any.whl (4.7 kB)\n",
      "Installing collected packages: et-xmlfile, openpyxl\n",
      "Successfully installed et-xmlfile-1.1.0 openpyxl-3.1.2\n",
      "Note: you may need to restart the kernel to use updated packages.\n"
     ]
    }
   ],
   "source": [
    "# 安裝openpyxl, 處理excel的模組\n",
    "pip install openpyxl"
   ]
  },
  {
   "cell_type": "code",
   "execution_count": 1,
   "metadata": {},
   "outputs": [
    {
     "data": {
      "text/plain": [
       "['Sheet']"
      ]
     },
     "execution_count": 1,
     "metadata": {},
     "output_type": "execute_result"
    }
   ],
   "source": [
    "import openpyxl as op\n",
    "ex = op.Workbook()   #開啟虛擬excel 活頁簿\n",
    "ex.sheetnames       #呼叫所有工作表名稱"
   ]
  },
  {
   "cell_type": "code",
   "execution_count": 4,
   "metadata": {},
   "outputs": [
    {
     "data": {
      "text/plain": [
       "<Worksheet \"Sheet\">"
      ]
     },
     "execution_count": 4,
     "metadata": {},
     "output_type": "execute_result"
    }
   ],
   "source": [
    "import openpyxl as op\n",
    "ex = op.Workbook()   #開啟虛擬excel 活頁簿\n",
    "#ex.sheetnames       #呼叫所有工作表名稱\n",
    "#ex[Sheet]           #呼叫工作表\n",
    "ex.active           #呼叫使用中的工作表\n",
    "#ex.save(\"123.xlsx\")     #存到同路徑\n",
    "#ex.save(\"C:/物聯網/GitHub_lin2307/python_line/1234.xlsx\") #存到不同的檔案路徑 C:\\物聯網\\GitHub\n"
   ]
  },
  {
   "cell_type": "code",
   "execution_count": 8,
   "metadata": {},
   "outputs": [
    {
     "name": "stdout",
     "output_type": "stream",
     "text": [
      "['銷售紀錄']\n",
      "<Worksheet \"工作表\">\n",
      "場區1\n"
     ]
    }
   ],
   "source": [
    "import openpyxl as op\n",
    "ex = op.load_workbook(\"C:/物聯網/GitHub_lin2307/python_line/menu.xlsx\")   #開啟本機excel 活頁簿\n",
    "print(ex.sheetnames)       #呼叫所有工作表名稱\n",
    "sh2 = ex.create_sheet(\"工作表\")  #新增工作表\n",
    "#sh1=ex[\"Sheet\"]           #呼叫工作表\n",
    "print(sh2)\n",
    "sh2.title=\"場區1\"      #重新命名\n",
    "print(sh2.title)        #工作表變數.title 顯示工作表名稱"
   ]
  },
  {
   "cell_type": "code",
   "execution_count": 20,
   "metadata": {},
   "outputs": [
    {
     "name": "stdout",
     "output_type": "stream",
     "text": [
      "<Cell '銷售紀錄'.A2>\n",
      "None\n",
      "[(<Cell '銷售紀錄'.A1>,), (<Cell '銷售紀錄'.A2>,), (<Cell '銷售紀錄'.A3>,), (<Cell '銷售紀錄'.A4>,), (<Cell '銷售紀錄'.A5>,), (<Cell '銷售紀錄'.A6>,), (<Cell '銷售紀錄'.A7>,), (<Cell '銷售紀錄'.A8>,)]\n",
      "<Cell '銷售紀錄'.A6>\n",
      "None\n",
      "<Cell '銷售紀錄'.A6>\n",
      "None\n"
     ]
    }
   ],
   "source": [
    "# 取得儲存格\n",
    "sh2[\"A1\"]       #取得工作表儲存格或範圍\n",
    "sh1=ex[\"銷售紀錄\"]\n",
    "print(sh1.cell(2,1))\n",
    "print(sh1.cell(6,1).value)\n",
    "print(list(sh1.rows))\n",
    "print(list(sh1.rows)[5][0])\n",
    "print(list(sh1.rows)[5][0].value)\n",
    "print(list(sh1.columns)[0][5])\n",
    "print(list(sh1.columns)[0][5].value)\n"
   ]
  },
  {
   "cell_type": "code",
   "execution_count": 25,
   "metadata": {},
   "outputs": [
    {
     "name": "stdout",
     "output_type": "stream",
     "text": [
      "[(<Cell '銷售紀錄'.A1>, <Cell '銷售紀錄'.B1>, <Cell '銷售紀錄'.C1>, <Cell '銷售紀錄'.D1>, <Cell '銷售紀錄'.E1>, <Cell '銷售紀錄'.F1>), (<Cell '銷售紀錄'.A2>, <Cell '銷售紀錄'.B2>, <Cell '銷售紀錄'.C2>, <Cell '銷售紀錄'.D2>, <Cell '銷售紀錄'.E2>, <Cell '銷售紀錄'.F2>), (<Cell '銷售紀錄'.A3>, <Cell '銷售紀錄'.B3>, <Cell '銷售紀錄'.C3>, <Cell '銷售紀錄'.D3>, <Cell '銷售紀錄'.E3>, <Cell '銷售紀錄'.F3>), (<Cell '銷售紀錄'.A4>, <Cell '銷售紀錄'.B4>, <Cell '銷售紀錄'.C4>, <Cell '銷售紀錄'.D4>, <Cell '銷售紀錄'.E4>, <Cell '銷售紀錄'.F4>), (<Cell '銷售紀錄'.A5>, <Cell '銷售紀錄'.B5>, <Cell '銷售紀錄'.C5>, <Cell '銷售紀錄'.D5>, <Cell '銷售紀錄'.E5>, <Cell '銷售紀錄'.F5>), (<Cell '銷售紀錄'.A6>, <Cell '銷售紀錄'.B6>, <Cell '銷售紀錄'.C6>, <Cell '銷售紀錄'.D6>, <Cell '銷售紀錄'.E6>, <Cell '銷售紀錄'.F6>), (<Cell '銷售紀錄'.A7>, <Cell '銷售紀錄'.B7>, <Cell '銷售紀錄'.C7>, <Cell '銷售紀錄'.D7>, <Cell '銷售紀錄'.E7>, <Cell '銷售紀錄'.F7>), (<Cell '銷售紀錄'.A8>, <Cell '銷售紀錄'.B8>, <Cell '銷售紀錄'.C8>, <Cell '銷售紀錄'.D8>, <Cell '銷售紀錄'.E8>, <Cell '銷售紀錄'.F8>)]\n",
      "[(<Cell '銷售紀錄'.A1>, <Cell '銷售紀錄'.A2>, <Cell '銷售紀錄'.A3>, <Cell '銷售紀錄'.A4>, <Cell '銷售紀錄'.A5>, <Cell '銷售紀錄'.A6>, <Cell '銷售紀錄'.A7>, <Cell '銷售紀錄'.A8>), (<Cell '銷售紀錄'.B1>, <Cell '銷售紀錄'.B2>, <Cell '銷售紀錄'.B3>, <Cell '銷售紀錄'.B4>, <Cell '銷售紀錄'.B5>, <Cell '銷售紀錄'.B6>, <Cell '銷售紀錄'.B7>, <Cell '銷售紀錄'.B8>), (<Cell '銷售紀錄'.C1>, <Cell '銷售紀錄'.C2>, <Cell '銷售紀錄'.C3>, <Cell '銷售紀錄'.C4>, <Cell '銷售紀錄'.C5>, <Cell '銷售紀錄'.C6>, <Cell '銷售紀錄'.C7>, <Cell '銷售紀錄'.C8>), (<Cell '銷售紀錄'.D1>, <Cell '銷售紀錄'.D2>, <Cell '銷售紀錄'.D3>, <Cell '銷售紀錄'.D4>, <Cell '銷售紀錄'.D5>, <Cell '銷售紀錄'.D6>, <Cell '銷售紀錄'.D7>, <Cell '銷售紀錄'.D8>), (<Cell '銷售紀錄'.E1>, <Cell '銷售紀錄'.E2>, <Cell '銷售紀錄'.E3>, <Cell '銷售紀錄'.E4>, <Cell '銷售紀錄'.E5>, <Cell '銷售紀錄'.E6>, <Cell '銷售紀錄'.E7>, <Cell '銷售紀錄'.E8>), (<Cell '銷售紀錄'.F1>, <Cell '銷售紀錄'.F2>, <Cell '銷售紀錄'.F3>, <Cell '銷售紀錄'.F4>, <Cell '銷售紀錄'.F5>, <Cell '銷售紀錄'.F6>, <Cell '銷售紀錄'.F7>, <Cell '銷售紀錄'.F8>)]\n",
      "<Cell '銷售紀錄'.A3>\n",
      "<Cell '銷售紀錄'.F4>\n"
     ]
    },
    {
     "data": {
      "text/plain": [
       "'D'"
      ]
     },
     "execution_count": 25,
     "metadata": {},
     "output_type": "execute_result"
    }
   ],
   "source": [
    "#ex = op.Workbook()\n",
    "#sh1=ex[\"Sheet\"]\n",
    "#a=\"A1\"\n",
    "#sh1[a]\n",
    "sh1.cell(7,6).value=242 #先給值，才可取得最大範圍\n",
    "print(list(sh1.rows))      # 抓到最大範圍，欄先變化後再改變列\n",
    "print(list(sh1.columns))    #抓到最大範圍，列先變化後再改變欄\n",
    "print(list(sh1.rows)[2][0])    #讀取儲存格\n",
    "print(list(sh1.columns)[5][3])\n",
    "\n",
    "cel = list(sh1.columns)[0][6]\n",
    "cel.value\n",
    "\n"
   ]
  },
  {
   "cell_type": "code",
   "execution_count": 26,
   "metadata": {},
   "outputs": [
    {
     "name": "stdout",
     "output_type": "stream",
     "text": [
      "1\n",
      "7\n",
      "A7\n",
      "D\n"
     ]
    }
   ],
   "source": [
    "# 取得儲存格屬性\n",
    "print(cel.column)   #欄座標\n",
    "print(cel.row)      #列座標\n",
    "print(cel.coordinate)   #座標\n",
    "print(cel.value)        #值"
   ]
  },
  {
   "cell_type": "code",
   "execution_count": 27,
   "metadata": {},
   "outputs": [
    {
     "name": "stdout",
     "output_type": "stream",
     "text": [
      "<openpyxl.styles.fonts.Font object>\n",
      "Parameters:\n",
      "name='Calibri', charset=None, family=2.0, b=False, i=False, strike=None, outline=None, shadow=None, condense=None, color=<openpyxl.styles.colors.Color object>\n",
      "Parameters:\n",
      "rgb=None, indexed=None, auto=None, theme=1, tint=0.0, type='theme', extend=None, sz=11.0, u=None, vertAlign=None, scheme='minor'\n",
      "<openpyxl.styles.fills.PatternFill object>\n",
      "Parameters:\n",
      "patternType=None, fgColor=<openpyxl.styles.colors.Color object>\n",
      "Parameters:\n",
      "rgb='00000000', indexed=None, auto=None, theme=None, tint=0.0, type='rgb', bgColor=<openpyxl.styles.colors.Color object>\n",
      "Parameters:\n",
      "rgb='00000000', indexed=None, auto=None, theme=None, tint=0.0, type='rgb'\n",
      "<openpyxl.styles.borders.Border object>\n",
      "Parameters:\n",
      "outline=True, diagonalUp=False, diagonalDown=False, start=None, end=None, left=<openpyxl.styles.borders.Side object>\n",
      "Parameters:\n",
      "style=None, color=None, right=<openpyxl.styles.borders.Side object>\n",
      "Parameters:\n",
      "style=None, color=None, top=<openpyxl.styles.borders.Side object>\n",
      "Parameters:\n",
      "style=None, color=None, bottom=<openpyxl.styles.borders.Side object>\n",
      "Parameters:\n",
      "style=None, color=None, diagonal=<openpyxl.styles.borders.Side object>\n",
      "Parameters:\n",
      "style=None, color=None, vertical=None, horizontal=None\n",
      "<openpyxl.styles.alignment.Alignment object>\n",
      "Parameters:\n",
      "horizontal=None, vertical=None, textRotation=0, wrapText=None, shrinkToFit=None, indent=0.0, relativeIndent=0.0, justifyLastLine=None, readingOrder=0.0\n",
      "General\n",
      "<openpyxl.styles.protection.Protection object>\n",
      "Parameters:\n",
      "locked=True, hidden=False\n"
     ]
    }
   ],
   "source": [
    "# 取得儲存格屬性\n",
    "print(cel.font)     #字體類\n",
    "print(cel.fill)     #填充類\n",
    "print(cel.border)   #邊框類\n",
    "print(cel.alignment)        #對齊類\n",
    "print(cel.number_format)    #格式類\n",
    "print(cel.protection)       #保護類"
   ]
  },
  {
   "cell_type": "code",
   "execution_count": 42,
   "metadata": {},
   "outputs": [
    {
     "name": "stdout",
     "output_type": "stream",
     "text": [
      "A1:F8\n",
      "6\n",
      "8\n",
      "DimensionHolder(<bound method Worksheet._add_column of <Worksheet \"銷售紀錄\">>, {5: <openpyxl.worksheet.dimensions.ColumnDimension object at 0x00000200F0D5CA00>, 4: <openpyxl.worksheet.dimensions.ColumnDimension object at 0x00000200F0E15B30>, 1: <openpyxl.worksheet.dimensions.ColumnDimension object at 0x00000200F0E69310>, 'F': <openpyxl.worksheet.dimensions.ColumnDimension object at 0x00000200F0AF3C50>})\n",
      "DimensionHolder(<bound method Worksheet._add_row of <Worksheet \"銷售紀錄\">>, {'7': <openpyxl.worksheet.dimensions.RowDimension object at 0x00000200F0AF3E30>})\n",
      "<openpyxl.worksheet.dimensions.ColumnDimension object at 0x00000200F0AF3C50>\n",
      "<openpyxl.worksheet.dimensions.RowDimension object at 0x00000200F0AF3E30>\n",
      "8\n"
     ]
    }
   ],
   "source": [
    "#讀取行列\n",
    "#取得最邊綠行列數\n",
    "print(sh1.dimensions)   #內容範圍\n",
    "print(sh1.max_column)   #最大欄\n",
    "print(sh1.max_row)      #最大列\n",
    "\n",
    "#取得欄或列\n",
    "print(sh1.column_dimensions)   #取得所有欄\n",
    "print(sh1.row_dimensions)   #取得所有列\n",
    "print(sh1.column_dimensions[\"F\"])   #取得座標欄\n",
    "print(sh1.row_dimensions[\"7\"])   #取得座標列\n",
    "\n",
    "#for n in range(100)\n",
    "\n",
    "#100可用下列方式取代\n",
    "#list(sh1.max_row)\n",
    "print(len(list(sh1.rows)))\n"
   ]
  },
  {
   "cell_type": "code",
   "execution_count": null,
   "metadata": {},
   "outputs": [],
   "source": []
  },
  {
   "cell_type": "code",
   "execution_count": 12,
   "metadata": {},
   "outputs": [
    {
     "name": "stdout",
     "output_type": "stream",
     "text": [
      "8\n"
     ]
    }
   ],
   "source": [
    "# D1 = B1 - C1\n",
    "import openpyxl as op\n",
    "ex = op.load_workbook(\"menu.xlsx\")\n",
    "sh1=ex[\"銷售紀錄\"]\n",
    "print(len(list(sh1.rows)))\n",
    "for n in range(1 , len(list(sh1.rows))+1):\n",
    "    #n[3] = n[1] - n[2]  #tuple 不可修改，只可讀取\n",
    "    sh1[\"D\"+str(n)].value = sh1[\"B\"+str(n)].value - sh1[\"C\"+str(n)].value\n",
    "    #sh1.cell(x,4).value = n[1]-n[2]\n",
    "    #sh1.cell(n,4,n[1]-n[2])\n",
    "ex.save(\"menu.xlsx\")\n",
    "\n",
    "\n"
   ]
  },
  {
   "cell_type": "code",
   "execution_count": 13,
   "metadata": {},
   "outputs": [
    {
     "name": "stdout",
     "output_type": "stream",
     "text": [
      "8\n"
     ]
    },
    {
     "ename": "IndexError",
     "evalue": "tuple index out of range",
     "output_type": "error",
     "traceback": [
      "\u001b[1;31m---------------------------------------------------------------------------\u001b[0m",
      "\u001b[1;31mIndexError\u001b[0m                                Traceback (most recent call last)",
      "Cell \u001b[1;32mIn[13], line 7\u001b[0m\n\u001b[0;32m      5\u001b[0m \u001b[38;5;28mprint\u001b[39m(\u001b[38;5;28mlen\u001b[39m(\u001b[38;5;28mlist\u001b[39m(sh1\u001b[38;5;241m.\u001b[39mrows)))\n\u001b[0;32m      6\u001b[0m \u001b[38;5;28;01mfor\u001b[39;00m n \u001b[38;5;129;01min\u001b[39;00m \u001b[38;5;28mlist\u001b[39m(sh1\u001b[38;5;241m.\u001b[39mrows):\n\u001b[1;32m----> 7\u001b[0m     n[\u001b[38;5;241m5\u001b[39m] \u001b[38;5;241m=\u001b[39m n[\u001b[38;5;241m3\u001b[39m] \u001b[38;5;241m+\u001b[39m \u001b[43mn\u001b[49m\u001b[43m[\u001b[49m\u001b[38;5;241;43m4\u001b[39;49m\u001b[43m]\u001b[49m  \u001b[38;5;66;03m#tuple 不可修改，只可讀取\u001b[39;00m\n\u001b[0;32m      8\u001b[0m     \u001b[38;5;66;03m#sh1.cell(x,4).value = n[1]-n[2]\u001b[39;00m\n\u001b[0;32m      9\u001b[0m     \u001b[38;5;66;03m#sh1.cell(n,4,n[1]-n[2])\u001b[39;00m\n\u001b[0;32m     10\u001b[0m ex\u001b[38;5;241m.\u001b[39msave(\u001b[38;5;124m\"\u001b[39m\u001b[38;5;124mmenu.xlsx\u001b[39m\u001b[38;5;124m\"\u001b[39m)\n",
      "\u001b[1;31mIndexError\u001b[0m: tuple index out of range"
     ]
    }
   ],
   "source": [
    "# E1 = C1 + D1\n",
    "#tuple 不可修改，只可讀取\n",
    "import openpyxl as op\n",
    "ex = op.load_workbook(\"menu.xlsx\")\n",
    "sh1=ex[\"銷售紀錄\"]\n",
    "print(len(list(sh1.rows)))\n",
    "for n in list(sh1.rows):\n",
    "    \n",
    "    n[5] = n[3] + n[4]  #tuple 不可修改，只可讀取\n",
    "    #sh1.cell(x,4).value = n[1]-n[2]\n",
    "    #sh1.cell(n,4,n[1]-n[2])\n",
    "ex.save(\"menu.xlsx\")\n"
   ]
  },
  {
   "cell_type": "code",
   "execution_count": 3,
   "metadata": {},
   "outputs": [
    {
     "name": "stdout",
     "output_type": "stream",
     "text": [
      "128\n",
      "<Cell '銷售紀錄'.B1> <Cell '銷售紀錄'.D1>\n",
      "<Cell '銷售紀錄'.B2> <Cell '銷售紀錄'.D2>\n",
      "<Cell '銷售紀錄'.B3> <Cell '銷售紀錄'.D3>\n",
      "<Cell '銷售紀錄'.B4> <Cell '銷售紀錄'.D4>\n",
      "<Cell '銷售紀錄'.B5> <Cell '銷售紀錄'.D5>\n",
      "<Cell '銷售紀錄'.B6> <Cell '銷售紀錄'.D6>\n",
      "<Cell '銷售紀錄'.B7> <Cell '銷售紀錄'.D7>\n",
      "<Cell '銷售紀錄'.B8> <Cell '銷售紀錄'.D8>\n",
      "<Cell '銷售紀錄'.B9> <Cell '銷售紀錄'.D9>\n"
     ]
    },
    {
     "ename": "TypeError",
     "evalue": "unsupported operand type(s) for +: 'NoneType' and 'NoneType'",
     "output_type": "error",
     "traceback": [
      "\u001b[1;31m---------------------------------------------------------------------------\u001b[0m",
      "\u001b[1;31mTypeError\u001b[0m                                 Traceback (most recent call last)",
      "Cell \u001b[1;32mIn[3], line 9\u001b[0m\n\u001b[0;32m      7\u001b[0m \u001b[38;5;28;01mfor\u001b[39;00m n \u001b[38;5;129;01min\u001b[39;00m \u001b[38;5;28mlist\u001b[39m(sh1\u001b[38;5;241m.\u001b[39mrows):\n\u001b[0;32m      8\u001b[0m     \u001b[38;5;28mprint\u001b[39m(n[\u001b[38;5;241m1\u001b[39m],n[\u001b[38;5;241m3\u001b[39m])\n\u001b[1;32m----> 9\u001b[0m     sh1\u001b[38;5;241m.\u001b[39mcell(x,\u001b[38;5;241m5\u001b[39m)\u001b[38;5;241m.\u001b[39mvalue \u001b[38;5;241m=\u001b[39m \u001b[43mn\u001b[49m\u001b[43m[\u001b[49m\u001b[38;5;241;43m1\u001b[39;49m\u001b[43m]\u001b[49m\u001b[38;5;241;43m.\u001b[39;49m\u001b[43mvalue\u001b[49m\u001b[43m \u001b[49m\u001b[38;5;241;43m+\u001b[39;49m\u001b[43m \u001b[49m\u001b[43mn\u001b[49m\u001b[43m[\u001b[49m\u001b[38;5;241;43m3\u001b[39;49m\u001b[43m]\u001b[49m\u001b[38;5;241;43m.\u001b[39;49m\u001b[43mvalue\u001b[49m\n\u001b[0;32m     10\u001b[0m     \u001b[38;5;66;03m#sh1.cell(x,4,n[1]-n[2])\u001b[39;00m\n\u001b[0;32m     11\u001b[0m     x \u001b[38;5;241m+\u001b[39m\u001b[38;5;241m=\u001b[39mx\n",
      "\u001b[1;31mTypeError\u001b[0m: unsupported operand type(s) for +: 'NoneType' and 'NoneType'"
     ]
    }
   ],
   "source": [
    "# E1 = C1 + D1\n",
    "import openpyxl as op\n",
    "ex = op.load_workbook(\"menu.xlsx\")\n",
    "sh1=ex[\"銷售紀錄\"]\n",
    "print(len(list(sh1.rows)))\n",
    "x = 1\n",
    "for n in list(sh1.rows):\n",
    "    print(n[1],n[3])\n",
    "    sh1.cell(x,5).value = n[1].value + n[3].value\n",
    "    #sh1.cell(x,5,n[1].value + n[3].value)\n",
    "    x +=x\n",
    "ex.save(\"menu.xlsx\")"
   ]
  },
  {
   "cell_type": "markdown",
   "metadata": {},
   "source": []
  },
  {
   "cell_type": "code",
   "execution_count": 2,
   "metadata": {},
   "outputs": [
    {
     "name": "stdout",
     "output_type": "stream",
     "text": [
      "128\n",
      "<Cell '銷售紀錄'.B1> <Cell '銷售紀錄'.D1>\n",
      "<Cell '銷售紀錄'.B2> <Cell '銷售紀錄'.D2>\n",
      "<Cell '銷售紀錄'.B3> <Cell '銷售紀錄'.D3>\n",
      "<Cell '銷售紀錄'.B4> <Cell '銷售紀錄'.D4>\n",
      "<Cell '銷售紀錄'.B5> <Cell '銷售紀錄'.D5>\n",
      "<Cell '銷售紀錄'.B6> <Cell '銷售紀錄'.D6>\n",
      "<Cell '銷售紀錄'.B7> <Cell '銷售紀錄'.D7>\n",
      "<Cell '銷售紀錄'.B8> <Cell '銷售紀錄'.D8>\n",
      "<Cell '銷售紀錄'.B9> <Cell '銷售紀錄'.D9>\n",
      "<Cell '銷售紀錄'.B10> <Cell '銷售紀錄'.D10>\n",
      "<Cell '銷售紀錄'.B11> <Cell '銷售紀錄'.D11>\n",
      "<Cell '銷售紀錄'.B12> <Cell '銷售紀錄'.D12>\n",
      "<Cell '銷售紀錄'.B13> <Cell '銷售紀錄'.D13>\n",
      "<Cell '銷售紀錄'.B14> <Cell '銷售紀錄'.D14>\n",
      "<Cell '銷售紀錄'.B15> <Cell '銷售紀錄'.D15>\n",
      "<Cell '銷售紀錄'.B16> <Cell '銷售紀錄'.D16>\n",
      "<Cell '銷售紀錄'.B17> <Cell '銷售紀錄'.D17>\n",
      "<Cell '銷售紀錄'.B18> <Cell '銷售紀錄'.D18>\n",
      "<Cell '銷售紀錄'.B19> <Cell '銷售紀錄'.D19>\n",
      "<Cell '銷售紀錄'.B20> <Cell '銷售紀錄'.D20>\n",
      "<Cell '銷售紀錄'.B21> <Cell '銷售紀錄'.D21>\n",
      "<Cell '銷售紀錄'.B22> <Cell '銷售紀錄'.D22>\n",
      "<Cell '銷售紀錄'.B23> <Cell '銷售紀錄'.D23>\n",
      "<Cell '銷售紀錄'.B24> <Cell '銷售紀錄'.D24>\n",
      "<Cell '銷售紀錄'.B25> <Cell '銷售紀錄'.D25>\n",
      "<Cell '銷售紀錄'.B26> <Cell '銷售紀錄'.D26>\n",
      "<Cell '銷售紀錄'.B27> <Cell '銷售紀錄'.D27>\n",
      "<Cell '銷售紀錄'.B28> <Cell '銷售紀錄'.D28>\n",
      "<Cell '銷售紀錄'.B29> <Cell '銷售紀錄'.D29>\n",
      "<Cell '銷售紀錄'.B30> <Cell '銷售紀錄'.D30>\n",
      "<Cell '銷售紀錄'.B31> <Cell '銷售紀錄'.D31>\n",
      "<Cell '銷售紀錄'.B32> <Cell '銷售紀錄'.D32>\n",
      "<Cell '銷售紀錄'.B33> <Cell '銷售紀錄'.D33>\n",
      "<Cell '銷售紀錄'.B34> <Cell '銷售紀錄'.D34>\n",
      "<Cell '銷售紀錄'.B35> <Cell '銷售紀錄'.D35>\n",
      "<Cell '銷售紀錄'.B36> <Cell '銷售紀錄'.D36>\n",
      "<Cell '銷售紀錄'.B37> <Cell '銷售紀錄'.D37>\n",
      "<Cell '銷售紀錄'.B38> <Cell '銷售紀錄'.D38>\n",
      "<Cell '銷售紀錄'.B39> <Cell '銷售紀錄'.D39>\n",
      "<Cell '銷售紀錄'.B40> <Cell '銷售紀錄'.D40>\n",
      "<Cell '銷售紀錄'.B41> <Cell '銷售紀錄'.D41>\n",
      "<Cell '銷售紀錄'.B42> <Cell '銷售紀錄'.D42>\n",
      "<Cell '銷售紀錄'.B43> <Cell '銷售紀錄'.D43>\n",
      "<Cell '銷售紀錄'.B44> <Cell '銷售紀錄'.D44>\n",
      "<Cell '銷售紀錄'.B45> <Cell '銷售紀錄'.D45>\n",
      "<Cell '銷售紀錄'.B46> <Cell '銷售紀錄'.D46>\n",
      "<Cell '銷售紀錄'.B47> <Cell '銷售紀錄'.D47>\n",
      "<Cell '銷售紀錄'.B48> <Cell '銷售紀錄'.D48>\n",
      "<Cell '銷售紀錄'.B49> <Cell '銷售紀錄'.D49>\n",
      "<Cell '銷售紀錄'.B50> <Cell '銷售紀錄'.D50>\n",
      "<Cell '銷售紀錄'.B51> <Cell '銷售紀錄'.D51>\n",
      "<Cell '銷售紀錄'.B52> <Cell '銷售紀錄'.D52>\n",
      "<Cell '銷售紀錄'.B53> <Cell '銷售紀錄'.D53>\n",
      "<Cell '銷售紀錄'.B54> <Cell '銷售紀錄'.D54>\n",
      "<Cell '銷售紀錄'.B55> <Cell '銷售紀錄'.D55>\n",
      "<Cell '銷售紀錄'.B56> <Cell '銷售紀錄'.D56>\n",
      "<Cell '銷售紀錄'.B57> <Cell '銷售紀錄'.D57>\n",
      "<Cell '銷售紀錄'.B58> <Cell '銷售紀錄'.D58>\n",
      "<Cell '銷售紀錄'.B59> <Cell '銷售紀錄'.D59>\n",
      "<Cell '銷售紀錄'.B60> <Cell '銷售紀錄'.D60>\n",
      "<Cell '銷售紀錄'.B61> <Cell '銷售紀錄'.D61>\n",
      "<Cell '銷售紀錄'.B62> <Cell '銷售紀錄'.D62>\n",
      "<Cell '銷售紀錄'.B63> <Cell '銷售紀錄'.D63>\n",
      "<Cell '銷售紀錄'.B64> <Cell '銷售紀錄'.D64>\n",
      "<Cell '銷售紀錄'.B65> <Cell '銷售紀錄'.D65>\n",
      "<Cell '銷售紀錄'.B66> <Cell '銷售紀錄'.D66>\n",
      "<Cell '銷售紀錄'.B67> <Cell '銷售紀錄'.D67>\n",
      "<Cell '銷售紀錄'.B68> <Cell '銷售紀錄'.D68>\n",
      "<Cell '銷售紀錄'.B69> <Cell '銷售紀錄'.D69>\n",
      "<Cell '銷售紀錄'.B70> <Cell '銷售紀錄'.D70>\n",
      "<Cell '銷售紀錄'.B71> <Cell '銷售紀錄'.D71>\n",
      "<Cell '銷售紀錄'.B72> <Cell '銷售紀錄'.D72>\n",
      "<Cell '銷售紀錄'.B73> <Cell '銷售紀錄'.D73>\n",
      "<Cell '銷售紀錄'.B74> <Cell '銷售紀錄'.D74>\n",
      "<Cell '銷售紀錄'.B75> <Cell '銷售紀錄'.D75>\n",
      "<Cell '銷售紀錄'.B76> <Cell '銷售紀錄'.D76>\n",
      "<Cell '銷售紀錄'.B77> <Cell '銷售紀錄'.D77>\n",
      "<Cell '銷售紀錄'.B78> <Cell '銷售紀錄'.D78>\n",
      "<Cell '銷售紀錄'.B79> <Cell '銷售紀錄'.D79>\n",
      "<Cell '銷售紀錄'.B80> <Cell '銷售紀錄'.D80>\n",
      "<Cell '銷售紀錄'.B81> <Cell '銷售紀錄'.D81>\n",
      "<Cell '銷售紀錄'.B82> <Cell '銷售紀錄'.D82>\n",
      "<Cell '銷售紀錄'.B83> <Cell '銷售紀錄'.D83>\n",
      "<Cell '銷售紀錄'.B84> <Cell '銷售紀錄'.D84>\n",
      "<Cell '銷售紀錄'.B85> <Cell '銷售紀錄'.D85>\n",
      "<Cell '銷售紀錄'.B86> <Cell '銷售紀錄'.D86>\n",
      "<Cell '銷售紀錄'.B87> <Cell '銷售紀錄'.D87>\n",
      "<Cell '銷售紀錄'.B88> <Cell '銷售紀錄'.D88>\n",
      "<Cell '銷售紀錄'.B89> <Cell '銷售紀錄'.D89>\n",
      "<Cell '銷售紀錄'.B90> <Cell '銷售紀錄'.D90>\n",
      "<Cell '銷售紀錄'.B91> <Cell '銷售紀錄'.D91>\n",
      "<Cell '銷售紀錄'.B92> <Cell '銷售紀錄'.D92>\n",
      "<Cell '銷售紀錄'.B93> <Cell '銷售紀錄'.D93>\n",
      "<Cell '銷售紀錄'.B94> <Cell '銷售紀錄'.D94>\n",
      "<Cell '銷售紀錄'.B95> <Cell '銷售紀錄'.D95>\n",
      "<Cell '銷售紀錄'.B96> <Cell '銷售紀錄'.D96>\n",
      "<Cell '銷售紀錄'.B97> <Cell '銷售紀錄'.D97>\n",
      "<Cell '銷售紀錄'.B98> <Cell '銷售紀錄'.D98>\n",
      "<Cell '銷售紀錄'.B99> <Cell '銷售紀錄'.D99>\n",
      "<Cell '銷售紀錄'.B100> <Cell '銷售紀錄'.D100>\n",
      "<Cell '銷售紀錄'.B101> <Cell '銷售紀錄'.D101>\n",
      "<Cell '銷售紀錄'.B102> <Cell '銷售紀錄'.D102>\n",
      "<Cell '銷售紀錄'.B103> <Cell '銷售紀錄'.D103>\n",
      "<Cell '銷售紀錄'.B104> <Cell '銷售紀錄'.D104>\n",
      "<Cell '銷售紀錄'.B105> <Cell '銷售紀錄'.D105>\n",
      "<Cell '銷售紀錄'.B106> <Cell '銷售紀錄'.D106>\n",
      "<Cell '銷售紀錄'.B107> <Cell '銷售紀錄'.D107>\n",
      "<Cell '銷售紀錄'.B108> <Cell '銷售紀錄'.D108>\n",
      "<Cell '銷售紀錄'.B109> <Cell '銷售紀錄'.D109>\n",
      "<Cell '銷售紀錄'.B110> <Cell '銷售紀錄'.D110>\n",
      "<Cell '銷售紀錄'.B111> <Cell '銷售紀錄'.D111>\n",
      "<Cell '銷售紀錄'.B112> <Cell '銷售紀錄'.D112>\n",
      "<Cell '銷售紀錄'.B113> <Cell '銷售紀錄'.D113>\n",
      "<Cell '銷售紀錄'.B114> <Cell '銷售紀錄'.D114>\n",
      "<Cell '銷售紀錄'.B115> <Cell '銷售紀錄'.D115>\n",
      "<Cell '銷售紀錄'.B116> <Cell '銷售紀錄'.D116>\n",
      "<Cell '銷售紀錄'.B117> <Cell '銷售紀錄'.D117>\n",
      "<Cell '銷售紀錄'.B118> <Cell '銷售紀錄'.D118>\n",
      "<Cell '銷售紀錄'.B119> <Cell '銷售紀錄'.D119>\n",
      "<Cell '銷售紀錄'.B120> <Cell '銷售紀錄'.D120>\n",
      "<Cell '銷售紀錄'.B121> <Cell '銷售紀錄'.D121>\n",
      "<Cell '銷售紀錄'.B122> <Cell '銷售紀錄'.D122>\n",
      "<Cell '銷售紀錄'.B123> <Cell '銷售紀錄'.D123>\n",
      "<Cell '銷售紀錄'.B124> <Cell '銷售紀錄'.D124>\n",
      "<Cell '銷售紀錄'.B125> <Cell '銷售紀錄'.D125>\n",
      "<Cell '銷售紀錄'.B126> <Cell '銷售紀錄'.D126>\n",
      "<Cell '銷售紀錄'.B127> <Cell '銷售紀錄'.D127>\n",
      "<Cell '銷售紀錄'.B128> <Cell '銷售紀錄'.D128>\n"
     ]
    }
   ],
   "source": [
    "import openpyxl as op\n",
    "ex = op.load_workbook(\"menu.xlsx\")\n",
    "sh1 = ex[\"銷售紀錄\"]\n",
    "\n",
    "print(len(list(sh1.rows)))\n",
    "x = 1\n",
    "for n in list(sh1.rows):\n",
    "    print(n[1], n[3])\n",
    "    # 確保相加的值是數字，並處理可能的None值\n",
    "    val1 = n[1].value if n[1].value is not None else 0\n",
    "    val2 = n[3].value if n[3].value is not None else 0\n",
    "    sh1.cell(row=x, column=5).value = val1 + val2\n",
    "    x += 1\n",
    "\n",
    "ex.save(\"menu.xlsx\")"
   ]
  }
 ],
 "metadata": {
  "kernelspec": {
   "display_name": "Python 3",
   "language": "python",
   "name": "python3"
  },
  "language_info": {
   "codemirror_mode": {
    "name": "ipython",
    "version": 3
   },
   "file_extension": ".py",
   "mimetype": "text/x-python",
   "name": "python",
   "nbconvert_exporter": "python",
   "pygments_lexer": "ipython3",
   "version": "3.11.8"
  }
 },
 "nbformat": 4,
 "nbformat_minor": 2
}
