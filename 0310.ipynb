{
 "cells": [
  {
   "cell_type": "code",
   "execution_count": 6,
   "metadata": {},
   "outputs": [
    {
     "name": "stdout",
     "output_type": "stream",
     "text": [
      "你選擇錯誤a\n",
      "你選擇的是A餐\n",
      "你選擇的是A餐\n",
      "你選擇的是B餐\n",
      "你選擇的是B餐\n"
     ]
    }
   ],
   "source": [
    "for x in range(5) :   \n",
    "    menu = input()\n",
    "    if menu == \"A\":\n",
    "        print(\"你選擇的是A餐\")\n",
    "    elif menu == \"B\":\n",
    "        print(\"你選擇的是B餐\")\n",
    "    else:\n",
    "        print(f\"你選擇錯誤{menu}\")"
   ]
  },
  {
   "cell_type": "code",
   "execution_count": 1,
   "metadata": {},
   "outputs": [
    {
     "name": "stdout",
     "output_type": "stream",
     "text": [
      "0\n",
      "1\n",
      "2\n",
      "3\n",
      "4\n"
     ]
    }
   ],
   "source": [
    "for x in range(5):\n",
    "    print(x)"
   ]
  },
  {
   "cell_type": "code",
   "execution_count": 2,
   "metadata": {},
   "outputs": [
    {
     "data": {
      "text/plain": [
       "[0, 1, 2, 3, 4]"
      ]
     },
     "execution_count": 2,
     "metadata": {},
     "output_type": "execute_result"
    }
   ],
   "source": [
    "list(range(5))"
   ]
  },
  {
   "cell_type": "code",
   "execution_count": 3,
   "metadata": {},
   "outputs": [
    {
     "name": "stdout",
     "output_type": "stream",
     "text": [
      "3\n",
      "4\n"
     ]
    }
   ],
   "source": [
    "for x in range(3,5):\n",
    "    print(x)"
   ]
  },
  {
   "cell_type": "code",
   "execution_count": 4,
   "metadata": {},
   "outputs": [
    {
     "name": "stdout",
     "output_type": "stream",
     "text": [
      "3\n",
      "5\n",
      "7\n",
      "9\n"
     ]
    }
   ],
   "source": [
    "for x in range(3,11,2):\n",
    "    print(x)"
   ]
  },
  {
   "cell_type": "code",
   "execution_count": 12,
   "metadata": {},
   "outputs": [
    {
     "name": "stdout",
     "output_type": "stream",
     "text": [
      "你選擇的是A餐是A1\n",
      "你選擇的是B餐是B1\n",
      "你選擇錯誤C\n",
      "你選擇的是A餐是A3\n",
      "你選擇的是B餐是B2\n"
     ]
    }
   ],
   "source": [
    "#list\n",
    "A=[\"A1\",\"A2\",\"A3\"]\n",
    "B=[\"B1\",\"B2\",\"B3\"]\n",
    "menu=[A,B]\n",
    "for x in range(5) :   \n",
    "        menu = input(\"請輸入A餐或B餐:\")\n",
    "        if menu == \"A\":\n",
    "            IA=input(f\"請輸入A餐品項{A}\")\n",
    "            print(f\"你選擇的是A餐是{IA}\")\n",
    "        elif menu == \"B\":\n",
    "            IB=input(f\"請輸入B餐品項{B}\")\n",
    "            print(f\"你選擇的是B餐是{IB}\")\n",
    "        else:\n",
    "            print(f\"你選擇錯誤{menu}\")"
   ]
  },
  {
   "cell_type": "code",
   "execution_count": 7,
   "metadata": {},
   "outputs": [
    {
     "data": {
      "text/plain": [
       "'A3'"
      ]
     },
     "execution_count": 7,
     "metadata": {},
     "output_type": "execute_result"
    }
   ],
   "source": [
    "# list\n",
    "A=[\"A1\",\"A2\",\"A3\"]\n",
    "A[2]"
   ]
  },
  {
   "cell_type": "code",
   "execution_count": 10,
   "metadata": {},
   "outputs": [
    {
     "name": "stdout",
     "output_type": "stream",
     "text": [
      "['A', 'B', 'C', 'D', 'E']\n"
     ]
    }
   ],
   "source": [
    "#list,append\n",
    "order=[]\n",
    "for x in range(5) :   \n",
    "    menu = input(\"請輸入A餐或B餐:\")\n",
    "    order.append(menu)  #將資料寫入list, 從後面加入menu \n",
    "print(order)\n",
    "        "
   ]
  },
  {
   "cell_type": "markdown",
   "metadata": {},
   "source": [
    "dictionary 說明\n",
    "dictionary = {key1:value1,key2:value2,...... }\n",
    "\n",
    "dictionary 可為多對鍵值之組合容器\n",
    "各”值”以dictionary[鍵]回傳\n",
    "dictionary\n",
    "\n",
    ".items() 將各組鍵值以list回傳"
   ]
  },
  {
   "cell_type": "code",
   "execution_count": 13,
   "metadata": {},
   "outputs": [
    {
     "data": {
      "text/plain": [
       "8760"
      ]
     },
     "execution_count": 13,
     "metadata": {},
     "output_type": "execute_result"
    }
   ],
   "source": [
    "#dict\n",
    "K={\"A\":123,\"B\":456,\"C\":[3456,8760]}\n",
    "K[\"C\"][1]"
   ]
  },
  {
   "cell_type": "code",
   "execution_count": 15,
   "metadata": {},
   "outputs": [
    {
     "name": "stdout",
     "output_type": "stream",
     "text": [
      "麵的種類有['咖哩', '排骨']\n"
     ]
    }
   ],
   "source": [
    "menu={\"飯\":[\"豬排\", \"雞排\"],\n",
    "      \"麵\":[\"咖哩\",\"排骨\"]}\n",
    "order = input(\"請問要點飯或麵:\")\n",
    "print(f\"{order}的種類有{menu[order]}\")"
   ]
  },
  {
   "cell_type": "code",
   "execution_count": 17,
   "metadata": {},
   "outputs": [
    {
     "name": "stdout",
     "output_type": "stream",
     "text": [
      "你點的雞排一共110元\n"
     ]
    }
   ],
   "source": [
    "menu={\"飯\":{\"豬排\":100, \"雞排\":110},\n",
    "      \"麵\":{\"咖哩\":90,\"排骨\":100}}\n",
    "order = input(\"請問要點飯或麵:\")\n",
    "order2 = input(f\"請問要吃那一樣餐點{menu[order]}\")\n",
    "print(f\"你點的{order2}一共{menu[order][order2]}元\")"
   ]
  },
  {
   "cell_type": "code",
   "execution_count": 23,
   "metadata": {},
   "outputs": [
    {
     "name": "stdout",
     "output_type": "stream",
     "text": [
      "你點了牛肉麵:150元\n",
      "你點了牛肉麵:150元\n",
      "你點了雞排飯:110元\n",
      "餐點一共410元\n"
     ]
    }
   ],
   "source": [
    "money=0\n",
    "for x in range(3):\n",
    "    menu={\"飯\":{\"豬排\":100, \"雞排\":110},\n",
    "        \"麵\":{\"咖哩\":90,\"排骨\":100,\"牛肉\":150}}\n",
    "    order = input(\"請問要點飯或麵:\")\n",
    "    order2 = input(f\"請問要飯吃那一樣餐點{menu[order]}\")\n",
    "    print(f\"你點了{order2}{order}:{menu[order][order2]}元\")\n",
    "    money += menu[order][order2]\n",
    "print(f\"餐點一共{money}元\")"
   ]
  },
  {
   "cell_type": "markdown",
   "metadata": {},
   "source": [
    "While迴圈:符合條件就重複\n",
    "\n",
    "while 判斷式 :\n",
    "\n",
    "功能指令\n",
    "\n",
    "使用while迴圈在特定條件下\n",
    "\n",
    "不停重複此動作\n",
    "\n",
    "break 用於特定條件直接打破迴圈"
   ]
  },
  {
   "cell_type": "code",
   "execution_count": 24,
   "metadata": {},
   "outputs": [
    {
     "name": "stdout",
     "output_type": "stream",
     "text": [
      "2\n",
      "3\n",
      "4\n",
      "5\n"
     ]
    }
   ],
   "source": [
    "# while 練習 \n",
    "x=1\n",
    "while x<5:\n",
    "    x += 1\n",
    "    print(x)"
   ]
  },
  {
   "cell_type": "code",
   "execution_count": 25,
   "metadata": {},
   "outputs": [
    {
     "name": "stdout",
     "output_type": "stream",
     "text": [
      "2\n",
      "3\n",
      "4\n",
      "5\n"
     ]
    }
   ],
   "source": [
    "# while 練習 \n",
    "x=1\n",
    "while True:\n",
    "    if x == 5:\n",
    "        break\n",
    "    x += 1\n",
    "    print(x)"
   ]
  },
  {
   "cell_type": "code",
   "execution_count": 28,
   "metadata": {},
   "outputs": [
    {
     "name": "stdout",
     "output_type": "stream",
     "text": [
      "您點了咖哩麵:90元\n",
      "您點了雞排飯:110元\n",
      "您點了牛肉麵:150元\n",
      "您點了牛肉麵:150元\n",
      "餐點一共500元\n"
     ]
    }
   ],
   "source": [
    "# while 練習\n",
    "money=0\n",
    "#for x in range(3):\n",
    "while True: \n",
    "    menu={\"飯\":{\"豬排\":100, \"雞排\":110},\n",
    "        \"麵\":{\"咖哩\":90,\"排骨\":100,\"牛肉\":150}}\n",
    "    order = input(\"請問要點飯或麵?,N為結束點餐\")\n",
    "    if order == \"N\":\n",
    "        break\n",
    "    order2 = input(f\"請問要飯吃那一樣餐點{menu[order]}\")\n",
    "    print(f\"您點了{order2}{order}:{menu[order][order2]}元\")\n",
    "    money += menu[order][order2]\n",
    "print(f\"餐點一共{money}元\")"
   ]
  },
  {
   "cell_type": "code",
   "execution_count": 29,
   "metadata": {},
   "outputs": [
    {
     "name": "stdout",
     "output_type": "stream",
     "text": [
      "您點了雞排飯:110元\n",
      "餐點一共110元\n"
     ]
    }
   ],
   "source": [
    "# in ,not in 練習\n",
    "money=0\n",
    "#for x in range(3):\n",
    "while True: \n",
    "    menu={\"飯\":{\"豬排\":100, \"雞排\":110},\n",
    "        \"麵\":{\"咖哩\":90,\"排骨\":100,\"牛肉\":150}}\n",
    "    order = input(\"請問要點飯或麵?,N為結束點餐\")\n",
    "    if order not in menu:\n",
    "        break\n",
    "    order2 = input(f\"請問要飯吃那一樣餐點{menu[order]}\")\n",
    "    print(f\"您點了{order2}{order}:{menu[order][order2]}元\")\n",
    "    money += menu[order][order2]\n",
    "print(f\"餐點一共{money}元\")"
   ]
  },
  {
   "cell_type": "code",
   "execution_count": 30,
   "metadata": {},
   "outputs": [
    {
     "name": "stdout",
     "output_type": "stream",
     "text": [
      "您點了牛肉麵:150元\n",
      "餐點一共150元\n"
     ]
    }
   ],
   "source": [
    "# in ,not in 練習\n",
    "money=0\n",
    "#for x in range(3):\n",
    "while True: \n",
    "    menu={\"飯\":{\"豬排\":100, \"雞排\":110},\n",
    "        \"麵\":{\"咖哩\":90,\"排骨\":100,\"牛肉\":150}}\n",
    "    order = input(\"請問要點飯或麵?,N為結束點餐\")\n",
    "    if order in menu:\n",
    "        order2 = input(f\"請問要飯吃那一樣餐點{menu[order]}\")\n",
    "        print(f\"您點了{order2}{order}:{menu[order][order2]}元\")\n",
    "        money += menu[order][order2]\n",
    "    else:\n",
    "        break\n",
    "print(f\"餐點一共{money}元\")"
   ]
  },
  {
   "cell_type": "code",
   "execution_count": 32,
   "metadata": {},
   "outputs": [
    {
     "name": "stdout",
     "output_type": "stream",
     "text": [
      "OK\n"
     ]
    }
   ],
   "source": [
    "# def練習\n",
    "def add():\n",
    "    print(\"OK\")\n",
    "add()"
   ]
  },
  {
   "cell_type": "code",
   "execution_count": 33,
   "metadata": {},
   "outputs": [
    {
     "name": "stdout",
     "output_type": "stream",
     "text": [
      "4\n"
     ]
    }
   ],
   "source": [
    "# def練習\n",
    "def add(x,y):\n",
    "    print(x+y)\n",
    "add(1,3)"
   ]
  },
  {
   "cell_type": "code",
   "execution_count": 34,
   "metadata": {},
   "outputs": [
    {
     "data": {
      "text/plain": [
       "4"
      ]
     },
     "execution_count": 34,
     "metadata": {},
     "output_type": "execute_result"
    }
   ],
   "source": [
    "# def練習 參數及return\n",
    "def add(x,y):\n",
    "    return(x+y)\n",
    "add(1,3) "
   ]
  },
  {
   "cell_type": "code",
   "execution_count": 35,
   "metadata": {},
   "outputs": [
    {
     "name": "stdout",
     "output_type": "stream",
     "text": [
      "11 12 13\n"
     ]
    }
   ],
   "source": [
    "def ice(x):\n",
    "    return x+1,x+2,x+3\n",
    "a,b,c = ice(10)\n",
    "print(a,b,c)"
   ]
  },
  {
   "cell_type": "code",
   "execution_count": 37,
   "metadata": {},
   "outputs": [
    {
     "name": "stdout",
     "output_type": "stream",
     "text": [
      "13\n"
     ]
    }
   ],
   "source": [
    "def ice(x):\n",
    "    return x+1,x+2,x+3\n",
    "a = ice(10)\n",
    "print(a[2])"
   ]
  },
  {
   "cell_type": "code",
   "execution_count": 38,
   "metadata": {},
   "outputs": [
    {
     "name": "stdout",
     "output_type": "stream",
     "text": [
      "您點了豬排飯:100元\n",
      "您點了牛肉麵:150元\n",
      "餐點一共250元\n"
     ]
    }
   ],
   "source": [
    "# in ,not in 練習\n",
    "money=0\n",
    "#for x in range(3):\n",
    "def orderX(O1):\n",
    "    O2 = input(f\"請問要飯吃那一樣餐點{menu[O1]}\")\n",
    "    print(f\"您點了{O2}{O1}:{menu[O1][O2]}元\")\n",
    "    return menu[O1][O2]\n",
    "while True: \n",
    "    menu={\"飯\":{\"豬排\":100, \"雞排\":110},\n",
    "        \"麵\":{\"咖哩\":90,\"排骨\":100,\"牛肉\":150}}\n",
    "    order = input(\"請問要點飯或麵?,N為結束點餐\")\n",
    "    if order in menu:\n",
    "        money = money + orderX(order)\n",
    "    else:\n",
    "        end = input(\"確定結束點餐，請輸入N\")\n",
    "        if end == \"N\" or end ==\"n\":\n",
    "            break\n",
    "print(f\"餐點一共{money}元\")"
   ]
  },
  {
   "cell_type": "code",
   "execution_count": 42,
   "metadata": {},
   "outputs": [
    {
     "name": "stdout",
     "output_type": "stream",
     "text": [
      "2098\n"
     ]
    }
   ],
   "source": [
    "a=[123,548,234,760,2,431]\n",
    "m=0\n",
    "for x in range(6):\n",
    "    m += a[x]\n",
    "print(m)"
   ]
  },
  {
   "cell_type": "code",
   "execution_count": 41,
   "metadata": {},
   "outputs": [
    {
     "name": "stdout",
     "output_type": "stream",
     "text": [
      "2098\n"
     ]
    }
   ],
   "source": [
    "a=[123,548,234,760,2,431]\n",
    "m=0\n",
    "for x in a:\n",
    "    m += x\n",
    "print(m)"
   ]
  },
  {
   "cell_type": "code",
   "execution_count": 43,
   "metadata": {},
   "outputs": [
    {
     "name": "stdout",
     "output_type": "stream",
     "text": [
      "2098\n"
     ]
    }
   ],
   "source": [
    "a=[123,548,234,760,2,431]\n",
    "m=0\n",
    "'''\n",
    "for x in a:\n",
    "    m += x\n",
    "'''\n",
    "print(sum(a))"
   ]
  },
  {
   "cell_type": "code",
   "execution_count": 47,
   "metadata": {},
   "outputs": [
    {
     "name": "stdout",
     "output_type": "stream",
     "text": [
      "{'豬排': 100, '雞排': 110}\n",
      "{'牛肉': 150, '排骨': 130}\n"
     ]
    }
   ],
   "source": [
    "menu = {\"飯\":{'豬排':100,'雞排':110},\n",
    "        \"麵\":{\"牛肉\":150,\"排骨\":130}}\n",
    "for x in menu:\n",
    "    print(menu[x])\n"
   ]
  },
  {
   "cell_type": "code",
   "execution_count": 52,
   "metadata": {},
   "outputs": [
    {
     "name": "stdout",
     "output_type": "stream",
     "text": [
      "100\n",
      "110\n",
      "150\n",
      "130\n"
     ]
    }
   ],
   "source": [
    "menu = {\"飯\":{'豬排':100,'雞排':110},\n",
    "        \"麵\":{\"牛肉\":150,\"排骨\":130}}\n",
    "for x in menu:\n",
    "    for y in menu[x]:\n",
    "        print(f\"{menu[x][y]}\")\n",
    "\n",
    "    "
   ]
  },
  {
   "cell_type": "code",
   "execution_count": 64,
   "metadata": {},
   "outputs": [
    {
     "name": "stdout",
     "output_type": "stream",
     "text": [
      "8192\n"
     ]
    }
   ],
   "source": [
    "total = 0\n",
    "def add(x,y):\n",
    "    return(x+y)\n",
    "k=0\n",
    "ans = 1\n",
    "ans2 = 1\n",
    "while k < 13 : \n",
    "    k += 1\n",
    "    ans2=add(ans,ans2)\n",
    "    ans = ans2\n",
    "print(ans2)\n"
   ]
  },
  {
   "cell_type": "code",
   "execution_count": 58,
   "metadata": {},
   "outputs": [
    {
     "data": {
      "text/plain": [
       "[1, 1, 2, 3, 5, 8, 13, 21, 34, 55, 89, 144, 233, 377, 610]"
      ]
     },
     "execution_count": 58,
     "metadata": {},
     "output_type": "execute_result"
    }
   ],
   "source": [
    "# 費氏數列\n",
    "n1=int(input())\n",
    "n2=int(input())\n",
    "n3=int(input())\n",
    "num=[n1,n2]\n",
    "for n in range(n3-2):\n",
    "    num.append(num[n]+num[n+1])\n",
    "num\n"
   ]
  },
  {
   "cell_type": "code",
   "execution_count": 60,
   "metadata": {},
   "outputs": [
    {
     "data": {
      "text/plain": [
       "[1, 1, 2, 3, 5, 8, 13, 21, 34, 55, 89, 144, 233, 377, 610]"
      ]
     },
     "execution_count": 60,
     "metadata": {},
     "output_type": "execute_result"
    }
   ],
   "source": [
    "n3=int(input())\n",
    "num=[int(input()),int(input())]\n",
    "for n in range(n3-2):\n",
    "    num.append(num[n]+num[n+1])\n",
    "num"
   ]
  },
  {
   "cell_type": "code",
   "execution_count": 63,
   "metadata": {},
   "outputs": [
    {
     "data": {
      "text/plain": [
       "1596"
      ]
     },
     "execution_count": 63,
     "metadata": {},
     "output_type": "execute_result"
    }
   ],
   "source": [
    "num=[int(input()),int(input())]\n",
    "for n in range(int(input())-2):\n",
    "    num.append(num[n]+num[n+1])\n",
    "sum(num)\n"
   ]
  },
  {
   "cell_type": "code",
   "execution_count": 66,
   "metadata": {},
   "outputs": [
    {
     "name": "stdout",
     "output_type": "stream",
     "text": [
      "1 1\n",
      "0 2\n",
      "3508答對了\n"
     ]
    }
   ],
   "source": [
    "ans=\"3508\"\n",
    "\n",
    "while True:\n",
    "    A=0\n",
    "    B=0\n",
    "    K = input()\n",
    "    for i in range(4):\n",
    "        for j in range(4):\n",
    "            if K[i] == ans[j]:\n",
    "                if i == j:\n",
    "                    A += 1\n",
    "                else:\n",
    "                    B += 1\n",
    "    if A==4:\n",
    "        print(f\"{K}答對了\")\n",
    "        break\n",
    "    else:\n",
    "        print(A,B)\n"
   ]
  },
  {
   "cell_type": "code",
   "execution_count": 68,
   "metadata": {},
   "outputs": [
    {
     "name": "stdout",
     "output_type": "stream",
     "text": [
      "4 0\n"
     ]
    }
   ],
   "source": [
    "ans = \"1234\"\n",
    "guess=input()\n",
    "A=0\n",
    "B=0\n",
    "for n in range(4):\n",
    "    if guess[n] in ans:\n",
    "        if guess[n] == ans[n]:\n",
    "            A += 1\n",
    "        else:\n",
    "            B += 1\n",
    "print(A,B)"
   ]
  },
  {
   "cell_type": "code",
   "execution_count": 70,
   "metadata": {},
   "outputs": [
    {
     "name": "stdout",
     "output_type": "stream",
     "text": [
      "Win\n"
     ]
    }
   ],
   "source": [
    "ans = \"1234\"\n",
    "guess=input()\n",
    "A=0\n",
    "B=0\n",
    "for n in range(4):\n",
    "    if guess[n] == ans[n]:\n",
    "        A += 1\n",
    "    elif guess[n] in ans:\n",
    "        B += 1\n",
    "if A==4:\n",
    "    print(\"Win\")    \n",
    "else:    \n",
    "    print(A,B)"
   ]
  },
  {
   "cell_type": "code",
   "execution_count": 71,
   "metadata": {},
   "outputs": [
    {
     "data": {
      "text/plain": [
       "1"
      ]
     },
     "execution_count": 71,
     "metadata": {},
     "output_type": "execute_result"
    }
   ],
   "source": [
    "ans = \"4567\"\n",
    "ans.index(\"5\")"
   ]
  },
  {
   "cell_type": "code",
   "execution_count": 72,
   "metadata": {},
   "outputs": [
    {
     "ename": "ValueError",
     "evalue": "substring not found",
     "output_type": "error",
     "traceback": [
      "\u001b[1;31m---------------------------------------------------------------------------\u001b[0m",
      "\u001b[1;31mValueError\u001b[0m                                Traceback (most recent call last)",
      "Cell \u001b[1;32mIn[72], line 2\u001b[0m\n\u001b[0;32m      1\u001b[0m ans \u001b[38;5;241m=\u001b[39m \u001b[38;5;124m\"\u001b[39m\u001b[38;5;124m4567\u001b[39m\u001b[38;5;124m\"\u001b[39m\n\u001b[1;32m----> 2\u001b[0m \u001b[43mans\u001b[49m\u001b[38;5;241;43m.\u001b[39;49m\u001b[43mindex\u001b[49m\u001b[43m(\u001b[49m\u001b[38;5;124;43m\"\u001b[39;49m\u001b[38;5;124;43m8\u001b[39;49m\u001b[38;5;124;43m\"\u001b[39;49m\u001b[43m)\u001b[49m\n",
      "\u001b[1;31mValueError\u001b[0m: substring not found"
     ]
    }
   ],
   "source": [
    "ans = \"4567\"\n",
    "ans.index(\"8\")  #超出範圍，出現錯誤，可使用try ... except方式避免"
   ]
  },
  {
   "cell_type": "code",
   "execution_count": 73,
   "metadata": {},
   "outputs": [
    {
     "name": "stdout",
     "output_type": "stream",
     "text": [
      "Not found\n"
     ]
    }
   ],
   "source": [
    "# try ... except\n",
    "ans = \"4567\"\n",
    "try:\n",
    "    ans.index(\"8\")\n",
    "except:\n",
    "    print(\"Not found\")"
   ]
  },
  {
   "cell_type": "code",
   "execution_count": 7,
   "metadata": {},
   "outputs": [
    {
     "name": "stdout",
     "output_type": "stream",
     "text": [
      "0 3\n",
      "2 0\n",
      "0 4\n"
     ]
    },
    {
     "ename": "IndexError",
     "evalue": "string index out of range",
     "output_type": "error",
     "traceback": [
      "\u001b[1;31m---------------------------------------------------------------------------\u001b[0m",
      "\u001b[1;31mIndexError\u001b[0m                                Traceback (most recent call last)",
      "Cell \u001b[1;32mIn[7], line 22\u001b[0m\n\u001b[0;32m     20\u001b[0m         \u001b[38;5;28mprint\u001b[39m(A,B)\n\u001b[0;32m     21\u001b[0m         game()  \u001b[38;5;66;03m#自己呼叫自己\u001b[39;00m\n\u001b[1;32m---> 22\u001b[0m \u001b[43mgame\u001b[49m\u001b[43m(\u001b[49m\u001b[43m)\u001b[49m\n",
      "Cell \u001b[1;32mIn[7], line 21\u001b[0m, in \u001b[0;36mgame\u001b[1;34m()\u001b[0m\n\u001b[0;32m     19\u001b[0m \u001b[38;5;28;01melse\u001b[39;00m:    \n\u001b[0;32m     20\u001b[0m     \u001b[38;5;28mprint\u001b[39m(A,B)\n\u001b[1;32m---> 21\u001b[0m     \u001b[43mgame\u001b[49m\u001b[43m(\u001b[49m\u001b[43m)\u001b[49m\n",
      "Cell \u001b[1;32mIn[7], line 21\u001b[0m, in \u001b[0;36mgame\u001b[1;34m()\u001b[0m\n\u001b[0;32m     19\u001b[0m \u001b[38;5;28;01melse\u001b[39;00m:    \n\u001b[0;32m     20\u001b[0m     \u001b[38;5;28mprint\u001b[39m(A,B)\n\u001b[1;32m---> 21\u001b[0m     \u001b[43mgame\u001b[49m\u001b[43m(\u001b[49m\u001b[43m)\u001b[49m\n",
      "Cell \u001b[1;32mIn[7], line 21\u001b[0m, in \u001b[0;36mgame\u001b[1;34m()\u001b[0m\n\u001b[0;32m     19\u001b[0m \u001b[38;5;28;01melse\u001b[39;00m:    \n\u001b[0;32m     20\u001b[0m     \u001b[38;5;28mprint\u001b[39m(A,B)\n\u001b[1;32m---> 21\u001b[0m     \u001b[43mgame\u001b[49m\u001b[43m(\u001b[49m\u001b[43m)\u001b[49m\n",
      "Cell \u001b[1;32mIn[7], line 8\u001b[0m, in \u001b[0;36mgame\u001b[1;34m()\u001b[0m\n\u001b[0;32m      6\u001b[0m B\u001b[38;5;241m=\u001b[39m\u001b[38;5;241m0\u001b[39m\n\u001b[0;32m      7\u001b[0m \u001b[38;5;28;01mfor\u001b[39;00m n \u001b[38;5;129;01min\u001b[39;00m \u001b[38;5;28mrange\u001b[39m(\u001b[38;5;241m4\u001b[39m):\n\u001b[1;32m----> 8\u001b[0m     \u001b[38;5;28;01mif\u001b[39;00m \u001b[43mguess\u001b[49m\u001b[43m[\u001b[49m\u001b[43mn\u001b[49m\u001b[43m]\u001b[49m \u001b[38;5;241m==\u001b[39m ans[n]:\n\u001b[0;32m      9\u001b[0m         A \u001b[38;5;241m+\u001b[39m\u001b[38;5;241m=\u001b[39m \u001b[38;5;241m1\u001b[39m\n\u001b[0;32m     10\u001b[0m     \u001b[38;5;28;01melse\u001b[39;00m:\n\u001b[0;32m     11\u001b[0m         \u001b[38;5;66;03m# 使用 try ... except方式處理\u001b[39;00m\n",
      "\u001b[1;31mIndexError\u001b[0m: string index out of range"
     ]
    }
   ],
   "source": [
    "# 遞迴\n",
    "ans = \"1234\"\n",
    "def game():\n",
    "    guess=input()\n",
    "    A=0\n",
    "    B=0\n",
    "    for n in range(4):\n",
    "        if guess[n] == ans[n]:\n",
    "            A += 1\n",
    "        else:\n",
    "            # 使用 try ... except方式處理\n",
    "            try:\n",
    "                ans.index(guess[n])\n",
    "                B += 1\n",
    "            except:\n",
    "                pass\n",
    "    if A==4:\n",
    "        print(\"Win\")    \n",
    "    else:    \n",
    "        print(A,B)\n",
    "        game()  #自己呼叫自己\n",
    "game()"
   ]
  },
  {
   "cell_type": "code",
   "execution_count": null,
   "metadata": {},
   "outputs": [],
   "source": [
    "# 遞迴\n",
    "ans = \"1234\"\n",
    "def game():\n",
    "    guess=input()\n",
    "    A=0\n",
    "    B=0\n",
    "    for n in range(4):\n",
    "        if guess[n] == ans[n]:\n",
    "            A += 1\n",
    "        elif guess[n] in ans:\n",
    "            B += 1\n",
    "    if A==4:\n",
    "        print(\"Win\")    \n",
    "    else:    \n",
    "        print(A,B)\n",
    "        game()  #自己如自己\n",
    "game()"
   ]
  },
  {
   "cell_type": "code",
   "execution_count": null,
   "metadata": {},
   "outputs": [],
   "source": []
  },
  {
   "cell_type": "code",
   "execution_count": 75,
   "metadata": {},
   "outputs": [
    {
     "name": "stdout",
     "output_type": "stream",
     "text": [
      "[0, 1, 2, 3, 4, 5, 6, 7, 8, 9]\n",
      "[0, 1, 2, 3, 5, 6, 7, 8, 9]\n"
     ]
    }
   ],
   "source": [
    "a=list(range(10))\n",
    "print(a)\n",
    "a.pop(4)\n",
    "print(a)"
   ]
  },
  {
   "cell_type": "code",
   "execution_count": 6,
   "metadata": {},
   "outputs": [
    {
     "name": "stdout",
     "output_type": "stream",
     "text": [
      "[3, 5, 6, 2]\n"
     ]
    }
   ],
   "source": [
    "# list、len\n",
    "import random\n",
    "a=list(range(10))\n",
    "s=[]\n",
    "\n",
    "for i in range(4):\n",
    "    b = random.randint(0,len(num)-1)\n",
    "    a.pop(b)\n",
    "    s.append(b)\n",
    "print(s)"
   ]
  },
  {
   "cell_type": "code",
   "execution_count": 88,
   "metadata": {},
   "outputs": [
    {
     "name": "stdout",
     "output_type": "stream",
     "text": [
      "2340\n"
     ]
    }
   ],
   "source": [
    "# string、len\n",
    "num=list(range(10))\n",
    "ans=\"\"\n",
    "for x in range(4):\n",
    "    n=random.randint(0,len(num)-1)\n",
    "    ans=ans+str(num[n])\n",
    "    num.pop(n)\n",
    "print(ans)"
   ]
  },
  {
   "cell_type": "code",
   "execution_count": null,
   "metadata": {},
   "outputs": [],
   "source": [
    "ans=\"1234\"\n",
    "def game():\n",
    "    guess=input()\n",
    "    A=0\n",
    "    B=0\n",
    "    for n in range(4):\n",
    "        if guess[n] == ans[n]:\n",
    "            A=A+1\n",
    "        elif guess[n] in ans:\n",
    "            B=B+1\n",
    "    if A==4:\n",
    "        print(\"WIN\")\n",
    "    else:\n",
    "        print(A,B)\n",
    "        game()\n",
    "game()"
   ]
  },
  {
   "cell_type": "code",
   "execution_count": 4,
   "metadata": {},
   "outputs": [
    {
     "name": "stdout",
     "output_type": "stream",
     "text": [
      "8469\n",
      "WIN\n",
      "over\n",
      "2109\n",
      "3 1\n",
      "None\n",
      "WIN\n",
      "over\n"
     ]
    }
   ],
   "source": [
    "# 使用return\n",
    "import random\n",
    "ans=\"\"\n",
    "def ansX():\n",
    "    num=list(range(10))\n",
    "    global ans\n",
    "    ans=\"\"\n",
    "    for x in range(4):\n",
    "        n=random.randint(0,len(num)-1)\n",
    "        ans=ans+str(num[n])\n",
    "        num.pop(n)\n",
    "    print(ans)\n",
    "\n",
    "def game():\n",
    "    global ans\n",
    "    guess=input()\n",
    "    A=0\n",
    "    B=0\n",
    "    for n in range(4):\n",
    "        if guess[n] == ans[n]:\n",
    "            A=A+1\n",
    "        elif guess[n] in ans:\n",
    "            B=B+1\n",
    "    if A==4:\n",
    "        print(\"WIN\")\n",
    "        return(\"over\")\n",
    "    else:\n",
    "        print(A,B)\n",
    "ansX()\n",
    "while True:\n",
    "    over1=game()\n",
    "    if over1 == \"over\":\n",
    "            kk = input(\"是否繼續Y/N\")\n",
    "            if kk == \"N\" or kk == \"n\":\n",
    "               break\n",
    "            else:\n",
    "                over1=\"\"\n",
    "                ansX()"
   ]
  },
  {
   "cell_type": "code",
   "execution_count": 90,
   "metadata": {},
   "outputs": [
    {
     "name": "stdout",
     "output_type": "stream",
     "text": [
      "6013\n",
      "WIN\n",
      "4015\n",
      "WIN\n"
     ]
    }
   ],
   "source": [
    "#使用遞迴\n",
    "import random\n",
    "ans=\"\"\n",
    "def ansX():\n",
    "    global ans\n",
    "    ans=\"\"\n",
    "    num=list(range(10))    \n",
    "    for x in range(4):\n",
    "        n=random.randint(0,len(num)-1)\n",
    "        ans=ans+str(num[n])\n",
    "        num.pop(n)\n",
    "    print(ans)\n",
    "def game():\n",
    "    guess=input()\n",
    "    A=0\n",
    "    B=0\n",
    "    for n in range(4):\n",
    "        if guess[n] == ans[n]:\n",
    "            A=A+1\n",
    "        elif guess[n] in ans:\n",
    "            B=B+1\n",
    "    if A==4:\n",
    "        print(\"WIN\")\n",
    "        again=input(\"要繼續請輸入Y，停止請輸入N\")\n",
    "        if again==\"Y\":\n",
    "            ansX()\n",
    "            game()\n",
    "\n",
    "    else:\n",
    "        print(A,B)\n",
    "        game()\n",
    "ansX()\n",
    "game()"
   ]
  },
  {
   "cell_type": "code",
   "execution_count": 9,
   "metadata": {},
   "outputs": [
    {
     "name": "stdout",
     "output_type": "stream",
     "text": [
      "華氏溫度為89.6\n",
      "攝氏溫度為0.0\n"
     ]
    }
   ],
   "source": [
    "# 溫度轉換練習\n",
    "def Cx():\n",
    "    #溫度轉換\n",
    "    C=int(input(\"請輸入攝氏溫度:\"))\n",
    "    F=(9/5)*C+32\n",
    "    print(f\"華氏溫度為{F}\")\n",
    "\n",
    "def Fx():\n",
    "    #溫度轉換\n",
    "    F=int(input(\"請輸入華氏溫度:\"))\n",
    "    C=(F-32)*5/9\n",
    "    print(f\"攝氏溫度為{C}\")\n",
    "Cx()\n",
    "Fx()\n"
   ]
  },
  {
   "cell_type": "code",
   "execution_count": 72,
   "metadata": {},
   "outputs": [
    {
     "name": "stdout",
     "output_type": "stream",
     "text": [
      "[8, 1, 5, 7, 0, 4, 3, 6, 2]\n"
     ]
    }
   ],
   "source": [
    "# shuffle()方法將序列的所有元素隨機排序\n",
    "# shuffle()是不能直接存取的，需要匯入random 模組，然後透過random 靜態物件呼叫該方法\n",
    "import random\n",
    "a=[0,1,2,3,4,5,6,7,8]\n",
    "random.shuffle(a)\n",
    "print(a)"
   ]
  },
  {
   "cell_type": "code",
   "execution_count": 66,
   "metadata": {},
   "outputs": [
    {
     "name": "stdout",
     "output_type": "stream",
     "text": [
      "[7, 1, 0, 2, 4, 6, 8, 3, 5]\n",
      "7102\n"
     ]
    }
   ],
   "source": [
    "import random\n",
    "random.randint(0,9)\n",
    "a=[0,1,2,3,4,5,6,7,8]\n",
    "random.shuffle(a)\n",
    "print(a)\n",
    "ans=str(a[0])+str(a[1])+str(a[2])+str(a[3])\n",
    "print(ans)"
   ]
  },
  {
   "cell_type": "code",
   "execution_count": 60,
   "metadata": {},
   "outputs": [
    {
     "name": "stdout",
     "output_type": "stream",
     "text": [
      "5885\n"
     ]
    }
   ],
   "source": [
    "# 使用亂數,取4個數值，數值可重覆\n",
    "import random\n",
    "num=\"\"\n",
    "while 1:\n",
    "    num=num+str(random.randint(0,9))\n",
    "    if len(num)==4:\n",
    "        break\n",
    "print(num)"
   ]
  },
  {
   "cell_type": "code",
   "execution_count": 51,
   "metadata": {},
   "outputs": [
    {
     "name": "stdout",
     "output_type": "stream",
     "text": [
      "1709\n"
     ]
    }
   ],
   "source": [
    "# 使用亂數,取4個數值，數值不重覆\n",
    "import random\n",
    "num=\"\"\n",
    "n=0\n",
    "while 1:\n",
    "    n += 1\n",
    "    s=str(random.randint(0,9))\n",
    "    if s not in num:\n",
    "        num=num+s\n",
    "    if len(num)==4:\n",
    "        break\n",
    "print(num)"
   ]
  },
  {
   "cell_type": "code",
   "execution_count": 39,
   "metadata": {},
   "outputs": [
    {
     "name": "stdout",
     "output_type": "stream",
     "text": [
      "5\n"
     ]
    }
   ],
   "source": [
    "# 使用亂數,每次取值時可能會執行超過4次\n",
    "import random\n",
    "num=\"\"\n",
    "n=0\n",
    "while 1:\n",
    "    n += 1\n",
    "    s=str(random.randint(0,9))\n",
    "    if s not in num:\n",
    "        num=num+s\n",
    "    if len(num)==4:\n",
    "        break\n",
    "print(n)\n"
   ]
  },
  {
   "cell_type": "code",
   "execution_count": 34,
   "metadata": {},
   "outputs": [
    {
     "name": "stdout",
     "output_type": "stream",
     "text": [
      "[0, 1, 2, 3, 4, 5, 6, 7, 8, 9]\n",
      "[0, 1, 2, 3, 5, 6, 7, 8, 9]\n"
     ]
    }
   ],
   "source": [
    "# pop\n",
    "a=list(range(10))\n",
    "print(a)\n",
    "a.pop(4)\n",
    "print(a)"
   ]
  },
  {
   "cell_type": "code",
   "execution_count": 24,
   "metadata": {},
   "outputs": [
    {
     "name": "stdout",
     "output_type": "stream",
     "text": [
      "3501\n"
     ]
    }
   ],
   "source": [
    "# 使用亂數，取出不重覆的數字\n",
    "import random\n",
    "num=list(range(10))\n",
    "ans=\"\"\n",
    "for x in range(4):\n",
    "    n=random.randint(0,len(num)-1)\n",
    "    ans=ans+str(num[n])\n",
    "    num.pop(n)\n",
    "print(ans)"
   ]
  },
  {
   "cell_type": "markdown",
   "metadata": {},
   "source": [
    "Python dictionary字典教學（迴圈，取值，更新，新增，刪除，keys，values）\n",
    "https://python-ecw.com/2023/02/16/dict-tutorial/"
   ]
  },
  {
   "cell_type": "code",
   "execution_count": 32,
   "metadata": {},
   "outputs": [
    {
     "name": "stdout",
     "output_type": "stream",
     "text": [
      "飯 {'豬排': 100, '雞排': 110}\n",
      "麵 {'牛肉': 150, '排骨': 130}\n"
     ]
    },
    {
     "ename": "TypeError",
     "evalue": "'dict_items' object is not subscriptable",
     "output_type": "error",
     "traceback": [
      "\u001b[1;31m---------------------------------------------------------------------------\u001b[0m",
      "\u001b[1;31mTypeError\u001b[0m                                 Traceback (most recent call last)",
      "Cell \u001b[1;32mIn[32], line 7\u001b[0m\n\u001b[0;32m      5\u001b[0m \u001b[38;5;28;01mfor\u001b[39;00m key, value \u001b[38;5;129;01min\u001b[39;00m a:\n\u001b[0;32m      6\u001b[0m     \u001b[38;5;28mprint\u001b[39m(key, value)\n\u001b[1;32m----> 7\u001b[0m \u001b[38;5;28mprint\u001b[39m(\u001b[43ma\u001b[49m\u001b[43m[\u001b[49m\u001b[38;5;241;43m0\u001b[39;49m\u001b[43m]\u001b[49m)\n",
      "\u001b[1;31mTypeError\u001b[0m: 'dict_items' object is not subscriptable"
     ]
    }
   ],
   "source": [
    "# dictionary 使用 .items()即可使用list方式呼叫\n",
    "menu = {\"飯\":{\"豬排\":100,\"雞排\":110},\n",
    "        \"麵\":{\"牛肉\":150,\"排骨\":130}}\n",
    "a = menu.items()\n",
    "for key, value in a:\n",
    "    print(key, value)\n",
    "print(a[0]) #為何會譪誤"
   ]
  },
  {
   "cell_type": "code",
   "execution_count": 7,
   "metadata": {},
   "outputs": [
    {
     "name": "stdout",
     "output_type": "stream",
     "text": [
      "aaaaaaaaaaa@bbbbbbbbbb@ccccccccccAAAAAAAAAA,BBBBBBBBBBBBB CCCCCCCCCCCCCC\n"
     ]
    }
   ],
   "source": [
    "#print函數，利用end='字元' 接續在同一行\n",
    "print(\"aaaaaaaaaaa@bbbbbbbbbb@cccccccccc\",end=\"\")\n",
    "print(\"AAAAAAAAAA,BBBBBBBBBBBBB CCCCCCCCCCCCCC\")"
   ]
  },
  {
   "cell_type": "code",
   "execution_count": 1,
   "metadata": {},
   "outputs": [
    {
     "name": "stdout",
     "output_type": "stream",
     "text": [
      "AAAAA\n",
      "BBBBB\n"
     ]
    }
   ],
   "source": [
    "#換行 \\n\n",
    "print(\"AAAAA\\nBBBBB\")"
   ]
  },
  {
   "cell_type": "markdown",
   "metadata": {},
   "source": [
    "# Q:老鼠迷宮練習題\n",
    "#2為牆壁,0為道路,1為起點,4為終點\n",
    "maze = [[2, 2, 2, 2, 2, 2, 2, 2],\n",
    "        [2, 0, 0, 0, 0, 0, 0, 2],\n",
    "        [2, 0, 2, 0, 2, 0, 2, 2],\n",
    "        [2, 0, 0, 2, 0, 0, 0, 2],\n",
    "        [2, 2, 0, 2, 2, 2, 0, 2],\n",
    "        [2, 1, 0, 2, 4, 2, 0, 2],\n",
    "        [2, 1, 0, 2, 0, 0, 0, 2],\n",
    "        [2, 2, 2, 2, 2, 2, 2, 2]]"
   ]
  },
  {
   "cell_type": "code",
   "execution_count": 18,
   "metadata": {},
   "outputs": [
    {
     "name": "stdout",
     "output_type": "stream",
     "text": [
      "['右']\n",
      "['右', '上']\n",
      "['右', '上', '上']\n",
      "['右', '上', '上', '上']\n",
      "['右', '上', '上', '上', '左']\n",
      "['右', '上', '上', '上', '左', '上']\n",
      "['右', '上', '上', '上', '左', '上', '上']\n",
      "['右', '上', '上', '上', '左', '上', '上', '右']\n",
      "['右', '上', '上', '上', '左', '上', '上', '右', '右']\n",
      "['右', '上', '上', '上', '左', '上', '上', '右', '右', '下']\n",
      "退回前一位置\n",
      "[0, 3]\n",
      "['右', '上', '上', '上', '左', '上', '上', '右', '右', '右']\n",
      "['右', '上', '上', '上', '左', '上', '上', '右', '右', '右', '右']\n",
      "['右', '上', '上', '上', '左', '上', '上', '右', '右', '右', '右', '下']\n",
      "['右', '上', '上', '上', '左', '上', '上', '右', '右', '右', '右', '下', '下']\n",
      "['右', '上', '上', '上', '左', '上', '上', '右', '右', '右', '右', '下', '下', '左']\n",
      "退回前一位置\n",
      "[1, 3]\n",
      "['右', '上', '上', '上', '左', '上', '上', '右', '右', '右', '右', '下', '下', '右']\n",
      "['右', '上', '上', '上', '左', '上', '上', '右', '右', '右', '右', '下', '下', '右', '下']\n",
      "['右', '上', '上', '上', '左', '上', '上', '右', '右', '右', '右', '下', '下', '右', '下', '下']\n",
      "['右', '上', '上', '上', '左', '上', '上', '右', '右', '右', '右', '下', '下', '右', '下', '下', '下']\n",
      "['右', '上', '上', '上', '左', '上', '上', '右', '右', '右', '右', '下', '下', '右', '下', '下', '下', '左']\n",
      "['右', '上', '上', '上', '左', '上', '上', '右', '右', '右', '右', '下', '下', '右', '下', '下', '下', '左', '左']\n",
      "['右', '上', '上', '上', '左', '上', '上', '右', '右', '右', '右', '下', '下', '右', '下', '下', '下', '左', '左', '上']\n",
      "抵達終點\n"
     ]
    }
   ],
   "source": [
    "# Ans:老鼠迷宮解答\n",
    "maze = [[2, 2, 2, 2, 2, 2, 2, 2],\n",
    "        [2, 0, 0, 0, 0, 0, 0, 2],\n",
    "        [2, 0, 2, 0, 2, 0, 2, 2],\n",
    "        [2, 0, 0, 2, 0, 0, 0, 2],\n",
    "        [2, 2, 0, 2, 2, 2, 0, 2],\n",
    "        [2, 2, 0, 2, 4, 2, 0, 2],\n",
    "        [2, 1, 0, 2, 0, 0, 0, 2],\n",
    "        [2, 2, 2, 2, 2, 2, 2, 2]]\n",
    "#設定上、下、左、右\n",
    "udlr={\"上\":1,\"下\":0,\"左\":3,\"右\":2}\n",
    "rudlr={\"上\":0,\"下\":1,\"左\":2,\"右\":3}\n",
    "udlrX=[0,1,2,3]\n",
    "#設定起始位置\n",
    "x=1\n",
    "y=6\n",
    "\n",
    "#預設end結束初始值\n",
    "end=5\n",
    "#預設前一步及目前位置\n",
    "be=[y,x]\n",
    "now=[y,x]\n",
    "#設定移動方向\n",
    "pathX=[]\n",
    "order = \"\"\n",
    "\n",
    "def printX():\n",
    "    ''' #除錯用\n",
    "    print(order)\n",
    "    print(be)\n",
    "    print(now)\n",
    "    print(udlrX)\n",
    "    print(udlr[order])\n",
    "    '''\n",
    "    print(pathX)\n",
    "\n",
    "while True:\n",
    "    #判斷移動方向及是否結束\n",
    "    order = \"\"\n",
    "    for k in udlrX:\n",
    "        if k == 0  and (maze[y][x] >= maze[y-1][x] or maze[y-1][x] == 4):\n",
    "            order = \"上\"\n",
    "            end = maze[y-1][x]\n",
    "            be = now\n",
    "            y = y-1\n",
    "        elif k == 1 and (maze[y][x] >= maze[y+1][x] or maze[y+1][x] == 4):\n",
    "            end = maze[y+1][x]\n",
    "            order = \"下\"\n",
    "            be = now\n",
    "            y = y+1\n",
    "        elif k == 2 and (maze[y][x] >= maze[y][x-1] or maze[y][x-1] == 4 ): \n",
    "            end = maze[y][x-1]\n",
    "            order = \"左\"\n",
    "            be = now\n",
    "            x = x-1\n",
    "        elif k == 3 and (maze[y][x] >= maze[y][x+1] or maze[y][x+1] == 4):\n",
    "            end = maze[y][x+1]\n",
    "            order = \"右\"\n",
    "            be = now\n",
    "            x = x+1\n",
    "        if order != \"\":\n",
    "            now = [y,x]\n",
    "            udlrX=[0,1,2,3]\n",
    "            pathX.append(order)\n",
    "            udlrX.remove(udlr[order])\n",
    "            printX()\n",
    "            break\n",
    "\n",
    "    #結束\n",
    "    if end == 4:\n",
    "        now = [y,x]\n",
    "    #   printX()\n",
    "        print(\"抵達終點\")\n",
    "        break\n",
    "\n",
    "    #移動錯誤時\n",
    "    if order == \"\":\n",
    "        print(\"退回前一位置\")\n",
    "        udlrX=[0,1,2,3]\n",
    "        m = now[0] - be[0]\n",
    "        n = now[1] - be[1]\n",
    "        now = be\n",
    "        x=now[1]\n",
    "        y=now[0]\n",
    "        udlrX.remove(rudlr[pathX[-1]])\n",
    "        pathX.pop(-1)\n",
    "        order=pathX[-1]\n",
    "        udlrX.remove(udlr[pathX[-1]])\n",
    "        print(udlrX)\n",
    "        order=\"\""
   ]
  }
 ],
 "metadata": {
  "kernelspec": {
   "display_name": "Python 3",
   "language": "python",
   "name": "python3"
  },
  "language_info": {
   "codemirror_mode": {
    "name": "ipython",
    "version": 3
   },
   "file_extension": ".py",
   "mimetype": "text/x-python",
   "name": "python",
   "nbconvert_exporter": "python",
   "pygments_lexer": "ipython3",
   "version": "3.11.8"
  }
 },
 "nbformat": 4,
 "nbformat_minor": 2
}
