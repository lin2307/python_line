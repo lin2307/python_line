{
 "cells": [
  {
   "cell_type": "code",
   "execution_count": 15,
   "metadata": {},
   "outputs": [
    {
     "data": {
      "text/plain": [
       "'{\"status\":200,\"message\":\"ok\"}'"
      ]
     },
     "execution_count": 15,
     "metadata": {},
     "output_type": "execute_result"
    }
   ],
   "source": [
    "#傳送 訊息及檔案圖片\n",
    "import requests\n",
    "\n",
    "# LINE Notify 權杖\n",
    "token = 'hmP9Bhw5SHJRUHx9smMcRmxRpybvBZMAlEDI1jr0IKN'\n",
    "\n",
    "# 要發送的訊息\n",
    "message = '機器人測試' \n",
    "d = { 'message': message}\n",
    "\n",
    "# 要傳送的圖片檔案\n",
    "i = open(\"C:/Users/smile/Downloads/12133.jpg\", 'rb')\n",
    "f = { 'imageFile': i }\n",
    "\n",
    "# HTTP 標頭參數與資料\n",
    "h = { \"Authorization\": \"Bearer \" + token }\n",
    "\n",
    "\n",
    "\n",
    "# 以 requests 發送 POST 請求\n",
    "re=requests.post(\"https://notify-api.line.me/api/notify\",\n",
    "    headers = h, data = d,files=f)\n",
    "re.text"
   ]
  },
  {
   "cell_type": "code",
   "execution_count": 16,
   "metadata": {},
   "outputs": [
    {
     "data": {
      "text/plain": [
       "'{\"status\":200,\"message\":\"ok\"}'"
      ]
     },
     "execution_count": 16,
     "metadata": {},
     "output_type": "execute_result"
    }
   ],
   "source": [
    "#傳送 貼圖\n",
    "import requests\n",
    "\n",
    "# LINE Notify 權杖\n",
    "token = 'hmP9Bhw5SHJRUHx9smMcRmxRpybvBZMAlEDI1jr0IKN'\n",
    "\n",
    "# 要發送的訊息\n",
    "#message = '機器人測試' \n",
    "sticker={\n",
    "  \"message\": '機器人測試',\n",
    "  #\"type\": \"sticker\",\n",
    "  \"stickerPackageId\": \"446\",\n",
    "  \"stickerId\": \"1988\"\n",
    "}\n",
    "\n",
    "# 要傳送的圖片檔案\n",
    "i = open(\"C:/Users/smile/Downloads/12133.jpg\", 'rb')\n",
    "f = { 'imageFile': i }\n",
    "\n",
    "# HTTP 標頭參數與資料\n",
    "h = { \"Authorization\": \"Bearer \" + token }\n",
    "\n",
    "# 以 requests 發送 POST 請求\n",
    "re=requests.post(\"https://notify-api.line.me/api/notify\",\n",
    "    headers = h, data = sticker,files=f)\n",
    "re.text"
   ]
  },
  {
   "cell_type": "code",
   "execution_count": 18,
   "metadata": {},
   "outputs": [
    {
     "name": "stdout",
     "output_type": "stream",
     "text": [
      " * Serving Flask app '__main__'\n",
      " * Debug mode: off\n"
     ]
    },
    {
     "name": "stderr",
     "output_type": "stream",
     "text": [
      "WARNING: This is a development server. Do not use it in a production deployment. Use a production WSGI server instead.\n",
      " * Running on http://127.0.0.1:3000\n",
      "Press CTRL+C to quit\n",
      "127.0.0.1 - - [31/Mar/2024 10:44:11] \"GET / HTTP/1.1\" 403 -\n",
      "127.0.0.1 - - [31/Mar/2024 10:44:11] \"GET /favicon.ico HTTP/1.1\" 404 -\n"
     ]
    },
    {
     "name": "stdout",
     "output_type": "stream",
     "text": [
      "None\n"
     ]
    }
   ],
   "source": []
  },
  {
   "cell_type": "code",
   "execution_count": 19,
   "metadata": {},
   "outputs": [
    {
     "name": "stdout",
     "output_type": "stream",
     "text": [
      " * Serving Flask app '__main__'\n",
      " * Debug mode: off\n"
     ]
    },
    {
     "name": "stderr",
     "output_type": "stream",
     "text": [
      "WARNING: This is a development server. Do not use it in a production deployment. Use a production WSGI server instead.\n",
      " * Running on http://127.0.0.1:3000\n",
      "Press CTRL+C to quit\n",
      "127.0.0.1 - - [31/Mar/2024 10:47:13] \"GET / HTTP/1.1\" 404 -\n",
      "127.0.0.1 - - [31/Mar/2024 10:47:25] \"GET /verify HTTP/1.1\" 200 -\n"
     ]
    },
    {
     "name": "stdout",
     "output_type": "stream",
     "text": [
      "驗證成功\n"
     ]
    },
    {
     "name": "stderr",
     "output_type": "stream",
     "text": [
      "127.0.0.1 - - [31/Mar/2024 10:47:51] \"GET / HTTP/1.1\" 404 -\n",
      "127.0.0.1 - - [31/Mar/2024 10:47:51] \"GET /favicon.ico HTTP/1.1\" 404 -\n",
      "127.0.0.1 - - [31/Mar/2024 10:48:01] \"GET /verify HTTP/1.1\" 200 -\n"
     ]
    },
    {
     "name": "stdout",
     "output_type": "stream",
     "text": [
      "驗證成功\n"
     ]
    }
   ],
   "source": [
    "#網頁\n",
    "from flask import Flask, request\n",
    "app = Flask(__name__)\n",
    "@app.route(\"/verify\",methods=[\"GET\"])\n",
    "def verify():\n",
    "    print(\"驗證成功\")\n",
    "    return 'ok',200\n",
    "if __name__ ==\"__main__\":\n",
    "    app.run(port=3000)"
   ]
  },
  {
   "cell_type": "code",
   "execution_count": 24,
   "metadata": {},
   "outputs": [
    {
     "name": "stdout",
     "output_type": "stream",
     "text": [
      " * Serving Flask app '__main__'\n",
      " * Debug mode: off\n"
     ]
    },
    {
     "name": "stderr",
     "output_type": "stream",
     "text": [
      "WARNING: This is a development server. Do not use it in a production deployment. Use a production WSGI server instead.\n",
      " * Running on http://127.0.0.1:3000\n",
      "Press CTRL+C to quit\n"
     ]
    },
    {
     "name": "stdout",
     "output_type": "stream",
     "text": [
      "驗證成功\n",
      "123\n"
     ]
    },
    {
     "name": "stderr",
     "output_type": "stream",
     "text": [
      "127.0.0.1 - - [31/Mar/2024 11:17:17] \"GET /verify/abc=123 HTTP/1.1\" 200 -\n"
     ]
    },
    {
     "name": "stdout",
     "output_type": "stream",
     "text": [
      "{\"status\":200,\"message\":\"ok\"}\n"
     ]
    }
   ],
   "source": [
    "#網頁 + Line\n",
    "import requests\n",
    "from flask import Flask, request\n",
    "app = Flask(__name__)\n",
    "\n",
    "#網頁要傳參數的用法\n",
    "@app.route(\"/verify/abc=<xxx>\",methods=[\"GET\"])\n",
    "def verify(xxx):\n",
    "\n",
    "#@app.route(\"/verify\",methods=[\"GET\"])\n",
    "#def verify():\n",
    "    print(\"驗證成功\")\n",
    "    print(xxx)\n",
    "    # LINE Notify 權杖\n",
    "    token = 'hmP9Bhw5SHJRUHx9smMcRmxRpybvBZMAlEDI1jr0IKN'\n",
    "\n",
    "    # 要發送的訊息\n",
    "    #message = '機器人測試' \n",
    "    sticker={\n",
    "    \"message\": '機器人測試',\n",
    "    #\"type\": \"sticker\",\n",
    "    \"stickerPackageId\": \"446\",\n",
    "    \"stickerId\": \"1988\"\n",
    "    }\n",
    "\n",
    "    # 要傳送的圖片檔案\n",
    "    i = open(\"C:/Users/smile/Downloads/12133.jpg\", 'rb')\n",
    "    f = { 'imageFile': i }\n",
    "\n",
    "    # HTTP 標頭參數與資料\n",
    "    h = { \"Authorization\": \"Bearer \" + token }\n",
    "\n",
    "    # 以 requests 發送 POST 請求\n",
    "    re=requests.post(\"https://notify-api.line.me/api/notify\",\n",
    "        headers = h, data = sticker,files=f)\n",
    "    print(re.text)\n",
    "    return 'ok',200\n",
    "if __name__ ==\"__main__\":\n",
    "    app.run(port=3000)"
   ]
  },
  {
   "cell_type": "code",
   "execution_count": 26,
   "metadata": {},
   "outputs": [
    {
     "name": "stdout",
     "output_type": "stream",
     "text": [
      " * Serving Flask app '__main__'\n",
      " * Debug mode: off\n"
     ]
    },
    {
     "name": "stderr",
     "output_type": "stream",
     "text": [
      "WARNING: This is a development server. Do not use it in a production deployment. Use a production WSGI server instead.\n",
      " * Running on http://127.0.0.1:3000\n",
      "Press CTRL+C to quit\n",
      "127.0.0.1 - - [31/Mar/2024 11:31:46] \"GET /usr=user1&pwd=1234 HTTP/1.1\" 200 -\n"
     ]
    },
    {
     "name": "stdout",
     "output_type": "stream",
     "text": [
      "登入成功\n"
     ]
    }
   ],
   "source": [
    "import requests\n",
    "from flask import Flask, request\n",
    "app = Flask(__name__)\n",
    "#使用 &:兩者一定要， /:二選1(usr 或 pwd)\n",
    "@app.route(\"/usr=<number>&pwd=<password>\",methods=[\"GET\"])\n",
    "def verify(number,password):\n",
    "    user={\"user1\":1234}\n",
    "    if number != \"\":\n",
    "        if int(password)==user[number]:\n",
    "            print(\"登入成功\")\n",
    "        elif number not in user:\n",
    "            print(\"無此會員編號\")\n",
    "        else:\n",
    "            print(\"密碼錯誤\")\n",
    "    return '登入成功',200\n",
    "if __name__ ==\"__main__\":\n",
    "    app.run(port=3000)"
   ]
  },
  {
   "cell_type": "code",
   "execution_count": 27,
   "metadata": {},
   "outputs": [
    {
     "name": "stdout",
     "output_type": "stream",
     "text": [
      " * Serving Flask app '__main__'\n",
      " * Debug mode: off\n"
     ]
    },
    {
     "name": "stderr",
     "output_type": "stream",
     "text": [
      "WARNING: This is a development server. Do not use it in a production deployment. Use a production WSGI server instead.\n",
      " * Running on http://127.0.0.1:3000\n",
      "Press CTRL+C to quit\n",
      "127.0.0.1 - - [31/Mar/2024 11:39:19] \"GET /usr=user1 HTTP/1.1\" 404 -\n",
      "127.0.0.1 - - [31/Mar/2024 11:39:54] \"GET /usr= HTTP/1.1\" 404 -\n",
      "127.0.0.1 - - [31/Mar/2024 11:40:05] \"GET /usr=6079 HTTP/1.1\" 404 -\n"
     ]
    }
   ],
   "source": [
    "import requests\n",
    "from flask import Flask, request\n",
    "app = Flask(__name__)\n",
    "#使用 &:兩者一定要\n",
    "@app.route(\"/usr=<number>&pwd=<password>\",methods=[\"GET\"])\n",
    "def verify(number,password):\n",
    "    '''\n",
    "    user={\"user1\":1234}\n",
    "    if number != \"\":\n",
    "        if int(password)==user[number]:\n",
    "            print(\"登入成功\")\n",
    "        elif number not in user:\n",
    "            print(\"無此會員編號\")\n",
    "        else:\n",
    "            print(\"密碼錯誤\")\n",
    "    '''\n",
    "    if number != \"\":\n",
    "        print(\"number:\",number)\n",
    "        return '登入成功',200\n",
    "    elif password != \"\":\n",
    "        print(\"pwd:\",password)\n",
    "        return '登入成功',200\n",
    "    else:\n",
    "        return '登入失敗',200\n",
    "if __name__ ==\"__main__\":\n",
    "    app.run(port=3000)"
   ]
  },
  {
   "cell_type": "markdown",
   "metadata": {},
   "source": [
    "#先判斷是否為會員\n",
    "import requests\n",
    "from flask import Flask, request\n",
    "app = Flask(__name__)\n",
    "@app.route(\"/編號=<number>&密碼=<password>\",methods=[\"GET\"])\n",
    "def verify(number,password):\n",
    "    user={\"user1\":1234}\n",
    "    if number != \"\":\n",
    "        if number not in user:\n",
    "            return \"無此會員編號\",200\n",
    "        elif int(password)==user[number]:\n",
    "            return \"登入成功\",200\n",
    "        else:\n",
    "            return \"密碼錯誤\",200\n",
    "if __name__ ==\"__main__\":\n",
    "    app.run(port=3000)"
   ]
  },
  {
   "cell_type": "code",
   "execution_count": 6,
   "metadata": {},
   "outputs": [
    {
     "name": "stdout",
     "output_type": "stream",
     "text": [
      " * Serving Flask app '__main__'\n",
      " * Debug mode: off\n"
     ]
    },
    {
     "name": "stderr",
     "output_type": "stream",
     "text": [
      "WARNING: This is a development server. Do not use it in a production deployment. Use a production WSGI server instead.\n",
      " * Running on http://127.0.0.1:3000\n",
      "Press CTRL+C to quit\n"
     ]
    },
    {
     "name": "stdout",
     "output_type": "stream",
     "text": [
      "{'destination': 'U49a046de35b61db544c9a86561734bc1', 'events': [{'type': 'message', 'message': {'type': 'text', 'id': '501830917484970114', 'quoteToken': '2TvmeM6zGKujvWng1J6AovyG1uHbUwaiDXjnroNZ-gY_Qx9elS_mkHnDuwi2UXqBvy0jaCivkdy_04C_qbhHT79ztvzV66MOR3O6do6YPs3rs_y2MhB6O0NqSiXHFYqwBgOg5yDroip7u4CLWlgZ1Q', 'text': '1234'}, 'webhookEventId': '01HTBYRX7MNZ3BB2J77004ENW7', 'deliveryContext': {'isRedelivery': False}, 'timestamp': 1711945839777, 'source': {'type': 'user', 'userId': 'U0603a80324448af2e4315140f1d7270c'}, 'replyToken': 'd8a80ae450f64fe1abde8eb9db1301a9', 'mode': 'active'}]}\n"
     ]
    },
    {
     "name": "stderr",
     "output_type": "stream",
     "text": [
      "127.0.0.1 - - [01/Apr/2024 12:30:39] \"POST / HTTP/1.1\" 200 -\n"
     ]
    },
    {
     "name": "stdout",
     "output_type": "stream",
     "text": [
      "{\"sentMessages\":[{\"id\":\"501830918744048114\",\"quoteToken\":\"dbIYwEmPZ1BU_j1ieki0cVHHgWde3t4QkaY2QU0etZq4WV6EGLdxawqLH6XtgXgTXjTX5XjiA0LtkI6T8ElTlXo0tNZjBmqgFumwfmn4D08Zd4xao-Q5UZlt3HJpa1_FDWcFXBmbrBtQr8yOL-SQxg\"},{\"id\":\"501830918676676646\",\"quoteToken\":\"5hymboxKzyloO0Frm7Kx6qq-xg7GAXpW9bAIpF8FN4cu9ao1lzG9btY9LPSaZm9YdUezLmfmSNIQ9n5-Wm733tSl4TgON2hFK_CPPRaHmQEFozcvZDQsxSPgIiazjo_SgKPJWLCg_thl7jCrUkFXPg\"}]}\n"
     ]
    },
    {
     "ename": "",
     "evalue": "",
     "output_type": "error",
     "traceback": [
      "\u001b[1;31m在目前儲存格或上一個儲存格中執行程式碼時，Kernel 已損毀。\n",
      "\u001b[1;31m請檢閱儲存格中的程式碼，找出失敗的可能原因。\n",
      "\u001b[1;31m如需詳細資訊，請按一下<a href='https://aka.ms/vscodeJupyterKernelCrash'>這裡</a>。\n",
      "\u001b[1;31m如需詳細資料，請檢視 Jupyter <a href='command:jupyter.viewOutput'>記錄</a>。"
     ]
    }
   ],
   "source": [
    "#LINE Message API HTTP呼叫\n",
    "import requests\n",
    "import json\n",
    "from flask import Flask, request\n",
    "#https://github.com/line/line-bot-sdk-python\n",
    "app = Flask(__name__)\n",
    "# LINE權杖\n",
    "token = 'Cg1sbKnnbeqimGC5ilImA8KLiZdQnCB/IaO4hirKffQh5X3YLOQFyjDvZeyBf0+aWKUGLgpNL6PvZP+z9yokq3XfyIKsvmIBg7bv1H5fAMLYv5tB1ztv6+fClslkQ8yk6clBH2z96ZtR3eA4o3ZVXQdB04t89/1O/w1cDnyilFU='\n",
    "#主網域、標頭設置\n",
    "host=\"https://api.line.me/v2/bot/message/reply\"\n",
    "h={'Content-Type': 'application/json' \n",
    "   ,'Authorization': 'Bearer '+token}\n",
    "@app.route(\"/\", methods=['GET'])\n",
    "def check():\n",
    "    print(\"有陌生人亂連\")\n",
    "    return \"你走錯路\"\n",
    "@app.route(\"/\", methods=['POST'])\n",
    "def verify():\n",
    "    data=request.get_json()\n",
    "    print(data)\n",
    "    if len(data['events'])==0:\n",
    "        print(\"LINE Webhook驗證成功\")\n",
    "        return \"OK\",200\n",
    "# 要發送的訊息\n",
    "    rp_token=data['events'][0]['replyToken']\n",
    "    d={\n",
    "    \"replyToken\":rp_token,\n",
    "    \"messages\":[\n",
    "        {\n",
    "            \"type\":\"text\",\n",
    "            \"text\":\"Hello, user\"\n",
    "        },\n",
    "        {\n",
    "            \"type\":\"text\",\n",
    "            \"text\":\"May I help you?\"\n",
    "        }\n",
    "    ]\n",
    "}\n",
    "# 以 requests 發送 POST 請求\n",
    "    re=requests.post(host, headers = h, data = json.dumps(d))\n",
    "    print(re.text)\n",
    "    return 'OK',200\n",
    "if __name__ == \"__main__\":\n",
    "    app.run(port=3000)"
   ]
  },
  {
   "cell_type": "code",
   "execution_count": 29,
   "metadata": {},
   "outputs": [
    {
     "name": "stdout",
     "output_type": "stream",
     "text": [
      "Collecting pyimgur\n",
      "  Downloading pyimgur-0.6.0.tar.gz (33 kB)\n",
      "  Installing build dependencies: started\n",
      "  Installing build dependencies: finished with status 'done'\n",
      "  Getting requirements to build wheel: started\n",
      "  Getting requirements to build wheel: finished with status 'done'\n",
      "  Installing backend dependencies: started\n",
      "  Installing backend dependencies: finished with status 'done'\n",
      "  Preparing metadata (pyproject.toml): started\n",
      "  Preparing metadata (pyproject.toml): finished with status 'done'\n",
      "Requirement already satisfied: requests in c:\\users\\smile\\appdata\\local\\packages\\pythonsoftwarefoundation.python.3.11_qbz5n2kfra8p0\\localcache\\local-packages\\python311\\site-packages (from pyimgur) (2.31.0)\n",
      "Requirement already satisfied: charset-normalizer<4,>=2 in c:\\users\\smile\\appdata\\local\\packages\\pythonsoftwarefoundation.python.3.11_qbz5n2kfra8p0\\localcache\\local-packages\\python311\\site-packages (from requests->pyimgur) (3.3.2)\n",
      "Requirement already satisfied: idna<4,>=2.5 in c:\\users\\smile\\appdata\\local\\packages\\pythonsoftwarefoundation.python.3.11_qbz5n2kfra8p0\\localcache\\local-packages\\python311\\site-packages (from requests->pyimgur) (3.6)\n",
      "Requirement already satisfied: urllib3<3,>=1.21.1 in c:\\users\\smile\\appdata\\local\\packages\\pythonsoftwarefoundation.python.3.11_qbz5n2kfra8p0\\localcache\\local-packages\\python311\\site-packages (from requests->pyimgur) (2.2.1)\n",
      "Requirement already satisfied: certifi>=2017.4.17 in c:\\users\\smile\\appdata\\local\\packages\\pythonsoftwarefoundation.python.3.11_qbz5n2kfra8p0\\localcache\\local-packages\\python311\\site-packages (from requests->pyimgur) (2024.2.2)\n",
      "Building wheels for collected packages: pyimgur\n",
      "  Building wheel for pyimgur (pyproject.toml): started\n",
      "  Building wheel for pyimgur (pyproject.toml): finished with status 'done'\n",
      "  Created wheel for pyimgur: filename=pyimgur-0.6.0-py3-none-any.whl size=32466 sha256=1855a9268481671dbae0a11da2473da22df6c7a0fea0512ebe27838e2e5974e8\n",
      "  Stored in directory: c:\\users\\smile\\appdata\\local\\pip\\cache\\wheels\\d1\\70\\34\\0998fef59a479cfccca23ea8ad19195669c576ec64b2168393\n",
      "Successfully built pyimgur\n",
      "Installing collected packages: pyimgur\n",
      "Successfully installed pyimgur-0.6.0\n",
      "Note: you may need to restart the kernel to use updated packages.\n"
     ]
    }
   ],
   "source": [
    "#圖片免費空間\n",
    "pip install pyimgur"
   ]
  },
  {
   "cell_type": "code",
   "execution_count": null,
   "metadata": {},
   "outputs": [],
   "source": [
    "#註冊imgur帳號\n",
    "import pyimgur\n",
    "\n",
    "CLIENT_ID = \"\"\n",
    "title = \"Uploaded with PyImgur\"\n",
    "im = pyimgur.Imgur(CLIENT_ID)\n",
    "uploaded_image = im.upload_image(\"321.jpg\", title=title)\n",
    "print(uploaded_image.title)\n",
    "print(uploaded_image.link)\n",
    "print(uploaded_image.type)"
   ]
  },
  {
   "cell_type": "code",
   "execution_count": 3,
   "metadata": {},
   "outputs": [
    {
     "name": "stdout",
     "output_type": "stream",
     "text": [
      "Collecting line-bot-sdk\n",
      "  Downloading line_bot_sdk-3.9.0-py2.py3-none-any.whl.metadata (13 kB)\n",
      "Requirement already satisfied: requests==2.31.0 in c:\\users\\smile\\appdata\\local\\packages\\pythonsoftwarefoundation.python.3.11_qbz5n2kfra8p0\\localcache\\local-packages\\python311\\site-packages (from line-bot-sdk) (2.31.0)\n",
      "Requirement already satisfied: urllib3<3,>=2.0.5 in c:\\users\\smile\\appdata\\local\\packages\\pythonsoftwarefoundation.python.3.11_qbz5n2kfra8p0\\localcache\\local-packages\\python311\\site-packages (from line-bot-sdk) (2.2.1)\n",
      "Collecting aiohttp==3.9.3 (from line-bot-sdk)\n",
      "  Downloading aiohttp-3.9.3-cp311-cp311-win_amd64.whl.metadata (7.6 kB)\n",
      "Collecting future (from line-bot-sdk)\n",
      "  Downloading future-1.0.0-py3-none-any.whl.metadata (4.0 kB)\n",
      "Collecting pydantic<3,>=2.0.3 (from line-bot-sdk)\n",
      "  Downloading pydantic-2.6.4-py3-none-any.whl.metadata (85 kB)\n",
      "     ---------------------------------------- 0.0/85.1 kB ? eta -:--:--\n",
      "     ------------- ------------------------ 30.7/85.1 kB 660.6 kB/s eta 0:00:01\n",
      "     --------------------------- ---------- 61.4/85.1 kB 825.8 kB/s eta 0:00:01\n",
      "     -------------------------------------- 85.1/85.1 kB 959.6 kB/s eta 0:00:00\n",
      "Collecting aenum>=3.1.11 (from line-bot-sdk)\n",
      "  Downloading aenum-3.1.15-py3-none-any.whl.metadata (3.7 kB)\n",
      "Requirement already satisfied: python-dateutil>=2.5.3 in c:\\users\\smile\\appdata\\local\\packages\\pythonsoftwarefoundation.python.3.11_qbz5n2kfra8p0\\localcache\\local-packages\\python311\\site-packages (from line-bot-sdk) (2.9.0.post0)\n",
      "Collecting Deprecated (from line-bot-sdk)\n",
      "  Downloading Deprecated-1.2.14-py2.py3-none-any.whl.metadata (5.4 kB)\n",
      "Collecting aiosignal>=1.1.2 (from aiohttp==3.9.3->line-bot-sdk)\n",
      "  Downloading aiosignal-1.3.1-py3-none-any.whl.metadata (4.0 kB)\n",
      "Collecting attrs>=17.3.0 (from aiohttp==3.9.3->line-bot-sdk)\n",
      "  Downloading attrs-23.2.0-py3-none-any.whl.metadata (9.5 kB)\n",
      "Collecting frozenlist>=1.1.1 (from aiohttp==3.9.3->line-bot-sdk)\n",
      "  Using cached frozenlist-1.4.1-cp311-cp311-win_amd64.whl.metadata (12 kB)\n",
      "Collecting multidict<7.0,>=4.5 (from aiohttp==3.9.3->line-bot-sdk)\n",
      "  Downloading multidict-6.0.5-cp311-cp311-win_amd64.whl.metadata (4.3 kB)\n",
      "Collecting yarl<2.0,>=1.0 (from aiohttp==3.9.3->line-bot-sdk)\n",
      "  Using cached yarl-1.9.4-cp311-cp311-win_amd64.whl.metadata (32 kB)\n",
      "Requirement already satisfied: charset-normalizer<4,>=2 in c:\\users\\smile\\appdata\\local\\packages\\pythonsoftwarefoundation.python.3.11_qbz5n2kfra8p0\\localcache\\local-packages\\python311\\site-packages (from requests==2.31.0->line-bot-sdk) (3.3.2)\n",
      "Requirement already satisfied: idna<4,>=2.5 in c:\\users\\smile\\appdata\\local\\packages\\pythonsoftwarefoundation.python.3.11_qbz5n2kfra8p0\\localcache\\local-packages\\python311\\site-packages (from requests==2.31.0->line-bot-sdk) (3.6)\n",
      "Requirement already satisfied: certifi>=2017.4.17 in c:\\users\\smile\\appdata\\local\\packages\\pythonsoftwarefoundation.python.3.11_qbz5n2kfra8p0\\localcache\\local-packages\\python311\\site-packages (from requests==2.31.0->line-bot-sdk) (2024.2.2)\n",
      "Collecting annotated-types>=0.4.0 (from pydantic<3,>=2.0.3->line-bot-sdk)\n",
      "  Downloading annotated_types-0.6.0-py3-none-any.whl.metadata (12 kB)\n",
      "Collecting pydantic-core==2.16.3 (from pydantic<3,>=2.0.3->line-bot-sdk)\n",
      "  Downloading pydantic_core-2.16.3-cp311-none-win_amd64.whl.metadata (6.6 kB)\n",
      "Collecting typing-extensions>=4.6.1 (from pydantic<3,>=2.0.3->line-bot-sdk)\n",
      "  Downloading typing_extensions-4.10.0-py3-none-any.whl.metadata (3.0 kB)\n",
      "Requirement already satisfied: six>=1.5 in c:\\users\\smile\\appdata\\local\\packages\\pythonsoftwarefoundation.python.3.11_qbz5n2kfra8p0\\localcache\\local-packages\\python311\\site-packages (from python-dateutil>=2.5.3->line-bot-sdk) (1.16.0)\n",
      "Collecting wrapt<2,>=1.10 (from Deprecated->line-bot-sdk)\n",
      "  Downloading wrapt-1.16.0-cp311-cp311-win_amd64.whl.metadata (6.8 kB)\n",
      "Downloading line_bot_sdk-3.9.0-py2.py3-none-any.whl (752 kB)\n",
      "   ---------------------------------------- 0.0/752.2 kB ? eta -:--:--\n",
      "   ---------------------------------------- 0.0/752.2 kB ? eta -:--:--\n",
      "   ----- ---------------------------------- 112.6/752.2 kB ? eta -:--:--\n",
      "   ----- ---------------------------------- 112.6/752.2 kB ? eta -:--:--\n",
      "   ---------- ----------------------------- 194.6/752.2 kB 1.7 MB/s eta 0:00:01\n",
      "   ------------ --------------------------- 235.5/752.2 kB 1.4 MB/s eta 0:00:01\n",
      "   ---------------- ----------------------- 307.2/752.2 kB 1.6 MB/s eta 0:00:01\n",
      "   ------------------- -------------------- 368.6/752.2 kB 1.5 MB/s eta 0:00:01\n",
      "   ---------------------- ----------------- 430.1/752.2 kB 1.4 MB/s eta 0:00:01\n",
      "   --------------------------- ------------ 512.0/752.2 kB 1.5 MB/s eta 0:00:01\n",
      "   ------------------------------ --------- 573.4/752.2 kB 1.4 MB/s eta 0:00:01\n",
      "   --------------------------------- ------ 624.6/752.2 kB 1.5 MB/s eta 0:00:01\n",
      "   -------------------------------------- - 727.0/752.2 kB 1.5 MB/s eta 0:00:01\n",
      "   ---------------------------------------- 752.2/752.2 kB 1.4 MB/s eta 0:00:00\n",
      "Downloading aiohttp-3.9.3-cp311-cp311-win_amd64.whl (365 kB)\n",
      "   ---------------------------------------- 0.0/365.3 kB ? eta -:--:--\n",
      "   ------ --------------------------------- 61.4/365.3 kB 3.2 MB/s eta 0:00:01\n",
      "   ------------- -------------------------- 122.9/365.3 kB 1.8 MB/s eta 0:00:01\n",
      "   ---------------------- ----------------- 204.8/365.3 kB 1.8 MB/s eta 0:00:01\n",
      "   ------------------------------ --------- 276.5/365.3 kB 1.7 MB/s eta 0:00:01\n",
      "   ---------------------------------- ----- 317.4/365.3 kB 1.5 MB/s eta 0:00:01\n",
      "   ---------------------------------------- 365.3/365.3 kB 1.6 MB/s eta 0:00:00\n",
      "Downloading aenum-3.1.15-py3-none-any.whl (137 kB)\n",
      "   ---------------------------------------- 0.0/137.6 kB ? eta -:--:--\n",
      "   -------------------------- ------------- 92.2/137.6 kB 2.6 MB/s eta 0:00:01\n",
      "   ---------------------------------------- 137.6/137.6 kB 1.6 MB/s eta 0:00:00\n",
      "Downloading pydantic-2.6.4-py3-none-any.whl (394 kB)\n",
      "   ---------------------------------------- 0.0/394.9 kB ? eta -:--:--\n",
      "   ------ --------------------------------- 61.4/394.9 kB 1.7 MB/s eta 0:00:01\n",
      "   -------------- ------------------------- 143.4/394.9 kB 1.7 MB/s eta 0:00:01\n",
      "   ---------------------- ----------------- 225.3/394.9 kB 1.7 MB/s eta 0:00:01\n",
      "   ----------------------------- ---------- 286.7/394.9 kB 1.6 MB/s eta 0:00:01\n",
      "   ------------------------------------ --- 358.4/394.9 kB 1.7 MB/s eta 0:00:01\n",
      "   ---------------------------------------- 394.9/394.9 kB 1.6 MB/s eta 0:00:00\n",
      "Downloading pydantic_core-2.16.3-cp311-none-win_amd64.whl (1.9 MB)\n",
      "   ---------------------------------------- 0.0/1.9 MB ? eta -:--:--\n",
      "   - -------------------------------------- 0.1/1.9 MB 2.6 MB/s eta 0:00:01\n",
      "   --- ------------------------------------ 0.2/1.9 MB 2.0 MB/s eta 0:00:01\n",
      "   ---- ----------------------------------- 0.2/1.9 MB 2.0 MB/s eta 0:00:01\n",
      "   ------ --------------------------------- 0.3/1.9 MB 1.7 MB/s eta 0:00:01\n",
      "   ------- -------------------------------- 0.4/1.9 MB 1.8 MB/s eta 0:00:01\n",
      "   ---------- ----------------------------- 0.5/1.9 MB 1.8 MB/s eta 0:00:01\n",
      "   ----------- ---------------------------- 0.6/1.9 MB 1.7 MB/s eta 0:00:01\n",
      "   ------------- -------------------------- 0.6/1.9 MB 1.8 MB/s eta 0:00:01\n",
      "   --------------- ------------------------ 0.7/1.9 MB 1.8 MB/s eta 0:00:01\n",
      "   ---------------- ----------------------- 0.8/1.9 MB 1.8 MB/s eta 0:00:01\n",
      "   ------------------ --------------------- 0.8/1.9 MB 1.7 MB/s eta 0:00:01\n",
      "   -------------------- ------------------- 1.0/1.9 MB 1.8 MB/s eta 0:00:01\n",
      "   --------------------- ------------------ 1.0/1.9 MB 1.8 MB/s eta 0:00:01\n",
      "   ----------------------- ---------------- 1.1/1.9 MB 1.8 MB/s eta 0:00:01\n",
      "   ------------------------- -------------- 1.2/1.9 MB 1.8 MB/s eta 0:00:01\n",
      "   --------------------------- ------------ 1.3/1.9 MB 1.8 MB/s eta 0:00:01\n",
      "   ---------------------------- ----------- 1.4/1.9 MB 1.8 MB/s eta 0:00:01\n",
      "   ------------------------------ --------- 1.5/1.9 MB 1.8 MB/s eta 0:00:01\n",
      "   -------------------------------- ------- 1.5/1.9 MB 1.8 MB/s eta 0:00:01\n",
      "   ---------------------------------- ----- 1.6/1.9 MB 1.8 MB/s eta 0:00:01\n",
      "   ------------------------------------ --- 1.7/1.9 MB 1.8 MB/s eta 0:00:01\n",
      "   ------------------------------------- -- 1.8/1.9 MB 1.8 MB/s eta 0:00:01\n",
      "   ---------------------------------------- 1.9/1.9 MB 1.8 MB/s eta 0:00:00\n",
      "Downloading Deprecated-1.2.14-py2.py3-none-any.whl (9.6 kB)\n",
      "Downloading future-1.0.0-py3-none-any.whl (491 kB)\n",
      "   ---------------------------------------- 0.0/491.3 kB ? eta -:--:--\n",
      "   --------- ------------------------------ 112.6/491.3 kB 2.2 MB/s eta 0:00:01\n",
      "   -------------- ------------------------- 174.1/491.3 kB 2.1 MB/s eta 0:00:01\n",
      "   --------------------- ------------------ 266.2/491.3 kB 1.8 MB/s eta 0:00:01\n",
      "   ---------------------------- ----------- 348.2/491.3 kB 2.0 MB/s eta 0:00:01\n",
      "   ----------------------------------- ---- 430.1/491.3 kB 1.9 MB/s eta 0:00:01\n",
      "   ---------------------------------------- 491.3/491.3 kB 1.9 MB/s eta 0:00:00\n",
      "Using cached aiosignal-1.3.1-py3-none-any.whl (7.6 kB)\n",
      "Downloading annotated_types-0.6.0-py3-none-any.whl (12 kB)\n",
      "Downloading attrs-23.2.0-py3-none-any.whl (60 kB)\n",
      "   ---------------------------------------- 0.0/60.8 kB ? eta -:--:--\n",
      "   ---------------------------------------- 60.8/60.8 kB 3.2 MB/s eta 0:00:00\n",
      "Using cached frozenlist-1.4.1-cp311-cp311-win_amd64.whl (50 kB)\n",
      "Downloading multidict-6.0.5-cp311-cp311-win_amd64.whl (28 kB)\n",
      "Downloading typing_extensions-4.10.0-py3-none-any.whl (33 kB)\n",
      "Downloading wrapt-1.16.0-cp311-cp311-win_amd64.whl (37 kB)\n",
      "Using cached yarl-1.9.4-cp311-cp311-win_amd64.whl (76 kB)\n",
      "Installing collected packages: aenum, wrapt, typing-extensions, multidict, future, frozenlist, attrs, annotated-types, yarl, pydantic-core, Deprecated, aiosignal, pydantic, aiohttp, line-bot-sdk\n",
      "Successfully installed Deprecated-1.2.14 aenum-3.1.15 aiohttp-3.9.3 aiosignal-1.3.1 annotated-types-0.6.0 attrs-23.2.0 frozenlist-1.4.1 future-1.0.0 line-bot-sdk-3.9.0 multidict-6.0.5 pydantic-2.6.4 pydantic-core-2.16.3 typing-extensions-4.10.0 wrapt-1.16.0 yarl-1.9.4\n",
      "Note: you may need to restart the kernel to use updated packages.\n"
     ]
    }
   ],
   "source": [
    "pip install line-bot-sdk"
   ]
  },
  {
   "cell_type": "code",
   "execution_count": 5,
   "metadata": {},
   "outputs": [
    {
     "name": "stdout",
     "output_type": "stream",
     "text": [
      " * Serving Flask app '__main__'\n",
      " * Debug mode: off\n"
     ]
    },
    {
     "name": "stderr",
     "output_type": "stream",
     "text": [
      "C:\\Users\\smile\\AppData\\Local\\Temp\\ipykernel_21952\\20507484.py:11: LineBotSdkDeprecatedIn30: Call to deprecated class LineBotApi. (Use v3 class; linebot.v3.<feature>. See https://github.com/line/line-bot-sdk-python/blob/master/README.rst for more details.) -- Deprecated since version 3.0.0.\n",
      "  line_bot = LineBotApi(token)\n",
      "WARNING: This is a development server. Do not use it in a production deployment. Use a production WSGI server instead.\n",
      " * Running on http://127.0.0.1:3000\n",
      "Press CTRL+C to quit\n",
      "127.0.0.1 - - [01/Apr/2024 12:25:04] \"GET / HTTP/1.1\" 200 -\n",
      "127.0.0.1 - - [01/Apr/2024 12:25:04] \"GET /favicon.ico HTTP/1.1\" 404 -\n"
     ]
    },
    {
     "name": "stdout",
     "output_type": "stream",
     "text": [
      "有陌生人亂連\n"
     ]
    },
    {
     "name": "stderr",
     "output_type": "stream",
     "text": [
      "127.0.0.1 - - [01/Apr/2024 12:29:05] \"POST / HTTP/1.1\" 200 -\n"
     ]
    },
    {
     "name": "stdout",
     "output_type": "stream",
     "text": [
      "{'destination': 'U49a046de35b61db544c9a86561734bc1', 'events': []}\n",
      "LINE Webhook驗證成功\n"
     ]
    },
    {
     "name": "stderr",
     "output_type": "stream",
     "text": [
      "[2024-04-01 12:29:22,313] ERROR in app: Exception on / [POST]\n",
      "Traceback (most recent call last):\n",
      "  File \"C:\\Users\\smile\\AppData\\Local\\Packages\\PythonSoftwareFoundation.Python.3.11_qbz5n2kfra8p0\\LocalCache\\local-packages\\Python311\\site-packages\\flask\\app.py\", line 1463, in wsgi_app\n",
      "    response = self.full_dispatch_request()\n",
      "               ^^^^^^^^^^^^^^^^^^^^^^^^^^^^\n",
      "  File \"C:\\Users\\smile\\AppData\\Local\\Packages\\PythonSoftwareFoundation.Python.3.11_qbz5n2kfra8p0\\LocalCache\\local-packages\\Python311\\site-packages\\flask\\app.py\", line 872, in full_dispatch_request\n",
      "    rv = self.handle_user_exception(e)\n",
      "         ^^^^^^^^^^^^^^^^^^^^^^^^^^^^^\n",
      "  File \"C:\\Users\\smile\\AppData\\Local\\Packages\\PythonSoftwareFoundation.Python.3.11_qbz5n2kfra8p0\\LocalCache\\local-packages\\Python311\\site-packages\\flask\\app.py\", line 870, in full_dispatch_request\n",
      "    rv = self.dispatch_request()\n",
      "         ^^^^^^^^^^^^^^^^^^^^^^^\n",
      "  File \"C:\\Users\\smile\\AppData\\Local\\Packages\\PythonSoftwareFoundation.Python.3.11_qbz5n2kfra8p0\\LocalCache\\local-packages\\Python311\\site-packages\\flask\\app.py\", line 855, in dispatch_request\n",
      "    return self.ensure_sync(self.view_functions[rule.endpoint])(**view_args)  # type: ignore[no-any-return]\n",
      "           ^^^^^^^^^^^^^^^^^^^^^^^^^^^^^^^^^^^^^^^^^^^^^^^^^^^^^^^^^^^^^^^^^\n",
      "  File \"C:\\Users\\smile\\AppData\\Local\\Temp\\ipykernel_21952\\20507484.py\", line 33, in verify\n",
      "    [FlexSendMessage(alt_text=\"123\", contents=n1),\n",
      "                                              ^^\n",
      "NameError: name 'n1' is not defined\n",
      "127.0.0.1 - - [01/Apr/2024 12:29:22] \"POST / HTTP/1.1\" 500 -\n"
     ]
    },
    {
     "name": "stdout",
     "output_type": "stream",
     "text": [
      "{'destination': 'U49a046de35b61db544c9a86561734bc1', 'events': [{'type': 'message', 'message': {'type': 'text', 'id': '501830789492113412', 'quoteToken': '1JdIQuJKGbi1_yR-8NmfoK8bweo6CoZwQpobwRFGvj1427JxINP7u55ja_SCebiJ28N3bqaMBsnYCTkc4d-N7OxHlyWewPdWXJttwnAjwJlE4F1_n7SRlCERFy2JAFBfzFu18MXWTNBE9JwF6NUsFA', 'text': '123'}, 'webhookEventId': '01HTBYPK8HY23ZG1T7CS6AAQG6', 'deliveryContext': {'isRedelivery': False}, 'timestamp': 1711945763607, 'source': {'type': 'user', 'userId': 'U0603a80324448af2e4315140f1d7270c'}, 'replyToken': 'ac5f6122504949ad8fe2e1d63ef6f357', 'mode': 'active'}]}\n"
     ]
    }
   ],
   "source": [
    "#LINE Message API HTTP呼叫\n",
    "import requests\n",
    "import json\n",
    "from flask import Flask, request\n",
    "from linebot import LineBotApi, WebhookHandler\n",
    "from linebot.models import FlexSendMessage, TextSendMessage\n",
    "#https://github.com/line/line-bot-sdk-python\n",
    "app = Flask(__name__)\n",
    "# LINE權杖\n",
    "token = 'Cg1sbKnnbeqimGC5ilImA8KLiZdQnCB/IaO4hirKffQh5X3YLOQFyjDvZeyBf0+aWKUGLgpNL6PvZP+z9yokq3XfyIKsvmIBg7bv1H5fAMLYv5tB1ztv6+fClslkQ8yk6clBH2z96ZtR3eA4o3ZVXQdB04t89/1O/w1cDnyilFU='\n",
    "line_bot = LineBotApi(token)\n",
    "total=0\n",
    "@app.route(\"/\", methods=['GET'])\n",
    "def check():\n",
    "    print(\"有陌生人亂連\")\n",
    "    return \"你走錯路\"\n",
    "@app.route(\"/\", methods=['POST'])\n",
    "def verify():\n",
    "    global total\n",
    "    data=request.get_json()\n",
    "    print(data)\n",
    "    if len(data['events'])==0:\n",
    "        print(\"LINE Webhook驗證成功\")\n",
    "        return \"OK\",200\n",
    "# 要發送的訊息\n",
    "    rp_token=data['events'][0]['replyToken']\n",
    "    if (\"message\" in data['events'][0]):\n",
    "        if(data['events'][0][\"message\"][\"text\"]==\"結帳\"):\n",
    "            line_bot.reply_message(rp_token,\n",
    "                           [TextSendMessage(text=\"一共\"+str(total)+\"元\")])\n",
    "        if (data['events'][0][\"message\"][\"text\"]!=\"結帳\"):\n",
    "            line_bot.reply_message(rp_token,\n",
    "                           [FlexSendMessage(alt_text=\"123\", contents=n1),\n",
    "                            FlexSendMessage(alt_text=\"1\", contents=pay)])\n",
    "    elif \"postback\" in data[\"events\"][0]:\n",
    "        if data[\"events\"][0][\"postback\"][\"data\"]==\"皮卡丘\":\n",
    "            total=total+100\n",
    "    return 'OK',200\n",
    "if __name__ == \"__main__\":\n",
    "    app.run(port=3000)"
   ]
  }
 ],
 "metadata": {
  "kernelspec": {
   "display_name": "Python 3",
   "language": "python",
   "name": "python3"
  },
  "language_info": {
   "codemirror_mode": {
    "name": "ipython",
    "version": 3
   },
   "file_extension": ".py",
   "mimetype": "text/x-python",
   "name": "python",
   "nbconvert_exporter": "python",
   "pygments_lexer": "ipython3",
   "version": "3.11.8"
  }
 },
 "nbformat": 4,
 "nbformat_minor": 2
}
