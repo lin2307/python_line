{
 "cells": [
  {
   "cell_type": "markdown",
   "metadata": {},
   "source": [
    "建立NumPy物件\n",
    "import numpy as np\n",
    "物件名稱 = numpy.array([資料串列])"
   ]
  },
  {
   "cell_type": "code",
   "execution_count": 2,
   "metadata": {},
   "outputs": [
    {
     "name": "stdout",
     "output_type": "stream",
     "text": [
      "[1 2 3]\n",
      "[4 5 6]\n",
      "維度: 1\n",
      "形狀: (3,)\n",
      "資料型別: int32\n"
     ]
    }
   ],
   "source": [
    "import numpy as np\n",
    "np1 = np.array([1,2,3])\n",
    "np2 = np.array([4,5,6])\n",
    "print(np1)\n",
    "print(np2)\n",
    "print(\"維度:\",np1.ndim)     #維度\n",
    "print(\"形狀:\", np1.shape)    #形狀\n",
    "print(\"資料型別:\", np1.dtype)    #資料型別\n"
   ]
  },
  {
   "cell_type": "code",
   "execution_count": 5,
   "metadata": {},
   "outputs": [
    {
     "name": "stdout",
     "output_type": "stream",
     "text": [
      "np1:\n",
      "[[0 0]\n",
      " [0 0]\n",
      " [0 0]]\n",
      "np2:\n",
      "[[1 1 1]\n",
      " [1 1 1]]\n"
     ]
    }
   ],
   "source": [
    "#建立填滿0或1的陣列\n",
    "np1=np.zeros([3,2],int)     #([列數,欄數],dtype)\n",
    "np2=np.ones([2,3],int)      #([列數,欄數],dtype)\n",
    "print(\"np1:\")\n",
    "print( np1)\n",
    "print(\"np2:\")\n",
    "print(np2)"
   ]
  },
  {
   "cell_type": "code",
   "execution_count": 6,
   "metadata": {},
   "outputs": [
    {
     "name": "stdout",
     "output_type": "stream",
     "text": [
      "np1:\n",
      "[[3. 3.]\n",
      " [3. 3.]\n",
      " [3. 3.]]\n",
      "np2:\n",
      "[[1. 0. 0. 0. 0.]\n",
      " [0. 1. 0. 0. 0.]\n",
      " [0. 0. 1. 0. 0.]\n",
      " [0. 0. 0. 1. 0.]\n",
      " [0. 0. 0. 0. 1.]]\n"
     ]
    }
   ],
   "source": [
    "#建立填滿特定數字的陣列\n",
    "np1 = np.full((3,2),3,float)    #(形狀,填充值,dtype=資料型態)\n",
    "np2 = np.eye(5)                 #(大小,M=指定col,k=起始位置,dtype=資料型態)\n",
    "print(\"np1:\")\n",
    "print( np1)\n",
    "print(\"np2:\")\n",
    "print(np2)"
   ]
  },
  {
   "cell_type": "code",
   "execution_count": 8,
   "metadata": {},
   "outputs": [
    {
     "name": "stdout",
     "output_type": "stream",
     "text": [
      "[ 1  3  5  7 10]\n",
      "(array([ 1,  3,  5,  7, 10]), 2.25)\n",
      "[1 2 4 6 8]\n",
      "[0 1 2 3 4 5 6 7 8 9]\n"
     ]
    }
   ],
   "source": [
    "#建立特定大小的陣列\n",
    "#(起始值,停止值,生成數量,結尾值,回傳模式,資料型態)\n",
    "np1=np.linspace(1,10,5,1,0,dtype=int)\n",
    "np2=np.linspace(1,10,5,1,1,dtype=int)\n",
    "np3=np.linspace(1,10,5,0,0,dtype=int)\n",
    "#(起始值,停止值,間距,資料型態)\n",
    "np4=np.arange(10)\n",
    "print(np1)\n",
    "print(np2)\n",
    "print(np3)\n",
    "print(np4)\n"
   ]
  },
  {
   "cell_type": "code",
   "execution_count": 22,
   "metadata": {},
   "outputs": [
    {
     "name": "stdout",
     "output_type": "stream",
     "text": [
      "2\n",
      "[1 2]\n",
      "7\n",
      "7\n",
      "[5 7]\n",
      "[1 6]\n"
     ]
    }
   ],
   "source": [
    "#取得NumPy資料\n",
    "np1=np.array([1,2,3])\n",
    "np2=np.array([[1,2,3,4],[5,6,7,8]])\n",
    "print(np1[1])\n",
    "print(np1[0:2])\n",
    "print(np2[1,2])\n",
    "print(np2[1][2])\n",
    "print(np2[[1,1],[0,2]])\n",
    "print(np2[[0,1],[0,1]])\n"
   ]
  },
  {
   "cell_type": "code",
   "execution_count": 16,
   "metadata": {},
   "outputs": [
    {
     "name": "stdout",
     "output_type": "stream",
     "text": [
      "[ 3  8 14]\n",
      "[5 7 9]\n",
      "[ 1  0 -2]\n",
      "[-1  1  3]\n",
      "[ 2 16 48]\n",
      "[ 4  8 12]\n",
      "[2.   1.   0.75]\n",
      "[0.5 1.  1.5]\n"
     ]
    }
   ],
   "source": [
    "#一維陣列四則運算\n",
    "np1 = np.array([2,4,6])\n",
    "np2 = np.array([1,4,8])\n",
    "print(np1+np2)\n",
    "print(np1+3)\n",
    "print(np1-np2)\n",
    "print(np1-3)\n",
    "print(np1*np2)\n",
    "print(np1*2)\n",
    "print(np1/np2)\n",
    "print(np1/4)\n"
   ]
  },
  {
   "cell_type": "code",
   "execution_count": 15,
   "metadata": {},
   "outputs": [
    {
     "name": "stdout",
     "output_type": "stream",
     "text": [
      "[[ 3  8 14]\n",
      " [11 11 11]]\n",
      "[[ 1  0 -2]\n",
      " [-3 -1  1]]\n"
     ]
    }
   ],
   "source": [
    "#二維陣列加減法\n",
    "np1=np.array([[2,4,6],[4,5,6]])\n",
    "np2=np.array([[1,4,8],[7,6,5]])\n",
    "print(np1+np2)\n",
    "print(np1-np2)\n"
   ]
  },
  {
   "cell_type": "code",
   "execution_count": 17,
   "metadata": {},
   "outputs": [
    {
     "name": "stdout",
     "output_type": "stream",
     "text": [
      "[[2.         1.         0.75      ]\n",
      " [0.57142857 0.83333333 1.2       ]]\n",
      "[[ 2 16 48]\n",
      " [28 30 30]]\n"
     ]
    }
   ],
   "source": [
    "#二維陣列除法乘法\n",
    "np1=np.array([[2,4,6],[4,5,6]])\n",
    "np2=np.array([[1,4,8],[7,6,5]])\n",
    "print(np1/np2)\n",
    "print(np1*np2)"
   ]
  },
  {
   "cell_type": "code",
   "execution_count": 23,
   "metadata": {},
   "outputs": [
    {
     "name": "stdout",
     "output_type": "stream",
     "text": [
      "[[28 31 31]\n",
      " [46 49 49]\n",
      " [64 67 67]]\n",
      "[[28 31 31]\n",
      " [46 49 49]\n",
      " [64 67 67]]\n"
     ]
    }
   ],
   "source": [
    "#計算函式 Dot Product\n",
    "#A=[[a,b],[c,d]]\n",
    "#B=[[x,y,z],[q,w,e]]\n",
    "#dot(A,B)=[[(a*x+b*q),(a*y+b*w),(a*z+b*e)],\n",
    "#           [(c*x+d*q),(c*y+d*w),(c*z+d*e)]]\n",
    "data1=np.array([[4,5,6],[7,8,9],[10,11,12]])\n",
    "data2=np.array([[3,1,2],[2,3,1],[1,2,3]])\n",
    "print(np.dot(data1,data2))\n",
    "print(data1.dot(data2))"
   ]
  },
  {
   "cell_type": "code",
   "execution_count": 31,
   "metadata": {},
   "outputs": [
    {
     "name": "stdout",
     "output_type": "stream",
     "text": [
      "[[1 2 3]\n",
      " [4 5 6]]\n",
      "[[7 8 9]\n",
      " [3 4 5]]\n",
      "[[ 50  26]\n",
      " [122  62]]\n"
     ]
    }
   ],
   "source": [
    "#計算函式: inner product\n",
    "np1=np.array([[1,2,3],[4,5,6]])\n",
    "np2=np.array([[7,8,9],[3,4,5]])\n",
    "print(np1)\n",
    "print(np2)\n",
    "print(np.inner(np1,np2)) \n",
    "# [1,2,3]*[7,8,9]   [1,2,3]*[3,4,5]\n",
    "# [4,5,6]*[7,8,9]   [4,5,6]*[3,4,5]\n"
   ]
  },
  {
   "cell_type": "code",
   "execution_count": 32,
   "metadata": {},
   "outputs": [
    {
     "name": "stdout",
     "output_type": "stream",
     "text": [
      "[1 2 3]\n",
      "[7 8]\n",
      "[[ 7  8]\n",
      " [14 16]\n",
      " [21 24]]\n"
     ]
    }
   ],
   "source": [
    "#計算函式: outer外積\n",
    "np1=np.array([1,2,3])\n",
    "np2=np.array([7,8])\n",
    "print(np1)\n",
    "print(np2)\n",
    "print(np.outer(np1,np2)) "
   ]
  },
  {
   "cell_type": "code",
   "execution_count": 34,
   "metadata": {},
   "outputs": [
    {
     "name": "stdout",
     "output_type": "stream",
     "text": [
      "12\n",
      "6\n",
      "2\n",
      "[3 4]\n",
      "[2 4]\n",
      "4.0\n",
      "4.0\n",
      "1.632993161855452\n"
     ]
    }
   ],
   "source": [
    "#計算函式\n",
    "np1=np.array([2,4,6])\n",
    "np2=np.array([[1,2],[3,4]])\n",
    "print(np1.sum())    #加總\n",
    "print(np1.max())    #最大值\n",
    "print(np1.min())    #最小值\n",
    "print(np2.max(axis=0))    #每欄最大值\n",
    "print(np2.max(axis=1))    #每列最大值\n",
    "print(np.median(np1))    #中間值\n",
    "print(np.mean(np1))    #平均值\n",
    "print(np.std(np1))    #標準差\n"
   ]
  },
  {
   "cell_type": "code",
   "execution_count": 36,
   "metadata": {},
   "outputs": [
    {
     "name": "stdout",
     "output_type": "stream",
     "text": [
      "[[6 8]\n",
      " [3 4]\n",
      " [9 6]]\n",
      "[[6 4]\n",
      " [8 9]\n",
      " [3 6]]\n",
      "[6 8 3 4 9 6]\n",
      "[[3 5]\n",
      " [4 7]\n",
      " [1 2]]\n"
     ]
    }
   ],
   "source": [
    "#運算函式\n",
    "np1 = np.array([[6,8,3],[4,9,6]])\n",
    "np2 = np.array([[3,5],[4,7],[2,1]])\n",
    "np2.sort(1)         #排序層級\n",
    "print(np1.reshape(3,2))     #重新碩型\n",
    "print(np1.T)        #轉置\n",
    "print(np1.ravel())  #解開\n",
    "print(np2)\n"
   ]
  },
  {
   "cell_type": "code",
   "execution_count": 37,
   "metadata": {},
   "outputs": [
    {
     "name": "stdout",
     "output_type": "stream",
     "text": [
      "[1 2 3 4 4]\n",
      "[1 2 3 4 5 6 7 8]\n",
      "[1 2 6 3 4]\n",
      "[1 3 4]\n"
     ]
    }
   ],
   "source": [
    "#增加與刪減\n",
    "np1 = np.array([1,2,3,4])\n",
    "np2 = np.array([5,6,7,8])\n",
    "print(np.append(np1,4))       #(物件1,物件2)             \n",
    "print(np.append(np1,np2))     #(物件1,物件2)\n",
    "print(np.insert(np1,2,6))     #(物件,位置,物件)\n",
    "print(np.delete(np1,[1]))     #(物件,位置)"
   ]
  },
  {
   "cell_type": "code",
   "execution_count": 39,
   "metadata": {},
   "outputs": [
    {
     "name": "stdout",
     "output_type": "stream",
     "text": [
      "[[1 2]\n",
      " [3 4]\n",
      " [5 6]\n",
      " [7 8]]\n",
      "[[1 2 5 6]\n",
      " [3 4 7 8]]\n"
     ]
    }
   ],
   "source": [
    "#合併(垂直、水平)\n",
    "np1 = np.array([[1,2],[3,4]])\n",
    "np2 = np.array([[5,6],[7,8]])\n",
    "print(np.vstack((np1,np2)))     #垂直合併\n",
    "print(np.hstack((np1,np2)))     #水平合併"
   ]
  },
  {
   "cell_type": "code",
   "execution_count": 40,
   "metadata": {},
   "outputs": [
    {
     "name": "stdout",
     "output_type": "stream",
     "text": [
      "[[1 2]]\n",
      "[[3 4]]\n",
      "[[5 6]]\n",
      "[[1]\n",
      " [3]\n",
      " [5]]\n",
      "[[2]\n",
      " [4]\n",
      " [6]]\n"
     ]
    }
   ],
   "source": [
    "#切割(垂直、水平)\n",
    "np1 = np.array([[1,2],[3,4],[5,6]])\n",
    "np2,np3,np4=np.vsplit(np1,3)    #垂直切割\n",
    "print(np2)\n",
    "print(np3)\n",
    "print(np4)\n",
    "\n",
    "np2,np3 = np.hsplit(np1,2)      #水平切割\n",
    "print(np2)\n",
    "print(np3)\n"
   ]
  }
 ],
 "metadata": {
  "kernelspec": {
   "display_name": "Python 3",
   "language": "python",
   "name": "python3"
  },
  "language_info": {
   "codemirror_mode": {
    "name": "ipython",
    "version": 3
   },
   "file_extension": ".py",
   "mimetype": "text/x-python",
   "name": "python",
   "nbconvert_exporter": "python",
   "pygments_lexer": "ipython3",
   "version": "3.11.8"
  }
 },
 "nbformat": 4,
 "nbformat_minor": 2
}
