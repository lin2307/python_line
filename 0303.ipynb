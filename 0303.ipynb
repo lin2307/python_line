{
 "cells": [
  {
   "cell_type": "code",
   "execution_count": 3,
   "metadata": {},
   "outputs": [
    {
     "name": "stdout",
     "output_type": "stream",
     "text": [
      "123\n"
     ]
    }
   ],
   "source": [
    "a=\"Hello World\"\n",
    "a =123\n",
    "print(a)"
   ]
  },
  {
   "cell_type": "code",
   "execution_count": 1,
   "metadata": {},
   "outputs": [
    {
     "name": "stdout",
     "output_type": "stream",
     "text": [
      "15\n",
      "11\n",
      "26\n",
      "6.5\n",
      "6\n",
      "1\n",
      "169\n"
     ]
    }
   ],
   "source": [
    "x=13\n",
    "y=2\n",
    "# +-*/ 先*/ 後+-\n",
    "print(x+y)\n",
    "print(x-y)\n",
    "print(x*y)\n",
    "print(x/y)\n",
    "print(x//y) #取商數\n",
    "print(x%y)  #取餘數\n",
    "print(x**y) #次方"
   ]
  },
  {
   "cell_type": "code",
   "execution_count": 7,
   "metadata": {},
   "outputs": [
    {
     "name": "stdout",
     "output_type": "stream",
     "text": [
      "3.0\n",
      "0.3333333333333333\n"
     ]
    }
   ],
   "source": [
    "#一元二次方程式\n",
    "#ax^2+bx+c=0\n",
    "#4x^2+8x+4=0\n",
    "#3X^2-10x+3=0\n",
    "\n",
    "a = 3\n",
    "b =-10\n",
    "c=3\n",
    "x = (-b+(b**2-4*a*c)**0.5)/(2*a)\n",
    "y = (-b-(b**2-4*a*c)**0.5)/(2*a)\n",
    "print(x)\n",
    "print(y)"
   ]
  },
  {
   "cell_type": "code",
   "execution_count": 9,
   "metadata": {},
   "outputs": [
    {
     "name": "stdout",
     "output_type": "stream",
     "text": [
      "Hello worldpython\n",
      "Hello world python\n",
      "Hello world python\n",
      "o\n",
      "Hell\n",
      "lo world\n",
      "lo wo\n"
     ]
    }
   ],
   "source": [
    "#字串\n",
    "str1=\"Hello world\"\n",
    "str2=\"python\"\n",
    "print(str1+str2)    #字串相加\n",
    "print(str1+\" \"+str2)\n",
    "print(str1,str2)\n",
    "print(str1[4])  #取字串中單一字\n",
    "print(str1[:4]) #取0-3個字元\n",
    "print(str1[3:]) #取3-結束的字元\n",
    "print(str1[3:8])    #取區間3-7個的字元"
   ]
  },
  {
   "cell_type": "code",
   "execution_count": 1,
   "metadata": {},
   "outputs": [
    {
     "name": "stdout",
     "output_type": "stream",
     "text": [
      "<class 'str'>\n",
      "<class 'int'>\n",
      "<class 'float'>\n"
     ]
    }
   ],
   "source": [
    "# 查詢資料型態\n",
    "a=\"python\"\n",
    "b=123\n",
    "c=122.12\n",
    "print(type(a))\n",
    "print(type(b))\n",
    "print(type(c))"
   ]
  },
  {
   "cell_type": "code",
   "execution_count": 2,
   "metadata": {},
   "outputs": [
    {
     "name": "stdout",
     "output_type": "stream",
     "text": [
      "<class 'str'>\n",
      "<class 'int'>\n"
     ]
    }
   ],
   "source": [
    "a=\"python\"\n",
    "b=123\n",
    "b=str(b)\n",
    "c=122.12\n",
    "c=int(c)    # 無條件捨去小數點\n",
    "\n",
    "print(type(b))\n",
    "print(type(c))"
   ]
  },
  {
   "cell_type": "code",
   "execution_count": 7,
   "metadata": {},
   "outputs": [
    {
     "name": "stdout",
     "output_type": "stream",
     "text": [
      "a=python,b=123,c=122.120000\n",
      "a=    python,c=    122.12\n",
      "a=python    ,c=122.12    \n",
      "a=python,b=123,c=122.12\n"
     ]
    }
   ],
   "source": [
    "a=\"python\"\n",
    "b=123\n",
    "c=122.12\n",
    "print(\"a=%s,b=%d,c=%f\"%(a,b,c)) #字串格式指定碼\n",
    "print(\"a=%10s,c=%10.2f\"%(a,c)) # %為格式指定碼， 靠右對齊浮點數四捨五入\n",
    "print(\"a=%-10s,c=%-10.2f\"%(a,c)) #字串格式指定碼，有負號為靠左對齊，浮點數四捨五入\n",
    "print(f\"a={a},b={b},c={c}\") #字串插補"
   ]
  },
  {
   "cell_type": "code",
   "execution_count": 8,
   "metadata": {},
   "outputs": [
    {
     "name": "stdout",
     "output_type": "stream",
     "text": [
      "A餐100元\n"
     ]
    }
   ],
   "source": [
    "a = input(\"請問是A餐或是B餐?\")\n",
    "# if a is \"A\":  #其中is代表'==' \n",
    "# if a is not \"A\": #其中is not 代表'!='\n",
    "if a == \"A\":\n",
    "    print(f\"{a}餐%d元\"%(100))"
   ]
  },
  {
   "cell_type": "code",
   "execution_count": 3,
   "metadata": {},
   "outputs": [
    {
     "name": "stdout",
     "output_type": "stream",
     "text": [
      "存在\n"
     ]
    }
   ],
   "source": [
    "w = \"Hello world\"\n",
    "k = input(\"請輸入:\")    #input的值為文字\n",
    "if k in w :\n",
    "    print(\"存在\")\n",
    "else :\n",
    "    print(\"不存在\")\n"
   ]
  },
  {
   "cell_type": "code",
   "execution_count": 4,
   "metadata": {},
   "outputs": [
    {
     "name": "stdout",
     "output_type": "stream",
     "text": [
      "2023不是潤年\n"
     ]
    }
   ],
   "source": [
    "year =int(input(\"請輸入年份:\"))\n",
    "if year%400 == 0:\n",
    "    print(f\"{year}是潤年\")\n",
    "else:\n",
    "    if year%100 == 0:\n",
    "        print(f\"{year}不是潤年\")\n",
    "    elif year%4 == 0:\n",
    "        print(f\"{year}是潤年\")\n",
    "    else:\n",
    "        print(f\"{year}不是潤年\")"
   ]
  },
  {
   "cell_type": "code",
   "execution_count": 4,
   "metadata": {},
   "outputs": [
    {
     "name": "stdout",
     "output_type": "stream",
     "text": [
      "700不是潤年\n"
     ]
    }
   ],
   "source": [
    "year =int(input(\"請輸入年份:\"))\n",
    "if year%400 == 0 or (year%4 == 0 and not(year%100 == 0)):\n",
    "    print(f\"{year}是潤年\")\n",
    "else:\n",
    "    print(f\"{year}不是潤年\")"
   ]
  }
 ],
 "metadata": {
  "kernelspec": {
   "display_name": "Python 3",
   "language": "python",
   "name": "python3"
  },
  "language_info": {
   "codemirror_mode": {
    "name": "ipython",
    "version": 3
   },
   "file_extension": ".py",
   "mimetype": "text/x-python",
   "name": "python",
   "nbconvert_exporter": "python",
   "pygments_lexer": "ipython3",
   "version": "3.10.13"
  }
 },
 "nbformat": 4,
 "nbformat_minor": 2
}
