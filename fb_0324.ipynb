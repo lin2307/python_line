{
 "cells": [
  {
   "cell_type": "markdown",
   "metadata": {},
   "source": [
    "fb token\n",
    "EAAFnfYZAg7x4BO6m1o9ZCe6CtnU5TRZCG5xpRiEwV7LozkxSVZALjlkVOrKXZBQVvIRRzaFS9OKusOJLyZBAXrXKj6CiqdHJBCzhIQ2XMoD5vP9rb6jCAglNt2MZAwrFnPwkq9DLjnZASa4ViaCe4b3GaHWFGbaBfNgx3ZCZArxgSfDOila1hL7clxa5KO4DXy6lRD\n",
    "\n",
    "fb ID\n",
    "user_id=\"269142272945147\"\n",
    "\n",
    "\n",
    "ngrok token\n",
    "28KNso65DpU8AU1KgWTsHEz8RFO_6XdYf5RrezigBAdhoKvUj\n",
    "\n"
   ]
  },
  {
   "cell_type": "code",
   "execution_count": 1,
   "metadata": {},
   "outputs": [
    {
     "name": "stdout",
     "output_type": "stream",
     "text": [
      "Collecting pymessenger\n",
      "  Downloading pymessenger-0.0.7.0.tar.gz (3.6 kB)\n",
      "  Installing build dependencies: started\n",
      "  Installing build dependencies: finished with status 'done'\n",
      "  Getting requirements to build wheel: started\n",
      "  Getting requirements to build wheel: finished with status 'done'\n",
      "  Installing backend dependencies: started\n",
      "  Installing backend dependencies: finished with status 'done'\n",
      "  Preparing metadata (pyproject.toml): started\n",
      "  Preparing metadata (pyproject.toml): finished with status 'done'\n",
      "Collecting requests (from pymessenger)\n",
      "  Using cached requests-2.31.0-py3-none-any.whl.metadata (4.6 kB)\n",
      "Collecting requests-toolbelt (from pymessenger)\n",
      "  Downloading requests_toolbelt-1.0.0-py2.py3-none-any.whl.metadata (14 kB)\n",
      "Requirement already satisfied: six in c:\\users\\smile\\appdata\\local\\packages\\pythonsoftwarefoundation.python.3.11_qbz5n2kfra8p0\\localcache\\local-packages\\python311\\site-packages (from pymessenger) (1.16.0)\n",
      "Collecting charset-normalizer<4,>=2 (from requests->pymessenger)\n",
      "  Using cached charset_normalizer-3.3.2-cp311-cp311-win_amd64.whl.metadata (34 kB)\n",
      "Collecting idna<4,>=2.5 (from requests->pymessenger)\n",
      "  Using cached idna-3.6-py3-none-any.whl.metadata (9.9 kB)\n",
      "Collecting urllib3<3,>=1.21.1 (from requests->pymessenger)\n",
      "  Downloading urllib3-2.2.1-py3-none-any.whl.metadata (6.4 kB)\n",
      "Collecting certifi>=2017.4.17 (from requests->pymessenger)\n",
      "  Downloading certifi-2024.2.2-py3-none-any.whl.metadata (2.2 kB)\n",
      "Using cached requests-2.31.0-py3-none-any.whl (62 kB)\n",
      "Downloading requests_toolbelt-1.0.0-py2.py3-none-any.whl (54 kB)\n",
      "   ---------------------------------------- 0.0/54.5 kB ? eta -:--:--\n",
      "   ---------------------------------------- 0.0/54.5 kB ? eta -:--:--\n",
      "   ------------------------------ --------- 41.0/54.5 kB ? eta -:--:--\n",
      "   ---------------------------------------- 54.5/54.5 kB 2.9 MB/s eta 0:00:00\n",
      "Downloading certifi-2024.2.2-py3-none-any.whl (163 kB)\n",
      "   ---------------------------------------- 0.0/163.8 kB ? eta -:--:--\n",
      "   -- ------------------------------------- 10.2/163.8 kB ? eta -:--:--\n",
      "   ------- ------------------------------- 30.7/163.8 kB 435.7 kB/s eta 0:00:01\n",
      "   --------- ----------------------------- 41.0/163.8 kB 487.6 kB/s eta 0:00:01\n",
      "   ----------------- --------------------- 71.7/163.8 kB 435.7 kB/s eta 0:00:01\n",
      "   --------------------- ----------------- 92.2/163.8 kB 476.3 kB/s eta 0:00:01\n",
      "   ---------------------------- --------- 122.9/163.8 kB 481.4 kB/s eta 0:00:01\n",
      "   ----------------------------------- -- 153.6/163.8 kB 482.7 kB/s eta 0:00:01\n",
      "   -------------------------------------- 163.8/163.8 kB 516.9 kB/s eta 0:00:00\n",
      "Using cached charset_normalizer-3.3.2-cp311-cp311-win_amd64.whl (99 kB)\n",
      "Using cached idna-3.6-py3-none-any.whl (61 kB)\n",
      "Downloading urllib3-2.2.1-py3-none-any.whl (121 kB)\n",
      "   ---------------------------------------- 0.0/121.1 kB ? eta -:--:--\n",
      "   --- ------------------------------------ 10.2/121.1 kB ? eta -:--:--\n",
      "   ------------- ------------------------- 41.0/121.1 kB 495.5 kB/s eta 0:00:01\n",
      "   ------------------- ------------------- 61.4/121.1 kB 550.5 kB/s eta 0:00:01\n",
      "   ----------------------------- --------- 92.2/121.1 kB 525.1 kB/s eta 0:00:01\n",
      "   -------------------------------------- 121.1/121.1 kB 592.7 kB/s eta 0:00:00\n",
      "Building wheels for collected packages: pymessenger\n",
      "  Building wheel for pymessenger (pyproject.toml): started\n",
      "  Building wheel for pymessenger (pyproject.toml): finished with status 'done'\n",
      "  Created wheel for pymessenger: filename=pymessenger-0.0.7.0-py3-none-any.whl size=5111 sha256=3aa75c299823b7064d5f9e2df66a24d975d673daf73ebab9bf35148080a7710f\n",
      "  Stored in directory: c:\\users\\smile\\appdata\\local\\pip\\cache\\wheels\\1b\\c9\\11\\271f22cfb2064757bc6c4b228f87e1ee82ad58fcbfd5badb9a\n",
      "Successfully built pymessenger\n",
      "Installing collected packages: urllib3, idna, charset-normalizer, certifi, requests, requests-toolbelt, pymessenger\n",
      "Successfully installed certifi-2024.2.2 charset-normalizer-3.3.2 idna-3.6 pymessenger-0.0.7.0 requests-2.31.0 requests-toolbelt-1.0.0 urllib3-2.2.1\n",
      "Note: you may need to restart the kernel to use updated packages.\n"
     ]
    }
   ],
   "source": [
    "pip install pymessenger\n"
   ]
  },
  {
   "cell_type": "code",
   "execution_count": 30,
   "metadata": {},
   "outputs": [
    {
     "name": "stdout",
     "output_type": "stream",
     "text": [
      "{'data': [{'created_time': '2024-03-25T13:46:20+0000', 'message': '粉絲專頁的測試練習\\n如何取得Post id', 'id': '269142272945147_122102751836253073'}, {'created_time': '2024-03-17T15:21:58+0000', 'story': '隨意的旅程更新了大頭貼照。', 'id': '269142272945147_122095352144253073'}], 'paging': {'cursors': {'before': 'QVFIUlkxbXV5dUJDeTl3UGJSVU9fcjZAYRVQ5YmVEWDFpTWpKdFE5WEVHXzhEYUZAFUWJVdi1IMnAzQ0hGQWxhNWRQczhGZAUl0WnhUQlFhTUtxT0hzQlVqWmQ2T3U1cnQ2V3JpOXItRkc2cmJVREFfa0lQaHNaQ3pwXzc1LWgwb3hIdTFzb0pjY05DX0tlZAEg0QWoyLW5SOUsyUGt2ZAVJZAeWg2dnNzYUtaZAjR1MTFVOUFuSXcxZAkR0N3gtTmZAXOUZALMEJYSlRLOUdONUhUVWJZAQlcwZA2EtcTgyZAV9ZASV9IWk14aUVIQ1VraTBSckpibWN5TEg5SW10NFl6VVNJcE9ZAN2d3X0xiNmJXS09wUjB0WEFRZA2ZAUc05VcWo2ZAmRFUUprLXpudUlrU183c2JSUzFzUy1XTVloNFdiY2ItQTdGMEFQVGN0VVZAualZAHdXlHSXBCa1VyNTNYdXJNNFZAOOUVoSFNHUktxSUNqUkh0NlhUSVUyZAFNpTWpGQjBKRWlqUGUzVUg1NWIyZAUlPSERLRGVxazJfcEJQNUlmNW5RUXFlZATJ3NmhGYXZADZADBKY3pfQU0ZD', 'after': 'QVFIUlpqblBzaFFuM2p5WVgxanBBZAFNOVzZAtM256WHF4YVBaT1IxdmxkbVZAMaGpoc1pNLUJnT0hpTTAyZAkIyV29ZAbjI4NFBxYmpxWkM1WTNuLVd2enJTYzlCSHdkQjN2bThyU190YjhrbkVYSk0yYk5VVHNCNUk4bUcyUlp3ZA1JGbk04N2tDdkx3MUFfcjhSRnRwdDBjRm5sVEtIRXNucmhHNnQyWk9qa2lLZA2NnWDBJaTU4aHJRcV9lRFN5T2NpMlRYM2tMbUtRZAFVvMTI1UjhCaEpRTGpuTERoVExUT1ZAQYVJlNlNZAUHYzaGlRWl9Ycy16ZAlcxb2VLcEtxS3F5NW43NVlTdEQ5VC1OUUZAzemY1M0NRdkFWT28ySkduUTZAvVUxxdnJyV3JBMkM3eEIxNU91YnlubDBveDk3T3dNcVNFbWVGYzZA4WEJsSlNDZAW9NS3hQbklNcWJ0QzFmaEpwN1lvTmFSMlhPbUlLRE56ZAFlTdk9JaXJyWkVaV1BJQWdWSUhuRHJtRjUxWjlPbHZAhZAGtZAVkRTdFFQWlpjRUYwZAzZAuS1FoeE9FRlBxMXBCT0EZD'}}}\n",
      "['粉絲專頁的測試練習\\n如何取得Post id']\n"
     ]
    }
   ],
   "source": [
    "import requests as rq\n",
    "import json\n",
    "host=\"https://graph.facebook.com/\"\n",
    "ver=\"v19.0/\"\n",
    "user_id=\"269142272945147\"\n",
    "token=\"EAAFnfYZAg7x4BO6m1o9ZCe6CtnU5TRZCG5xpRiEwV7LozkxSVZALjlkVOrKXZBQVvIRRzaFS9OKusOJLyZBAXrXKj6CiqdHJBCzhIQ2XMoD5vP9rb6jCAglNt2MZAwrFnPwkq9DLjnZASa4ViaCe4b3GaHWFGbaBfNgx3ZCZArxgSfDOila1hL7clxa5KO4DXy6lRD\"\n",
    "msg=[]\n",
    "data=rq.get(host+ver+user_id+\"/posts?access_token=\"+token)\n",
    "data=json.loads(data.text)\n",
    "print(data)\n",
    "def m(data):\n",
    "    for post in data['data']:\n",
    "        if \"message\" in post:\n",
    "            msg.append(post[\"message\"])\n",
    "m(data)\n",
    "\n",
    "while 1:\n",
    "    if len(data)==0:\n",
    "        break\n",
    "    if (\"paging\" in data) :\n",
    "        if (\"next\" in data[\"paging\"]):\n",
    "            new_url=data[\"paging\"][\"next\"]\n",
    "            data=rq.get(new_url)\n",
    "            data=json.loads(data.text)\n",
    "            m(data)\n",
    "        else:\n",
    "            break\n",
    "    else:\n",
    "        break\n",
    "print(msg)"
   ]
  },
  {
   "cell_type": "code",
   "execution_count": 4,
   "metadata": {},
   "outputs": [
    {
     "name": "stdout",
     "output_type": "stream",
     "text": [
      "Collecting jieba\n",
      "  Downloading jieba-0.42.1.tar.gz (19.2 MB)\n",
      "     ---------------------------------------- 0.0/19.2 MB ? eta -:--:--\n",
      "     --------------------------------------- 0.0/19.2 MB 330.3 kB/s eta 0:00:59\n",
      "     --------------------------------------- 0.1/19.2 MB 440.4 kB/s eta 0:00:44\n",
      "     --------------------------------------- 0.1/19.2 MB 804.6 kB/s eta 0:00:24\n",
      "     ---------------------------------------- 0.2/19.2 MB 1.2 MB/s eta 0:00:16\n",
      "     - -------------------------------------- 0.6/19.2 MB 2.4 MB/s eta 0:00:08\n",
      "     -- ------------------------------------- 1.2/19.2 MB 4.2 MB/s eta 0:00:05\n",
      "     ---- ----------------------------------- 2.2/19.2 MB 6.8 MB/s eta 0:00:03\n",
      "     ------ --------------------------------- 2.9/19.2 MB 7.8 MB/s eta 0:00:03\n",
      "     -------- ------------------------------- 4.0/19.2 MB 9.5 MB/s eta 0:00:02\n",
      "     ---------- ----------------------------- 4.9/19.2 MB 10.5 MB/s eta 0:00:02\n",
      "     ---------- ----------------------------- 5.1/19.2 MB 9.9 MB/s eta 0:00:02\n",
      "     ------------- -------------------------- 6.6/19.2 MB 11.7 MB/s eta 0:00:02\n",
      "     --------------- ------------------------ 7.3/19.2 MB 12.0 MB/s eta 0:00:01\n",
      "     ----------------- ---------------------- 8.3/19.2 MB 12.6 MB/s eta 0:00:01\n",
      "     ------------------ --------------------- 9.0/19.2 MB 12.8 MB/s eta 0:00:01\n",
      "     -------------------- ------------------- 9.7/19.2 MB 12.9 MB/s eta 0:00:01\n",
      "     --------------------- ----------------- 10.5/19.2 MB 17.3 MB/s eta 0:00:01\n",
      "     --------------------- ----------------- 10.6/19.2 MB 17.3 MB/s eta 0:00:01\n",
      "     ---------------------- ---------------- 11.2/19.2 MB 16.0 MB/s eta 0:00:01\n",
      "     ----------------------- --------------- 11.6/19.2 MB 15.6 MB/s eta 0:00:01\n",
      "     ------------------------ -------------- 12.1/19.2 MB 15.2 MB/s eta 0:00:01\n",
      "     -------------------------- ------------ 12.9/19.2 MB 15.6 MB/s eta 0:00:01\n",
      "     --------------------------- ----------- 13.8/19.2 MB 15.2 MB/s eta 0:00:01\n",
      "     ---------------------------- ---------- 14.1/19.2 MB 14.9 MB/s eta 0:00:01\n",
      "     ------------------------------ -------- 15.1/19.2 MB 14.6 MB/s eta 0:00:01\n",
      "     ------------------------------- ------- 15.7/19.2 MB 14.9 MB/s eta 0:00:01\n",
      "     -------------------------------- ------ 16.1/19.2 MB 13.9 MB/s eta 0:00:01\n",
      "     --------------------------------- ----- 16.5/19.2 MB 13.6 MB/s eta 0:00:01\n",
      "     ---------------------------------- ---- 16.9/19.2 MB 13.1 MB/s eta 0:00:01\n",
      "     ----------------------------------- --- 17.4/19.2 MB 12.8 MB/s eta 0:00:01\n",
      "     ------------------------------------ -- 17.8/19.2 MB 12.6 MB/s eta 0:00:01\n",
      "     ------------------------------------- - 18.2/19.2 MB 12.1 MB/s eta 0:00:01\n",
      "     ------------------------------------- - 18.7/19.2 MB 11.9 MB/s eta 0:00:01\n",
      "     --------------------------------------  19.2/19.2 MB 11.7 MB/s eta 0:00:01\n",
      "     --------------------------------------- 19.2/19.2 MB 11.3 MB/s eta 0:00:00\n",
      "  Installing build dependencies: started\n",
      "  Installing build dependencies: finished with status 'done'\n",
      "  Getting requirements to build wheel: started\n",
      "  Getting requirements to build wheel: finished with status 'done'\n",
      "  Installing backend dependencies: started\n",
      "  Installing backend dependencies: finished with status 'done'\n",
      "  Preparing metadata (pyproject.toml): started\n",
      "  Preparing metadata (pyproject.toml): finished with status 'done'\n",
      "Building wheels for collected packages: jieba\n",
      "  Building wheel for jieba (pyproject.toml): started\n",
      "  Building wheel for jieba (pyproject.toml): finished with status 'done'\n",
      "  Created wheel for jieba: filename=jieba-0.42.1-py3-none-any.whl size=19314474 sha256=70eaaa5dfd8091ef04c3c972710d338618b2ae9927e7e679a8b4a2a4fba0ebe0\n",
      "  Stored in directory: c:\\users\\smile\\appdata\\local\\pip\\cache\\wheels\\ac\\60\\cf\\538a1f183409caf1fc136b5d2c2dee329001ef6da2c5084bef\n",
      "Successfully built jieba\n",
      "Installing collected packages: jieba\n",
      "Successfully installed jieba-0.42.1\n",
      "Note: you may need to restart the kernel to use updated packages.\n"
     ]
    }
   ],
   "source": [
    "pip install jieba"
   ]
  },
  {
   "cell_type": "code",
   "execution_count": 22,
   "metadata": {},
   "outputs": [
    {
     "name": "stderr",
     "output_type": "stream",
     "text": [
      "Building prefix dict from the default dictionary ...\n",
      "Dumping model to file cache C:\\Users\\smile\\AppData\\Local\\Temp\\jieba.cache\n",
      "Loading model cost 0.536 seconds.\n",
      "Prefix dict has been built successfully.\n"
     ]
    },
    {
     "name": "stdout",
     "output_type": "stream",
     "text": [
      "{'粉絲': 1, '專頁': 1, '的': 1, '測試': 1, '練習': 1, '\\n': 1, '如何': 1, '取得': 1, 'Post': 1, ' ': 1, 'id': 1}\n"
     ]
    }
   ],
   "source": [
    "import jieba\n",
    "words=[]\n",
    "total_word={}\n",
    "for w in msg:\n",
    "    for word in list(jieba.cut(w)):\n",
    "        words.append(word)\n",
    "for w in words:\n",
    "    if w in total_word:\n",
    "        total_word[w]+=1\n",
    "    else:\n",
    "        total_word[w]=1\n",
    "print(total_word)"
   ]
  },
  {
   "cell_type": "code",
   "execution_count": 23,
   "metadata": {},
   "outputs": [
    {
     "data": {
      "text/html": [
       "<div>\n",
       "<style scoped>\n",
       "    .dataframe tbody tr th:only-of-type {\n",
       "        vertical-align: middle;\n",
       "    }\n",
       "\n",
       "    .dataframe tbody tr th {\n",
       "        vertical-align: top;\n",
       "    }\n",
       "\n",
       "    .dataframe thead th {\n",
       "        text-align: right;\n",
       "    }\n",
       "</style>\n",
       "<table border=\"1\" class=\"dataframe\">\n",
       "  <thead>\n",
       "    <tr style=\"text-align: right;\">\n",
       "      <th></th>\n",
       "      <th>word</th>\n",
       "      <th>count</th>\n",
       "    </tr>\n",
       "  </thead>\n",
       "  <tbody>\n",
       "    <tr>\n",
       "      <th>0</th>\n",
       "      <td>粉絲</td>\n",
       "      <td>1</td>\n",
       "    </tr>\n",
       "    <tr>\n",
       "      <th>1</th>\n",
       "      <td>專頁</td>\n",
       "      <td>1</td>\n",
       "    </tr>\n",
       "    <tr>\n",
       "      <th>2</th>\n",
       "      <td>的</td>\n",
       "      <td>1</td>\n",
       "    </tr>\n",
       "    <tr>\n",
       "      <th>3</th>\n",
       "      <td>測試</td>\n",
       "      <td>1</td>\n",
       "    </tr>\n",
       "    <tr>\n",
       "      <th>4</th>\n",
       "      <td>練習</td>\n",
       "      <td>1</td>\n",
       "    </tr>\n",
       "    <tr>\n",
       "      <th>5</th>\n",
       "      <td>\\n</td>\n",
       "      <td>1</td>\n",
       "    </tr>\n",
       "    <tr>\n",
       "      <th>6</th>\n",
       "      <td>如何</td>\n",
       "      <td>1</td>\n",
       "    </tr>\n",
       "    <tr>\n",
       "      <th>7</th>\n",
       "      <td>取得</td>\n",
       "      <td>1</td>\n",
       "    </tr>\n",
       "    <tr>\n",
       "      <th>8</th>\n",
       "      <td>Post</td>\n",
       "      <td>1</td>\n",
       "    </tr>\n",
       "    <tr>\n",
       "      <th>9</th>\n",
       "      <td></td>\n",
       "      <td>1</td>\n",
       "    </tr>\n",
       "    <tr>\n",
       "      <th>10</th>\n",
       "      <td>id</td>\n",
       "      <td>1</td>\n",
       "    </tr>\n",
       "  </tbody>\n",
       "</table>\n",
       "</div>"
      ],
      "text/plain": [
       "    word  count\n",
       "0     粉絲      1\n",
       "1     專頁      1\n",
       "2      的      1\n",
       "3     測試      1\n",
       "4     練習      1\n",
       "5     \\n      1\n",
       "6     如何      1\n",
       "7     取得      1\n",
       "8   Post      1\n",
       "9             1\n",
       "10    id      1"
      ]
     },
     "execution_count": 23,
     "metadata": {},
     "output_type": "execute_result"
    }
   ],
   "source": [
    "import pandas as pd\n",
    "df={\"word\":[],\"count\":[]}\n",
    "for w in total_word:\n",
    "    df[\"word\"].append(w)\n",
    "    df[\"count\"].append(total_word[w])\n",
    "df=pd.DataFrame(df)\n",
    "df.sort_values(by=\"count\")"
   ]
  },
  {
   "cell_type": "code",
   "execution_count": 6,
   "metadata": {},
   "outputs": [
    {
     "name": "stdout",
     "output_type": "stream",
     "text": [
      "Collecting Flask\n",
      "  Downloading flask-3.0.2-py3-none-any.whl.metadata (3.6 kB)\n",
      "Collecting Werkzeug>=3.0.0 (from Flask)\n",
      "  Downloading werkzeug-3.0.1-py3-none-any.whl.metadata (4.1 kB)\n",
      "Collecting Jinja2>=3.1.2 (from Flask)\n",
      "  Downloading Jinja2-3.1.3-py3-none-any.whl.metadata (3.3 kB)\n",
      "Collecting itsdangerous>=2.1.2 (from Flask)\n",
      "  Downloading itsdangerous-2.1.2-py3-none-any.whl.metadata (2.9 kB)\n",
      "Collecting click>=8.1.3 (from Flask)\n",
      "  Downloading click-8.1.7-py3-none-any.whl.metadata (3.0 kB)\n",
      "Collecting blinker>=1.6.2 (from Flask)\n",
      "  Downloading blinker-1.7.0-py3-none-any.whl.metadata (1.9 kB)\n",
      "Requirement already satisfied: colorama in c:\\users\\smile\\appdata\\local\\packages\\pythonsoftwarefoundation.python.3.11_qbz5n2kfra8p0\\localcache\\local-packages\\python311\\site-packages (from click>=8.1.3->Flask) (0.4.6)\n",
      "Collecting MarkupSafe>=2.0 (from Jinja2>=3.1.2->Flask)\n",
      "  Downloading MarkupSafe-2.1.5-cp311-cp311-win_amd64.whl.metadata (3.1 kB)\n",
      "Downloading flask-3.0.2-py3-none-any.whl (101 kB)\n",
      "   ---------------------------------------- 0.0/101.3 kB ? eta -:--:--\n",
      "   ---------------------------------------- 0.0/101.3 kB ? eta -:--:--\n",
      "   ---------------- ----------------------- 41.0/101.3 kB 2.0 MB/s eta 0:00:01\n",
      "   ------------------------ --------------- 61.4/101.3 kB 1.7 MB/s eta 0:00:01\n",
      "   --------------------------- ----------- 71.7/101.3 kB 787.7 kB/s eta 0:00:01\n",
      "   -------------------------------------- 101.3/101.3 kB 728.5 kB/s eta 0:00:00\n",
      "Downloading blinker-1.7.0-py3-none-any.whl (13 kB)\n",
      "Downloading click-8.1.7-py3-none-any.whl (97 kB)\n",
      "   ---------------------------------------- 0.0/97.9 kB ? eta -:--:--\n",
      "   ---- ----------------------------------- 10.2/97.9 kB ? eta -:--:--\n",
      "   ------------ --------------------------- 30.7/97.9 kB 330.3 kB/s eta 0:00:01\n",
      "   ------------------------- -------------- 61.4/97.9 kB 469.7 kB/s eta 0:00:01\n",
      "   --------------------------------- ------ 81.9/97.9 kB 459.5 kB/s eta 0:00:01\n",
      "   ---------------------------------------- 97.9/97.9 kB 432.0 kB/s eta 0:00:00\n",
      "Downloading itsdangerous-2.1.2-py3-none-any.whl (15 kB)\n",
      "Downloading Jinja2-3.1.3-py3-none-any.whl (133 kB)\n",
      "   ---------------------------------------- 0.0/133.2 kB ? eta -:--:--\n",
      "   --- ------------------------------------ 10.2/133.2 kB ? eta -:--:--\n",
      "   ----------- --------------------------- 41.0/133.2 kB 495.5 kB/s eta 0:00:01\n",
      "   ----------------- --------------------- 61.4/133.2 kB 656.4 kB/s eta 0:00:01\n",
      "   -------------------------- ------------ 92.2/133.2 kB 525.1 kB/s eta 0:00:01\n",
      "   -------------------------------- ----- 112.6/133.2 kB 595.3 kB/s eta 0:00:01\n",
      "   -------------------------------------- 133.2/133.2 kB 525.6 kB/s eta 0:00:00\n",
      "Downloading werkzeug-3.0.1-py3-none-any.whl (226 kB)\n",
      "   ---------------------------------------- 0.0/226.7 kB ? eta -:--:--\n",
      "   - -------------------------------------- 10.2/226.7 kB ? eta -:--:--\n",
      "   ------- ------------------------------- 41.0/226.7 kB 653.6 kB/s eta 0:00:01\n",
      "   ---------- ---------------------------- 61.4/226.7 kB 544.7 kB/s eta 0:00:01\n",
      "   --------------- ----------------------- 92.2/226.7 kB 581.0 kB/s eta 0:00:01\n",
      "   ------------------ ------------------- 112.6/226.7 kB 544.7 kB/s eta 0:00:01\n",
      "   ------------------------ ------------- 143.4/226.7 kB 532.5 kB/s eta 0:00:01\n",
      "   ----------------------------- -------- 174.1/226.7 kB 551.6 kB/s eta 0:00:01\n",
      "   -------------------------------- ----- 194.6/226.7 kB 535.8 kB/s eta 0:00:01\n",
      "   -------------------------------------  225.3/226.7 kB 573.4 kB/s eta 0:00:01\n",
      "   -------------------------------------- 226.7/226.7 kB 553.5 kB/s eta 0:00:00\n",
      "Downloading MarkupSafe-2.1.5-cp311-cp311-win_amd64.whl (17 kB)\n",
      "Installing collected packages: MarkupSafe, itsdangerous, click, blinker, Werkzeug, Jinja2, Flask\n",
      "Successfully installed Flask-3.0.2 Jinja2-3.1.3 MarkupSafe-2.1.5 Werkzeug-3.0.1 blinker-1.7.0 click-8.1.7 itsdangerous-2.1.2\n",
      "Note: you may need to restart the kernel to use updated packages.\n"
     ]
    }
   ],
   "source": [
    "pip install  Flask"
   ]
  },
  {
   "cell_type": "markdown",
   "metadata": {},
   "source": [
    "ngrok                                                                                                                                                                           (Ctrl+C to quit)                                                                                                                                                                                                K8s Gateway API support available now: https://ngrok.com/r/k8sgb                                                                                                                                                                                                                                                                                                                                Session Status                online                                                                                                                                                            Account                       smile.lin309@gmail.com (Plan: Free)                                                                                                                               Version                       3.8.0                                                                                                                                                             Region                        Japan (jp)                                                                                                                                                        Latency                       51ms                                                                                                                                                              Web Interface                 http://127.0.0.1:4040                                                                                                                                             Forwarding                    https://f867-203-204-48-25.ngrok-free.app -> http://localhost:3000                                                                                                                                                                                                                                                                                                Connections                   ttl     opn     rt1     rt5     p50     p90                                                                                                                                                     0       0       0.00    0.00    0.00    0.00                                                                                                                                                                                                    "
   ]
  },
  {
   "cell_type": "code",
   "execution_count": 24,
   "metadata": {},
   "outputs": [
    {
     "name": "stdout",
     "output_type": "stream",
     "text": [
      " * Serving Flask app '__main__'\n",
      " * Debug mode: off\n"
     ]
    },
    {
     "name": "stderr",
     "output_type": "stream",
     "text": [
      "WARNING: This is a development server. Do not use it in a production deployment. Use a production WSGI server instead.\n",
      " * Running on http://127.0.0.1:3000\n",
      "Press CTRL+C to quit\n"
     ]
    }
   ],
   "source": [
    "import json\n",
    "from flask import Flask\n",
    "app=Flask(__name__)\n",
    "@app.route(\"/\", methods=['GET'])\n",
    "def a():\n",
    "    print(\"OK\")\n",
    "    return \"連線成功\"\n",
    "@app.route(\"/test\", methods=['GET'])\n",
    "def b():\n",
    "    print(\"OK\")\n",
    "    return \"測試成功\"\n",
    "if __name__ == \"__main__\":\n",
    "    app.run(port=3000)"
   ]
  },
  {
   "cell_type": "code",
   "execution_count": 39,
   "metadata": {},
   "outputs": [
    {
     "name": "stdout",
     "output_type": "stream",
     "text": [
      "{'error': {'message': '(#200) Missing Permissions', 'type': 'OAuthException', 'code': 200, 'fbtrace_id': 'ACXmfehh5U3gOe33oOR7VIg'}}\n"
     ]
    },
    {
     "ename": "KeyError",
     "evalue": "'data'",
     "output_type": "error",
     "traceback": [
      "\u001b[1;31m---------------------------------------------------------------------------\u001b[0m",
      "\u001b[1;31mKeyError\u001b[0m                                  Traceback (most recent call last)",
      "Cell \u001b[1;32mIn[39], line 15\u001b[0m\n\u001b[0;32m     13\u001b[0m data\u001b[38;5;241m=\u001b[39mjson\u001b[38;5;241m.\u001b[39mloads(data\u001b[38;5;241m.\u001b[39mtext)\n\u001b[0;32m     14\u001b[0m \u001b[38;5;28mprint\u001b[39m(data)\n\u001b[1;32m---> 15\u001b[0m \u001b[38;5;28;01mfor\u001b[39;00m post \u001b[38;5;129;01min\u001b[39;00m \u001b[43mdata\u001b[49m\u001b[43m[\u001b[49m\u001b[38;5;124;43m'\u001b[39;49m\u001b[38;5;124;43mdata\u001b[39;49m\u001b[38;5;124;43m'\u001b[39;49m\u001b[43m]\u001b[49m:\n\u001b[0;32m     16\u001b[0m     \u001b[38;5;28;01mif\u001b[39;00m post[\u001b[38;5;124m\"\u001b[39m\u001b[38;5;124mid\u001b[39m\u001b[38;5;124m\"\u001b[39m] \u001b[38;5;129;01mnot\u001b[39;00m \u001b[38;5;129;01min\u001b[39;00m re_Id:\n\u001b[0;32m     17\u001b[0m         \u001b[38;5;28;01mif\u001b[39;00m \u001b[38;5;124m\"\u001b[39m\u001b[38;5;124mmessage\u001b[39m\u001b[38;5;124m\"\u001b[39m \u001b[38;5;129;01min\u001b[39;00m post:\n",
      "\u001b[1;31mKeyError\u001b[0m: 'data'"
     ]
    }
   ],
   "source": [
    "import requests as rq\n",
    "import json\n",
    "import time\n",
    "host=\"https://graph.facebook.com/\"\n",
    "ver=\"v19.0/\"\n",
    "user_id=\"269142272945147\"\n",
    "post_id=\"269142272945147_122102751836253073\"    #貼文編號\n",
    "token=\"EAAFnfYZAg7x4BO6m1o9ZCe6CtnU5TRZCG5xpRiEwV7LozkxSVZALjlkVOrKXZBQVvIRRzaFS9OKusOJLyZBAXrXKj6CiqdHJBCzhIQ2XMoD5vP9rb6jCAglNt2MZAwrFnPwkq9DLjnZASa4ViaCe4b3GaHWFGbaBfNgx3ZCZArxgSfDOila1hL7clxa5KO4DXy6lRD\"\n",
    "re_Id=[]\n",
    "\n",
    "while 1:\n",
    "    data=rq.get(host+ver+post_id+\"/comments?access_token=\"+token)\n",
    "    data=json.loads(data.text)\n",
    "    print(data)\n",
    "    for post in data['data']:\n",
    "        if post[\"id\"] not in re_Id:\n",
    "            if \"message\" in post:\n",
    "                if post[\"message\"]==\"+1\":\n",
    "                    print(rq.post(host+ver+post[\"id\"]+\"/comments?message=感謝留言&access_token=\"+token).text)\n",
    "                    re_Id.append(post[\"id\"])\n",
    "    time.sleep(5)"
   ]
  },
  {
   "cell_type": "code",
   "execution_count": 35,
   "metadata": {},
   "outputs": [
    {
     "name": "stdout",
     "output_type": "stream",
     "text": [
      " * Serving Flask app '__main__'\n",
      " * Debug mode: off\n"
     ]
    },
    {
     "name": "stderr",
     "output_type": "stream",
     "text": [
      "WARNING: This is a development server. Do not use it in a production deployment. Use a production WSGI server instead.\n",
      " * Running on http://127.0.0.1:3000\n",
      "Press CTRL+C to quit\n"
     ]
    }
   ],
   "source": [
    "from flask import Flask, request\n",
    "import json\n",
    "app=Flask(__name__)\n",
    "@app.route(\"/\", methods=['GET'])\n",
    "def a():\n",
    "    print(\"OK\")\n",
    "    return \"連線成功\"\n",
    "@app.route(\"/test\", methods=['GET'])\n",
    "def b():\n",
    "    print(\"OK\")\n",
    "    return \"測試成功\"\n",
    "if __name__ == \"__main__\":\n",
    "    app.run(port=3000)\n"
   ]
  },
  {
   "cell_type": "code",
   "execution_count": 41,
   "metadata": {},
   "outputs": [
    {
     "name": "stdout",
     "output_type": "stream",
     "text": [
      " * Serving Flask app '__main__'\n",
      " * Debug mode: off\n"
     ]
    },
    {
     "name": "stderr",
     "output_type": "stream",
     "text": [
      "WARNING: This is a development server. Do not use it in a production deployment. Use a production WSGI server instead.\n",
      " * Running on http://127.0.0.1:3000\n",
      "Press CTRL+C to quit\n",
      "127.0.0.1 - - [25/Mar/2024 23:03:45] \"GET / HTTP/1.1\" 403 -\n"
     ]
    },
    {
     "name": "stdout",
     "output_type": "stream",
     "text": [
      "None\n"
     ]
    }
   ],
   "source": [
    "from flask import Flask, request\n",
    "import json\n",
    "app=Flask(__name__)\n",
    "@app.route(\"/\", methods=['GET'])\n",
    "def a():\n",
    "    print(request.args.get(\"hub.verify_token\"))\n",
    "    if not request.args.get(\"hub.verify_token\") == \"1234\":\n",
    "        return \"Verification token mismatch\", 403\n",
    "    return request.args[\"hub.challenge\"], 200\n",
    "@app.route(\"/test\", methods=['GET'])\n",
    "def b():\n",
    "    print(\"OK\")\n",
    "    return \"測試成功\"\n",
    "if __name__ == \"__main__\":\n",
    "    app.run(port=3000)"
   ]
  },
  {
   "cell_type": "code",
   "execution_count": 40,
   "metadata": {},
   "outputs": [
    {
     "name": "stdout",
     "output_type": "stream",
     "text": [
      " * Serving Flask app '__main__'\n",
      " * Debug mode: off\n"
     ]
    },
    {
     "name": "stderr",
     "output_type": "stream",
     "text": [
      "WARNING: This is a development server. Do not use it in a production deployment. Use a production WSGI server instead.\n",
      " * Running on http://127.0.0.1:3000\n",
      "Press CTRL+C to quit\n",
      "127.0.0.1 - - [25/Mar/2024 22:58:58] \"GET / HTTP/1.1\" 403 -\n"
     ]
    },
    {
     "name": "stdout",
     "output_type": "stream",
     "text": [
      "None\n"
     ]
    },
    {
     "name": "stderr",
     "output_type": "stream",
     "text": [
      "127.0.0.1 - - [25/Mar/2024 23:02:29] \"GET / HTTP/1.1\" 403 -\n"
     ]
    },
    {
     "name": "stdout",
     "output_type": "stream",
     "text": [
      "None\n"
     ]
    }
   ],
   "source": [
    "from flask import Flask, request\n",
    "import json\n",
    "app=Flask(__name__)\n",
    "@app.route(\"/\", methods=['GET'])\n",
    "def a():\n",
    "    print(request.args.get(\"hub.verify_token\"))\n",
    "    if not request.args.get(\"hub.verify_token\") == \"1234\":\n",
    "        return \"Verification token mismatch\", 403\n",
    "    return request.args[\"hub.challenge\"], 200\n",
    "@app.route(\"/test\", methods=['GET'])\n",
    "def b():\n",
    "    print(\"OK\")\n",
    "    return \"測試成功\"\n",
    "if __name__ == \"__main__\":\n",
    "    app.run(port=3000)"
   ]
  },
  {
   "cell_type": "code",
   "execution_count": 42,
   "metadata": {},
   "outputs": [
    {
     "name": "stdout",
     "output_type": "stream",
     "text": [
      " * Serving Flask app '__main__'\n",
      " * Debug mode: off\n"
     ]
    },
    {
     "name": "stderr",
     "output_type": "stream",
     "text": [
      "WARNING: This is a development server. Do not use it in a production deployment. Use a production WSGI server instead.\n",
      " * Running on http://127.0.0.1:3000\n",
      "Press CTRL+C to quit\n",
      "127.0.0.1 - - [25/Mar/2024 23:06:15] \"GET / HTTP/1.1\" 403 -\n"
     ]
    },
    {
     "name": "stdout",
     "output_type": "stream",
     "text": [
      "None\n"
     ]
    }
   ],
   "source": [
    "from flask import Flask, request\n",
    "import json\n",
    "from pymessenger import Bot\n",
    "app=Flask(__name__)\n",
    "token=\"EAAFnfYZAg7x4BO6m1o9ZCe6CtnU5TRZCG5xpRiEwV7LozkxSVZALjlkVOrKXZBQVvIRRzaFS9OKusOJLyZBAXrXKj6CiqdHJBCzhIQ2XMoD5vP9rb6jCAglNt2MZAwrFnPwkq9DLjnZASa4ViaCe4b3GaHWFGbaBfNgx3ZCZArxgSfDOila1hL7clxa5KO4DXy6lRD\"\n",
    "bot = Bot(token)\n",
    "@app.route(\"/\", methods=['GET'])\n",
    "def a():\n",
    "    print(request.args.get(\"hub.verify_token\"))\n",
    "    if not request.args.get(\"hub.verify_token\") == \"1234\":\n",
    "        return \"Verification token mismatch\", 403\n",
    "    return request.args[\"hub.challenge\"], 200\n",
    "@app.route(\"/\", methods=['POST'])\n",
    "def mes():\n",
    "    data=request.get_json()\n",
    "    print(data)\n",
    "    t=data[\"entry\"][0][\"messaging\"][0][\"message\"][\"text\"]\n",
    "    send_ID=data['entry'][0][\"messaging\"][0][\"sender\"]['id']\n",
    "    bot.send_text_message(send_ID,t)\n",
    "    return \"OK\", 200\n",
    "@app.route(\"/test\", methods=['GET'])\n",
    "def b():\n",
    "    print(\"OK\")\n",
    "    return \"測試成功\"\n",
    "if __name__ == \"__main__\":\n",
    "    app.run(port=3000)"
   ]
  }
 ],
 "metadata": {
  "kernelspec": {
   "display_name": "Python 3",
   "language": "python",
   "name": "python3"
  },
  "language_info": {
   "codemirror_mode": {
    "name": "ipython",
    "version": 3
   },
   "file_extension": ".py",
   "mimetype": "text/x-python",
   "name": "python",
   "nbconvert_exporter": "python",
   "pygments_lexer": "ipython3",
   "version": "3.11.8"
  }
 },
 "nbformat": 4,
 "nbformat_minor": 2
}
