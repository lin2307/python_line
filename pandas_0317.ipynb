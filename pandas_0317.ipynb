{
 "cells": [
  {
   "cell_type": "code",
   "execution_count": 1,
   "metadata": {},
   "outputs": [
    {
     "name": "stdout",
     "output_type": "stream",
     "text": [
      "Collecting pandas\n",
      "  Downloading pandas-2.2.1-cp311-cp311-win_amd64.whl.metadata (19 kB)\n",
      "Collecting numpy<2,>=1.23.2 (from pandas)\n",
      "  Downloading numpy-1.26.4-cp311-cp311-win_amd64.whl.metadata (61 kB)\n",
      "     ---------------------------------------- 0.0/61.0 kB ? eta -:--:--\n",
      "     ---------------------------------------- 0.0/61.0 kB ? eta -:--:--\n",
      "     ------------------- ------------------ 30.7/61.0 kB 660.6 kB/s eta 0:00:01\n",
      "     ------------------------- ------------ 41.0/61.0 kB 326.8 kB/s eta 0:00:01\n",
      "     -------------------------------------- 61.0/61.0 kB 461.8 kB/s eta 0:00:00\n",
      "Requirement already satisfied: python-dateutil>=2.8.2 in c:\\users\\smile\\appdata\\local\\packages\\pythonsoftwarefoundation.python.3.11_qbz5n2kfra8p0\\localcache\\local-packages\\python311\\site-packages (from pandas) (2.9.0.post0)\n",
      "Collecting pytz>=2020.1 (from pandas)\n",
      "  Downloading pytz-2024.1-py2.py3-none-any.whl.metadata (22 kB)\n",
      "Collecting tzdata>=2022.7 (from pandas)\n",
      "  Downloading tzdata-2024.1-py2.py3-none-any.whl.metadata (1.4 kB)\n",
      "Requirement already satisfied: six>=1.5 in c:\\users\\smile\\appdata\\local\\packages\\pythonsoftwarefoundation.python.3.11_qbz5n2kfra8p0\\localcache\\local-packages\\python311\\site-packages (from python-dateutil>=2.8.2->pandas) (1.16.0)\n",
      "Downloading pandas-2.2.1-cp311-cp311-win_amd64.whl (11.6 MB)\n",
      "   ---------------------------------------- 0.0/11.6 MB ? eta -:--:--\n",
      "   ---------------------------------------- 0.1/11.6 MB ? eta -:--:--\n",
      "   ---------------------------------------- 0.1/11.6 MB 1.4 MB/s eta 0:00:08\n",
      "    --------------------------------------- 0.2/11.6 MB 1.7 MB/s eta 0:00:07\n",
      "   - -------------------------------------- 0.3/11.6 MB 1.7 MB/s eta 0:00:07\n",
      "   - -------------------------------------- 0.3/11.6 MB 1.4 MB/s eta 0:00:08\n",
      "   - -------------------------------------- 0.5/11.6 MB 2.0 MB/s eta 0:00:06\n",
      "   - -------------------------------------- 0.5/11.6 MB 2.0 MB/s eta 0:00:06\n",
      "   -- ------------------------------------- 0.7/11.6 MB 1.9 MB/s eta 0:00:06\n",
      "   -- ------------------------------------- 0.8/11.6 MB 2.0 MB/s eta 0:00:06\n",
      "   --- ------------------------------------ 1.0/11.6 MB 2.2 MB/s eta 0:00:05\n",
      "   ---- ----------------------------------- 1.2/11.6 MB 2.4 MB/s eta 0:00:05\n",
      "   ---- ----------------------------------- 1.3/11.6 MB 2.4 MB/s eta 0:00:05\n",
      "   ---- ----------------------------------- 1.4/11.6 MB 2.5 MB/s eta 0:00:05\n",
      "   ----- ---------------------------------- 1.5/11.6 MB 2.3 MB/s eta 0:00:05\n",
      "   ----- ---------------------------------- 1.6/11.6 MB 2.4 MB/s eta 0:00:05\n",
      "   ------ --------------------------------- 1.8/11.6 MB 2.4 MB/s eta 0:00:05\n",
      "   ------ --------------------------------- 1.9/11.6 MB 2.5 MB/s eta 0:00:04\n",
      "   ------- -------------------------------- 2.1/11.6 MB 2.5 MB/s eta 0:00:04\n",
      "   ------- -------------------------------- 2.2/11.6 MB 2.5 MB/s eta 0:00:04\n",
      "   -------- ------------------------------- 2.3/11.6 MB 2.6 MB/s eta 0:00:04\n",
      "   -------- ------------------------------- 2.4/11.6 MB 2.5 MB/s eta 0:00:04\n",
      "   --------- ------------------------------ 2.6/11.6 MB 2.6 MB/s eta 0:00:04\n",
      "   --------- ------------------------------ 2.7/11.6 MB 2.5 MB/s eta 0:00:04\n",
      "   ---------- ----------------------------- 3.0/11.6 MB 2.7 MB/s eta 0:00:04\n",
      "   ---------- ----------------------------- 3.1/11.6 MB 2.7 MB/s eta 0:00:04\n",
      "   ----------- ---------------------------- 3.2/11.6 MB 2.7 MB/s eta 0:00:04\n",
      "   ----------- ---------------------------- 3.4/11.6 MB 2.7 MB/s eta 0:00:03\n",
      "   ------------ --------------------------- 3.6/11.6 MB 2.8 MB/s eta 0:00:03\n",
      "   ------------ --------------------------- 3.7/11.6 MB 2.8 MB/s eta 0:00:03\n",
      "   ------------- -------------------------- 3.8/11.6 MB 2.8 MB/s eta 0:00:03\n",
      "   ------------- -------------------------- 3.8/11.6 MB 2.8 MB/s eta 0:00:03\n",
      "   ------------- -------------------------- 3.9/11.6 MB 2.7 MB/s eta 0:00:03\n",
      "   -------------- ------------------------- 4.2/11.6 MB 2.7 MB/s eta 0:00:03\n",
      "   --------------- ------------------------ 4.4/11.6 MB 2.8 MB/s eta 0:00:03\n",
      "   --------------- ------------------------ 4.4/11.6 MB 2.8 MB/s eta 0:00:03\n",
      "   --------------- ------------------------ 4.6/11.6 MB 2.8 MB/s eta 0:00:03\n",
      "   ---------------- ----------------------- 4.7/11.6 MB 2.8 MB/s eta 0:00:03\n",
      "   ---------------- ----------------------- 4.8/11.6 MB 2.7 MB/s eta 0:00:03\n",
      "   ---------------- ----------------------- 4.8/11.6 MB 2.7 MB/s eta 0:00:03\n",
      "   ---------------- ----------------------- 4.9/11.6 MB 2.7 MB/s eta 0:00:03\n",
      "   ----------------- ---------------------- 5.0/11.6 MB 2.6 MB/s eta 0:00:03\n",
      "   ----------------- ---------------------- 5.1/11.6 MB 2.6 MB/s eta 0:00:03\n",
      "   ------------------ --------------------- 5.2/11.6 MB 2.6 MB/s eta 0:00:03\n",
      "   ------------------ --------------------- 5.3/11.6 MB 2.6 MB/s eta 0:00:03\n",
      "   ------------------ --------------------- 5.5/11.6 MB 2.6 MB/s eta 0:00:03\n",
      "   ------------------- -------------------- 5.6/11.6 MB 2.7 MB/s eta 0:00:03\n",
      "   ------------------- -------------------- 5.6/11.6 MB 2.6 MB/s eta 0:00:03\n",
      "   -------------------- ------------------- 6.1/11.6 MB 2.7 MB/s eta 0:00:03\n",
      "   --------------------- ------------------ 6.1/11.6 MB 2.7 MB/s eta 0:00:03\n",
      "   --------------------- ------------------ 6.3/11.6 MB 2.7 MB/s eta 0:00:02\n",
      "   ---------------------- ----------------- 6.4/11.6 MB 2.7 MB/s eta 0:00:02\n",
      "   ---------------------- ----------------- 6.6/11.6 MB 2.8 MB/s eta 0:00:02\n",
      "   ----------------------- ---------------- 6.8/11.6 MB 2.8 MB/s eta 0:00:02\n",
      "   ----------------------- ---------------- 6.9/11.6 MB 2.8 MB/s eta 0:00:02\n",
      "   ----------------------- ---------------- 6.9/11.6 MB 2.8 MB/s eta 0:00:02\n",
      "   ------------------------ --------------- 7.2/11.6 MB 2.8 MB/s eta 0:00:02\n",
      "   ------------------------- -------------- 7.5/11.6 MB 2.9 MB/s eta 0:00:02\n",
      "   -------------------------- ------------- 7.6/11.6 MB 2.9 MB/s eta 0:00:02\n",
      "   -------------------------- ------------- 7.8/11.6 MB 2.9 MB/s eta 0:00:02\n",
      "   --------------------------- ------------ 8.0/11.6 MB 2.9 MB/s eta 0:00:02\n",
      "   ---------------------------- ----------- 8.2/11.6 MB 2.9 MB/s eta 0:00:02\n",
      "   ---------------------------- ----------- 8.3/11.6 MB 2.9 MB/s eta 0:00:02\n",
      "   ---------------------------- ----------- 8.3/11.6 MB 2.9 MB/s eta 0:00:02\n",
      "   ----------------------------- ---------- 8.5/11.6 MB 2.9 MB/s eta 0:00:02\n",
      "   ------------------------------ --------- 8.8/11.6 MB 2.9 MB/s eta 0:00:01\n",
      "   ------------------------------ --------- 9.0/11.6 MB 3.0 MB/s eta 0:00:01\n",
      "   ------------------------------- -------- 9.1/11.6 MB 3.0 MB/s eta 0:00:01\n",
      "   -------------------------------- ------- 9.3/11.6 MB 3.0 MB/s eta 0:00:01\n",
      "   -------------------------------- ------- 9.5/11.6 MB 3.0 MB/s eta 0:00:01\n",
      "   -------------------------------- ------- 9.5/11.6 MB 3.0 MB/s eta 0:00:01\n",
      "   -------------------------------- ------- 9.5/11.6 MB 2.9 MB/s eta 0:00:01\n",
      "   --------------------------------- ------ 9.6/11.6 MB 2.9 MB/s eta 0:00:01\n",
      "   --------------------------------- ------ 9.7/11.6 MB 2.9 MB/s eta 0:00:01\n",
      "   ---------------------------------- ----- 10.1/11.6 MB 2.9 MB/s eta 0:00:01\n",
      "   ---------------------------------- ----- 10.1/11.6 MB 2.9 MB/s eta 0:00:01\n",
      "   ----------------------------------- ---- 10.4/11.6 MB 3.0 MB/s eta 0:00:01\n",
      "   ------------------------------------ --- 10.5/11.6 MB 3.0 MB/s eta 0:00:01\n",
      "   ------------------------------------ --- 10.6/11.6 MB 3.0 MB/s eta 0:00:01\n",
      "   ------------------------------------- -- 10.8/11.6 MB 3.1 MB/s eta 0:00:01\n",
      "   -------------------------------------- - 11.1/11.6 MB 3.1 MB/s eta 0:00:01\n",
      "   -------------------------------------- - 11.2/11.6 MB 3.1 MB/s eta 0:00:01\n",
      "   -------------------------------------- - 11.3/11.6 MB 3.1 MB/s eta 0:00:01\n",
      "   ---------------------------------------  11.4/11.6 MB 3.1 MB/s eta 0:00:01\n",
      "   ---------------------------------------  11.4/11.6 MB 3.1 MB/s eta 0:00:01\n",
      "   ---------------------------------------  11.5/11.6 MB 3.0 MB/s eta 0:00:01\n",
      "   ---------------------------------------  11.5/11.6 MB 3.0 MB/s eta 0:00:01\n",
      "   ---------------------------------------- 11.6/11.6 MB 3.0 MB/s eta 0:00:00\n",
      "Downloading numpy-1.26.4-cp311-cp311-win_amd64.whl (15.8 MB)\n",
      "   ---------------------------------------- 0.0/15.8 MB ? eta -:--:--\n",
      "   ---------------------------------------- 0.1/15.8 MB 2.6 MB/s eta 0:00:07\n",
      "    --------------------------------------- 0.2/15.8 MB 2.5 MB/s eta 0:00:07\n",
      "   - -------------------------------------- 0.4/15.8 MB 3.4 MB/s eta 0:00:05\n",
      "   - -------------------------------------- 0.4/15.8 MB 3.4 MB/s eta 0:00:05\n",
      "   - -------------------------------------- 0.5/15.8 MB 2.3 MB/s eta 0:00:07\n",
      "   - -------------------------------------- 0.5/15.8 MB 2.3 MB/s eta 0:00:07\n",
      "   - -------------------------------------- 0.6/15.8 MB 2.0 MB/s eta 0:00:08\n",
      "   - -------------------------------------- 0.7/15.8 MB 2.0 MB/s eta 0:00:08\n",
      "   -- ------------------------------------- 0.8/15.8 MB 1.9 MB/s eta 0:00:08\n",
      "   -- ------------------------------------- 0.9/15.8 MB 2.1 MB/s eta 0:00:08\n",
      "   -- ------------------------------------- 1.0/15.8 MB 2.1 MB/s eta 0:00:07\n",
      "   -- ------------------------------------- 1.1/15.8 MB 2.0 MB/s eta 0:00:08\n",
      "   -- ------------------------------------- 1.2/15.8 MB 2.1 MB/s eta 0:00:08\n",
      "   --- ------------------------------------ 1.5/15.8 MB 2.3 MB/s eta 0:00:07\n",
      "   ---- ----------------------------------- 1.6/15.8 MB 2.4 MB/s eta 0:00:06\n",
      "   ---- ----------------------------------- 1.7/15.8 MB 2.4 MB/s eta 0:00:06\n",
      "   ---- ----------------------------------- 1.8/15.8 MB 2.3 MB/s eta 0:00:07\n",
      "   ----- ---------------------------------- 2.0/15.8 MB 2.5 MB/s eta 0:00:06\n",
      "   ----- ---------------------------------- 2.2/15.8 MB 2.5 MB/s eta 0:00:06\n",
      "   ------ --------------------------------- 2.4/15.8 MB 2.6 MB/s eta 0:00:06\n",
      "   ------ --------------------------------- 2.5/15.8 MB 2.7 MB/s eta 0:00:05\n",
      "   ------- -------------------------------- 2.8/15.8 MB 2.8 MB/s eta 0:00:05\n",
      "   ------- -------------------------------- 3.0/15.8 MB 2.9 MB/s eta 0:00:05\n",
      "   -------- ------------------------------- 3.3/15.8 MB 3.0 MB/s eta 0:00:05\n",
      "   -------- ------------------------------- 3.4/15.8 MB 3.0 MB/s eta 0:00:05\n",
      "   --------- ------------------------------ 3.6/15.8 MB 3.0 MB/s eta 0:00:05\n",
      "   --------- ------------------------------ 3.9/15.8 MB 3.2 MB/s eta 0:00:04\n",
      "   ---------- ----------------------------- 4.1/15.8 MB 3.2 MB/s eta 0:00:04\n",
      "   ---------- ----------------------------- 4.1/15.8 MB 3.2 MB/s eta 0:00:04\n",
      "   ----------- ---------------------------- 4.4/15.8 MB 3.2 MB/s eta 0:00:04\n",
      "   ----------- ---------------------------- 4.6/15.8 MB 3.2 MB/s eta 0:00:04\n",
      "   ------------ --------------------------- 4.8/15.8 MB 3.3 MB/s eta 0:00:04\n",
      "   ------------ --------------------------- 4.9/15.8 MB 3.2 MB/s eta 0:00:04\n",
      "   ------------ --------------------------- 5.0/15.8 MB 3.2 MB/s eta 0:00:04\n",
      "   ------------ --------------------------- 5.0/15.8 MB 3.1 MB/s eta 0:00:04\n",
      "   ------------ --------------------------- 5.0/15.8 MB 3.0 MB/s eta 0:00:04\n",
      "   ------------ --------------------------- 5.0/15.8 MB 3.0 MB/s eta 0:00:04\n",
      "   ------------- -------------------------- 5.4/15.8 MB 3.1 MB/s eta 0:00:04\n",
      "   ------------- -------------------------- 5.5/15.8 MB 3.0 MB/s eta 0:00:04\n",
      "   -------------- ------------------------- 5.6/15.8 MB 3.0 MB/s eta 0:00:04\n",
      "   -------------- ------------------------- 5.7/15.8 MB 3.0 MB/s eta 0:00:04\n",
      "   -------------- ------------------------- 5.8/15.8 MB 3.0 MB/s eta 0:00:04\n",
      "   --------------- ------------------------ 6.0/15.8 MB 3.0 MB/s eta 0:00:04\n",
      "   --------------- ------------------------ 6.0/15.8 MB 3.0 MB/s eta 0:00:04\n",
      "   --------------- ------------------------ 6.2/15.8 MB 3.0 MB/s eta 0:00:04\n",
      "   --------------- ------------------------ 6.2/15.8 MB 2.9 MB/s eta 0:00:04\n",
      "   ---------------- ----------------------- 6.5/15.8 MB 3.0 MB/s eta 0:00:04\n",
      "   ---------------- ----------------------- 6.6/15.8 MB 2.9 MB/s eta 0:00:04\n",
      "   ---------------- ----------------------- 6.7/15.8 MB 3.0 MB/s eta 0:00:04\n",
      "   ----------------- ---------------------- 6.8/15.8 MB 3.0 MB/s eta 0:00:04\n",
      "   ----------------- ---------------------- 6.9/15.8 MB 2.9 MB/s eta 0:00:04\n",
      "   ----------------- ---------------------- 6.9/15.8 MB 2.9 MB/s eta 0:00:04\n",
      "   ----------------- ---------------------- 6.9/15.8 MB 2.9 MB/s eta 0:00:04\n",
      "   ----------------- ---------------------- 7.1/15.8 MB 2.8 MB/s eta 0:00:04\n",
      "   ------------------ --------------------- 7.1/15.8 MB 2.8 MB/s eta 0:00:04\n",
      "   ------------------ --------------------- 7.4/15.8 MB 2.8 MB/s eta 0:00:03\n",
      "   ------------------- -------------------- 7.5/15.8 MB 2.8 MB/s eta 0:00:03\n",
      "   ------------------- -------------------- 7.8/15.8 MB 2.9 MB/s eta 0:00:03\n",
      "   -------------------- ------------------- 7.9/15.8 MB 2.9 MB/s eta 0:00:03\n",
      "   -------------------- ------------------- 8.1/15.8 MB 2.9 MB/s eta 0:00:03\n",
      "   -------------------- ------------------- 8.2/15.8 MB 2.9 MB/s eta 0:00:03\n",
      "   --------------------- ------------------ 8.3/15.8 MB 2.9 MB/s eta 0:00:03\n",
      "   --------------------- ------------------ 8.3/15.8 MB 2.9 MB/s eta 0:00:03\n",
      "   --------------------- ------------------ 8.4/15.8 MB 2.8 MB/s eta 0:00:03\n",
      "   --------------------- ------------------ 8.4/15.8 MB 2.8 MB/s eta 0:00:03\n",
      "   --------------------- ------------------ 8.5/15.8 MB 2.8 MB/s eta 0:00:03\n",
      "   --------------------- ------------------ 8.5/15.8 MB 2.8 MB/s eta 0:00:03\n",
      "   --------------------- ------------------ 8.5/15.8 MB 2.7 MB/s eta 0:00:03\n",
      "   --------------------- ------------------ 8.5/15.8 MB 2.7 MB/s eta 0:00:03\n",
      "   --------------------- ------------------ 8.6/15.8 MB 2.7 MB/s eta 0:00:03\n",
      "   --------------------- ------------------ 8.6/15.8 MB 2.6 MB/s eta 0:00:03\n",
      "   --------------------- ------------------ 8.6/15.8 MB 2.6 MB/s eta 0:00:03\n",
      "   --------------------- ------------------ 8.6/15.8 MB 2.6 MB/s eta 0:00:03\n",
      "   --------------------- ------------------ 8.6/15.8 MB 2.6 MB/s eta 0:00:03\n",
      "   --------------------- ------------------ 8.6/15.8 MB 2.6 MB/s eta 0:00:03\n",
      "   --------------------- ------------------ 8.6/15.8 MB 2.6 MB/s eta 0:00:03\n",
      "   --------------------- ------------------ 8.6/15.8 MB 2.6 MB/s eta 0:00:03\n",
      "   ------------------------ --------------- 9.7/15.8 MB 2.7 MB/s eta 0:00:03\n",
      "   ------------------------ --------------- 9.7/15.8 MB 2.7 MB/s eta 0:00:03\n",
      "   ------------------------ --------------- 9.7/15.8 MB 2.6 MB/s eta 0:00:03\n",
      "   ------------------------ --------------- 9.8/15.8 MB 2.6 MB/s eta 0:00:03\n",
      "   ------------------------- -------------- 9.9/15.8 MB 2.6 MB/s eta 0:00:03\n",
      "   ------------------------- -------------- 10.0/15.8 MB 2.6 MB/s eta 0:00:03\n",
      "   ------------------------- -------------- 10.0/15.8 MB 2.6 MB/s eta 0:00:03\n",
      "   ------------------------- -------------- 10.1/15.8 MB 2.6 MB/s eta 0:00:03\n",
      "   -------------------------- ------------- 10.3/15.8 MB 2.6 MB/s eta 0:00:03\n",
      "   -------------------------- ------------- 10.5/15.8 MB 2.6 MB/s eta 0:00:03\n",
      "   -------------------------- ------------- 10.6/15.8 MB 2.6 MB/s eta 0:00:03\n",
      "   --------------------------- ------------ 10.8/15.8 MB 2.7 MB/s eta 0:00:02\n",
      "   --------------------------- ------------ 11.1/15.8 MB 2.7 MB/s eta 0:00:02\n",
      "   ---------------------------- ----------- 11.5/15.8 MB 2.8 MB/s eta 0:00:02\n",
      "   ----------------------------- ---------- 11.5/15.8 MB 2.8 MB/s eta 0:00:02\n",
      "   ----------------------------- ---------- 11.7/15.8 MB 2.8 MB/s eta 0:00:02\n",
      "   ------------------------------ --------- 12.0/15.8 MB 2.9 MB/s eta 0:00:02\n",
      "   ------------------------------ --------- 12.0/15.8 MB 2.8 MB/s eta 0:00:02\n",
      "   ------------------------------ --------- 12.0/15.8 MB 2.8 MB/s eta 0:00:02\n",
      "   ------------------------------ --------- 12.1/15.8 MB 2.8 MB/s eta 0:00:02\n",
      "   ------------------------------ --------- 12.2/15.8 MB 2.7 MB/s eta 0:00:02\n",
      "   ------------------------------- -------- 12.3/15.8 MB 2.8 MB/s eta 0:00:02\n",
      "   ------------------------------- -------- 12.4/15.8 MB 2.8 MB/s eta 0:00:02\n",
      "   ------------------------------- -------- 12.5/15.8 MB 2.7 MB/s eta 0:00:02\n",
      "   -------------------------------- ------- 12.8/15.8 MB 2.7 MB/s eta 0:00:02\n",
      "   -------------------------------- ------- 12.9/15.8 MB 2.7 MB/s eta 0:00:02\n",
      "   -------------------------------- ------- 13.0/15.8 MB 2.7 MB/s eta 0:00:02\n",
      "   --------------------------------- ------ 13.3/15.8 MB 2.7 MB/s eta 0:00:01\n",
      "   ---------------------------------- ----- 13.5/15.8 MB 2.7 MB/s eta 0:00:01\n",
      "   ---------------------------------- ----- 13.6/15.8 MB 2.7 MB/s eta 0:00:01\n",
      "   ---------------------------------- ----- 13.8/15.8 MB 2.7 MB/s eta 0:00:01\n",
      "   ---------------------------------- ----- 13.8/15.8 MB 2.7 MB/s eta 0:00:01\n",
      "   ---------------------------------- ----- 13.8/15.8 MB 2.7 MB/s eta 0:00:01\n",
      "   ----------------------------------- ---- 13.9/15.8 MB 2.6 MB/s eta 0:00:01\n",
      "   ----------------------------------- ---- 14.2/15.8 MB 2.6 MB/s eta 0:00:01\n",
      "   ------------------------------------ --- 14.5/15.8 MB 2.6 MB/s eta 0:00:01\n",
      "   ------------------------------------ --- 14.6/15.8 MB 2.6 MB/s eta 0:00:01\n",
      "   ------------------------------------ --- 14.6/15.8 MB 2.6 MB/s eta 0:00:01\n",
      "   ------------------------------------- -- 14.7/15.8 MB 2.6 MB/s eta 0:00:01\n",
      "   ------------------------------------- -- 14.7/15.8 MB 2.5 MB/s eta 0:00:01\n",
      "   ------------------------------------- -- 14.8/15.8 MB 2.5 MB/s eta 0:00:01\n",
      "   ------------------------------------- -- 14.9/15.8 MB 2.5 MB/s eta 0:00:01\n",
      "   -------------------------------------- - 15.0/15.8 MB 2.5 MB/s eta 0:00:01\n",
      "   -------------------------------------- - 15.2/15.8 MB 2.6 MB/s eta 0:00:01\n",
      "   ---------------------------------------  15.5/15.8 MB 2.6 MB/s eta 0:00:01\n",
      "   ---------------------------------------  15.6/15.8 MB 2.6 MB/s eta 0:00:01\n",
      "   ---------------------------------------  15.8/15.8 MB 2.6 MB/s eta 0:00:01\n",
      "   ---------------------------------------- 15.8/15.8 MB 2.6 MB/s eta 0:00:00\n",
      "Downloading pytz-2024.1-py2.py3-none-any.whl (505 kB)\n",
      "   ---------------------------------------- 0.0/505.5 kB ? eta -:--:--\n",
      "   -------- ------------------------------- 112.6/505.5 kB 3.3 MB/s eta 0:00:01\n",
      "   ----------- ---------------------------- 143.4/505.5 kB 2.1 MB/s eta 0:00:01\n",
      "   ---------------------------------- ----- 440.3/505.5 kB 3.4 MB/s eta 0:00:01\n",
      "   ---------------------------------------- 505.5/505.5 kB 3.5 MB/s eta 0:00:00\n",
      "Downloading tzdata-2024.1-py2.py3-none-any.whl (345 kB)\n",
      "   ---------------------------------------- 0.0/345.4 kB ? eta -:--:--\n",
      "   ---- ----------------------------------- 41.0/345.4 kB ? eta -:--:--\n",
      "   ---------- ----------------------------- 92.2/345.4 kB 5.5 MB/s eta 0:00:01\n",
      "   ------------- -------------------------- 112.6/345.4 kB 1.7 MB/s eta 0:00:01\n",
      "   ----------------- ---------------------- 153.6/345.4 kB 1.1 MB/s eta 0:00:01\n",
      "   ----------------------- ---------------- 204.8/345.4 kB 1.1 MB/s eta 0:00:01\n",
      "   -------------------------- ------------- 225.3/345.4 kB 1.1 MB/s eta 0:00:01\n",
      "   ------------------------------ ------- 276.5/345.4 kB 947.5 kB/s eta 0:00:01\n",
      "   ---------------------------------------- 345.4/345.4 kB 1.1 MB/s eta 0:00:00\n",
      "Installing collected packages: pytz, tzdata, numpy, pandas\n",
      "Successfully installed numpy-1.26.4 pandas-2.2.1 pytz-2024.1 tzdata-2024.1\n",
      "Note: you may need to restart the kernel to use updated packages.\n"
     ]
    }
   ],
   "source": [
    "pip install pandas\n"
   ]
  },
  {
   "cell_type": "code",
   "execution_count": 5,
   "metadata": {},
   "outputs": [
    {
     "name": "stdout",
     "output_type": "stream",
     "text": [
      "p1      Apple\n",
      "p2    Samsung\n",
      "p3         Mi\n",
      "p4       Sony\n",
      "dtype: object\n"
     ]
    }
   ],
   "source": [
    "import pandas as pd\n",
    "phone = pd.Series([\"Apple\",\"Samsung\",\"Mi\",\"Sony\"],\n",
    "                  index=[\"p1\",\"p2\",\"p3\",\"p4\"])\n",
    "print(phone)"
   ]
  },
  {
   "cell_type": "code",
   "execution_count": 7,
   "metadata": {},
   "outputs": [
    {
     "name": "stdout",
     "output_type": "stream",
     "text": [
      "0      Apple\n",
      "1    Samsung\n",
      "2         Mi\n",
      "3       Sony\n",
      "0      45234\n",
      "1       7844\n",
      "dtype: object\n"
     ]
    }
   ],
   "source": [
    "phone = pd.Series([\"Apple\",\"Samsung\",\"Mi\",\"Sony\"])\n",
    "data = pd.Series([\"45234\",\"7844\"])\n",
    "combined = phone._append(data)\n",
    "\n",
    "print(combined)"
   ]
  },
  {
   "cell_type": "code",
   "execution_count": 9,
   "metadata": {},
   "outputs": [
    {
     "name": "stdout",
     "output_type": "stream",
     "text": [
      "0      Apple\n",
      "1    Samsung\n",
      "2         Mi\n",
      "3       Sony\n",
      "4      45234\n",
      "5       7844\n",
      "dtype: object\n"
     ]
    }
   ],
   "source": [
    "phone = pd.Series([\"Apple\",\"Samsung\",\"Mi\",\"Sony\"])\n",
    "data = pd.Series([\"45234\",\"7844\"])\n",
    "combined = phone._append(data,ignore_index=True)\n",
    "\n",
    "print(combined)"
   ]
  },
  {
   "cell_type": "code",
   "execution_count": 10,
   "metadata": {},
   "outputs": [
    {
     "name": "stdout",
     "output_type": "stream",
     "text": [
      "a      Apple\n",
      "b    Samsung\n",
      "c       Oppo\n",
      "d       Sony\n",
      "dtype: object\n"
     ]
    },
    {
     "name": "stderr",
     "output_type": "stream",
     "text": [
      "C:\\Users\\smile\\AppData\\Local\\Temp\\ipykernel_4300\\1790394455.py:4: FutureWarning: Series.__getitem__ treating keys as positions is deprecated. In a future version, integer keys will always be treated as labels (consistent with DataFrame behavior). To access a value by position, use `ser.iloc[pos]`\n",
      "  phone[1]\n"
     ]
    }
   ],
   "source": [
    "phone = pd.Series([\"Apple\",\"Samsung\",\"Mi\",\"Sony\"],index=[\"a\",\"b\",\"c\",\"d\"])\n",
    "data = pd.Series([\"45234\",\"7844\"])\n",
    "phone[\"c\"]=\"Oppo\"\n",
    "phone[1]\n",
    "print(phone)"
   ]
  },
  {
   "cell_type": "markdown",
   "metadata": {},
   "source": [
    "df[]:單筆 Serial,沒有欄名\n",
    "df[[]]:多欄 DataFrame, 有欄名"
   ]
  },
  {
   "cell_type": "code",
   "execution_count": 1,
   "metadata": {},
   "outputs": [
    {
     "name": "stdout",
     "output_type": "stream",
     "text": [
      "0      Apple\n",
      "1    Samsung\n",
      "2         Mi\n",
      "3       Sony\n",
      "dtype: object\n"
     ]
    }
   ],
   "source": [
    "#建立Pandas Series\n",
    "#import pandas as pd\n",
    "#物件名稱 = pandas.Series(資料串列)\n",
    "#單維度資料\n",
    "import pandas as pd\n",
    "phone = pd.Series([\"Apple\",\"Samsung\",\"Mi\",\"Sony\"])\n",
    "print(phone)"
   ]
  },
  {
   "cell_type": "code",
   "execution_count": 2,
   "metadata": {},
   "outputs": [
    {
     "name": "stdout",
     "output_type": "stream",
     "text": [
      "p1      Apple\n",
      "p2    Samsung\n",
      "p3         Mi\n",
      "p4       Sony\n",
      "dtype: object\n"
     ]
    }
   ],
   "source": [
    "#建立物件索引值\n",
    "#物件.index=[\"key1\",\"key2\",\"key3\"]\n",
    "import pandas as pd\n",
    "phone = pd.Series([\"Apple\",\"Samsung\",\"Mi\",\"Sony\"], \n",
    "                  index=[\"p1\",\"p2\",\"p3\",\"p4\"])\n",
    "print(phone)"
   ]
  },
  {
   "cell_type": "code",
   "execution_count": 3,
   "metadata": {},
   "outputs": [
    {
     "name": "stdout",
     "output_type": "stream",
     "text": [
      "Samsung\n",
      "Mi\n"
     ]
    },
    {
     "name": "stderr",
     "output_type": "stream",
     "text": [
      "C:\\Users\\smile\\AppData\\Local\\Temp\\ipykernel_25960\\2830277285.py:4: FutureWarning: Series.__getitem__ treating keys as positions is deprecated. In a future version, integer keys will always be treated as labels (consistent with DataFrame behavior). To access a value by position, use `ser.iloc[pos]`\n",
      "  print(phone[1])\n"
     ]
    }
   ],
   "source": [
    "#取得Pandas Seriees資料\n",
    "phone = pd.Series([\"Apple\",\"Samsung\",\"Mi\",\"Sony\"], \n",
    "                  index=[\"p1\",\"p2\",\"p3\",\"p4\"])\n",
    "print(phone[1])\n",
    "print(phone[\"p3\"])"
   ]
  },
  {
   "cell_type": "code",
   "execution_count": 5,
   "metadata": {},
   "outputs": [
    {
     "name": "stdout",
     "output_type": "stream",
     "text": [
      "0      Apple\n",
      "1    Samsung\n",
      "2         Mi\n",
      "3       Sony\n",
      "0        HTC\n",
      "1       Oppo\n",
      "dtype: object\n"
     ]
    }
   ],
   "source": [
    "#合併Pandas Series資料\n",
    "#物件1 = 物件2._append(物件3)\n",
    "phone = pd.Series([\"Apple\",\"Samsung\",\"Mi\",\"Sony\"])\n",
    "data = pd.Series([\"HTC\",\"Oppo\"]) #新增的資料\n",
    "combined = phone._append(data)\n",
    "print(combined)\n"
   ]
  },
  {
   "cell_type": "code",
   "execution_count": 3,
   "metadata": {},
   "outputs": [
    {
     "name": "stdout",
     "output_type": "stream",
     "text": [
      "0      Apple\n",
      "1    Samsung\n",
      "2         Mi\n",
      "3       Sony\n",
      "4        HTC\n",
      "5       Oppo\n",
      "dtype: object\n"
     ]
    }
   ],
   "source": [
    "#是否忽略原始索引值\n",
    "#ignore_index=True\n",
    "import pandas as pd\n",
    "phone = pd.Series([\"Apple\",\"Samsung\",\"Mi\",\"Sony\"])\n",
    "data = pd.Series([\"HTC\",\"Oppo\"]) #新增的資料\n",
    "combined = phone._append(data,ignore_index=True)\n",
    "print(combined)"
   ]
  },
  {
   "cell_type": "code",
   "execution_count": 4,
   "metadata": {},
   "outputs": [
    {
     "name": "stdout",
     "output_type": "stream",
     "text": [
      "p1    Apple\n",
      "p2    Smile\n",
      "p3     Oppo\n",
      "p4     Sony\n",
      "dtype: object\n"
     ]
    },
    {
     "name": "stderr",
     "output_type": "stream",
     "text": [
      "C:\\Users\\smile\\AppData\\Local\\Temp\\ipykernel_25148\\2411454583.py:5: FutureWarning: Series.__setitem__ treating keys as positions is deprecated. In a future version, integer keys will always be treated as labels (consistent with DataFrame behavior). To set a value by position, use `ser.iloc[pos] = value`\n",
      "  phone[1] = \"Smile\"\n"
     ]
    }
   ],
   "source": [
    "#修改Pandas Seriees資料\n",
    "phone = pd.Series([\"Apple\",\"Samsung\",\"Mi\",\"Sony\"], \n",
    "                  index=[\"p1\",\"p2\",\"p3\",\"p4\"])\n",
    "phone[\"p3\"] = \"Oppo\"\n",
    "phone[1] = \"Smile\"\n",
    "print(phone)\n"
   ]
  },
  {
   "cell_type": "code",
   "execution_count": 5,
   "metadata": {},
   "outputs": [
    {
     "name": "stdout",
     "output_type": "stream",
     "text": [
      "4\n",
      "0      APPLE\n",
      "1    SAMSUNG\n",
      "2         MI\n",
      "3       SONY\n",
      "dtype: object\n",
      "0      apple\n",
      "1    samsung\n",
      "2         mi\n",
      "3       sony\n",
      "dtype: object\n",
      "0    False\n",
      "1     True\n",
      "2    False\n",
      "3    False\n",
      "dtype: bool\n",
      "Apple;Samsung;Mi;Sony\n",
      "0    Apple\n",
      "1    Smile\n",
      "2       Mi\n",
      "3     Sony\n",
      "dtype: object\n"
     ]
    }
   ],
   "source": [
    "# Pandas Series字串運算\n",
    "phone = pd.Series([\"Apple\",\"Samsung\",\"Mi\",\"Sony\"])\n",
    "print(phone.size)       #取得資料筆數\n",
    "print(phone.str.upper())       #將字串資料轉換為大寫\n",
    "print(phone.str.lower())       #將字串資料轉換為小寫\n",
    "print(phone.str.contains(\"Sa\"))       #搜尋是否包含特定字串\n",
    "print(phone.str.cat(sep=\";\"))       #利用自訂分隔符號連接字串\n",
    "print(phone.str.replace(\"Samsung\",\"Smile\"))       #將Samsung取代為Smile\n",
    "\n"
   ]
  },
  {
   "cell_type": "code",
   "execution_count": 6,
   "metadata": {},
   "outputs": [
    {
     "name": "stdout",
     "output_type": "stream",
     "text": [
      "30\n",
      "5\n",
      "85\n",
      "14.166666666666666\n",
      "5    30\n",
      "0    22\n",
      "dtype: int64\n",
      "1    5\n",
      "4    6\n",
      "dtype: int64\n"
     ]
    }
   ],
   "source": [
    "# Pandas Series數值運算\n",
    "numbers = pd.Series([22,5,10,12,6,30])\n",
    "print(numbers.max())        #取得最大值\n",
    "print(numbers.min())        #取得最小值\n",
    "print(numbers.sum())        #取得總和\n",
    "print(numbers.mean())        #取得平均值\n",
    "print(numbers.nlargest(2))        #取得最大的2個數值\n",
    "print(numbers.nsmallest(2))        #取得最小的2個數值\n"
   ]
  },
  {
   "cell_type": "markdown",
   "metadata": {},
   "source": [
    "Pandas DataFrame\n",
    "雙維度資料"
   ]
  },
  {
   "cell_type": "code",
   "execution_count": 7,
   "metadata": {},
   "outputs": [
    {
     "name": "stdout",
     "output_type": "stream",
     "text": [
      "     name  math  chinese\n",
      "0    Mike    80       63\n",
      "1  Sherry    75       90\n",
      "2   Cindy    93       85\n",
      "3    John    86       70\n"
     ]
    }
   ],
   "source": [
    "#建立Pandas DataFrame物件(字典)\n",
    "# import pandas as pd\n",
    "#物件名稱=pandas.DataFrame([資料串列])\n",
    "grades = {\"name\":[\"Mike\",\"Sherry\",\"Cindy\",\"John\"],\n",
    "          \"math\":[80,75,93,86],\n",
    "          \"chinese\":[63,90,85,70]}\n",
    "df = pd.DataFrame(grades)\n",
    "print(df)\n"
   ]
  },
  {
   "cell_type": "code",
   "execution_count": 8,
   "metadata": {},
   "outputs": [
    {
     "name": "stdout",
     "output_type": "stream",
     "text": [
      "        0   1   2\n",
      "0    Mike  80  63\n",
      "1  Sherry  75  90\n",
      "2   Cindy  93  85\n",
      "3    John  86  70\n"
     ]
    }
   ],
   "source": [
    "#建立Pandas DataFrame物件(清單)\n",
    "grades=[\n",
    "    [\"Mike\",80,63],\n",
    "    [\"Sherry\",75,90],\n",
    "    [\"Cindy\",93,85],\n",
    "    [\"John\",86,70]\n",
    "]\n",
    "new_df=pd.DataFrame(grades)\n",
    "print(new_df)\n"
   ]
  },
  {
   "cell_type": "code",
   "execution_count": 11,
   "metadata": {},
   "outputs": [
    {
     "name": "stdout",
     "output_type": "stream",
     "text": [
      "     name  math  chinese\n",
      "0    Mike    80       63\n",
      "1  Sherry    75       90\n",
      "2   Cindy    93       85\n",
      "3    John    86       70\n",
      "   student_name  math_score  chinese_score\n",
      "s1         Mike          80             63\n",
      "s2       Sherry          75             90\n",
      "s3        Cindy          93             85\n",
      "s4         John          86             70\n"
     ]
    }
   ],
   "source": [
    "#建立物件索引值與欄位名稱\n",
    "#物件.index = [\"key1\",\"key2\",\"key3\"]\n",
    "#物件.columns = [\"key1\",\"key2\",\"key3\"]\n",
    "grades = {\"name\":[\"Mike\",\"Sherry\",\"Cindy\",\"John\"],\n",
    "          \"math\":[80,75,93,86],\n",
    "          \"chinese\":[63,90,85,70]\n",
    "          }\n",
    "df = pd.DataFrame(grades)\n",
    "print(df)\n",
    "df.index = [\"s1\",\"s2\",\"s3\",\"s4\"]    #自訂索引值\n",
    "df.columns = [\"student_name\",\"math_score\",\"chinese_score\"]   #自訂欄位名稱\n",
    "print(df)"
   ]
  },
  {
   "cell_type": "code",
   "execution_count": 19,
   "metadata": {},
   "outputs": [
    {
     "name": "stdout",
     "output_type": "stream",
     "text": [
      "原來的df\n",
      "     name  math  chinese\n",
      "0    Mike    80       63\n",
      "1  Sherry    75       90\n",
      "2   Cindy    93       85\n",
      "3    John    86       70\n",
      "---------------------------------\n",
      "取得最前面的兩筆資料\n",
      "     name  math  chinese\n",
      "0    Mike    80       63\n",
      "1  Sherry    75       90\n",
      "取得最後面的兩筆資料\n",
      "    name  math  chinese\n",
      "2  Cindy    93       85\n",
      "3   John    86       70\n",
      "取得單一欄位資料(型別為Series)\n",
      "0      Mike\n",
      "1    Sherry\n",
      "2     Cindy\n",
      "3      John\n",
      "Name: name, dtype: object\n",
      "取得單欄位資料(型別為DataFrame)\n",
      "     name\n",
      "0    Mike\n",
      "1  Sherry\n",
      "2   Cindy\n",
      "3    John\n",
      "取得多個欄位資料(型別為DataFrame)\n",
      "     name  math\n",
      "0    Mike    80\n",
      "1  Sherry    75\n",
      "2   Cindy    93\n",
      "3    John    86\n",
      "取得索引值0~2的資料\n",
      "     name  math  chinese\n",
      "0    Mike    80       63\n",
      "1  Sherry    75       90\n",
      "2   Cindy    93       85\n"
     ]
    }
   ],
   "source": [
    "#取得DataFrame資料_1\n",
    "#順序取得前幾筆\n",
    "#物件.head(筆數)\n",
    "grades = {\"name\":[\"Mike\",\"Sherry\",\"Cindy\",\"John\"],\n",
    "          \"math\":[80,75,93,86],\n",
    "          \"chinese\":[63,90,85,70]\n",
    "          }\n",
    "df = pd.DataFrame(grades)\n",
    "print(\"原來的df\")\n",
    "print(df)\n",
    "print(\"---------------------------------\")\n",
    "new_df = df.head(2)\n",
    "print(\"取得最前面的兩筆資料\")\n",
    "print(new_df)\n",
    "\n",
    "#逆序取得前幾筆\n",
    "#物件.tail(筆數)\n",
    "new_df_t = df.tail(2)\n",
    "print(\"取得最後面的兩筆資料\")\n",
    "print(new_df_t)\n",
    "\n",
    "#取得DataFrame資料\n",
    "#物件[\"key\"]\n",
    "print(\"取得單一欄位資料(型別為Series)\")\n",
    "print(df[\"name\"])\n",
    "\n",
    "#取得DataFrame資料\n",
    "#物件[[\"key\"]]\n",
    "print(\"取得單欄位資料(型別為DataFrame)\")\n",
    "print(df[[\"name\"]])\n",
    "print(\"取得多個欄位資料(型別為DataFrame)\")\n",
    "print(df[[\"name\",\"math\"]])\n",
    "\n",
    "#物件[起始索引值:結尾索引值]\n",
    "print(\"取得索引值0~2的資料\")\n",
    "print(df[0:3])"
   ]
  },
  {
   "cell_type": "code",
   "execution_count": 27,
   "metadata": {},
   "outputs": [
    {
     "name": "stdout",
     "output_type": "stream",
     "text": [
      "利用at()方法取得索引為1的math欄位資料\n",
      "75\n",
      "利用iat()方法取得索引為1的第一個欄位資料\n",
      "Sherry\n",
      "取得資料索引值為1和3的第一個及第三個欄位資料集\n",
      "     name  chinese\n",
      "1  Sherry       90\n",
      "3    John       70\n"
     ]
    }
   ],
   "source": [
    "#物件.at[key:\"key\"]\n",
    "#物件.iat[key:欄位索引值]\n",
    "print(\"利用at()方法取得索引為1的math欄位資料\")\n",
    "print(df.at[1,\"math\"])\n",
    "print(\"利用iat()方法取得索引為1的第一個欄位資料\")\n",
    "print(df.iat[1,0])\n",
    "\n",
    "\n",
    "#物件.iloc[[key1,key2],[key1,key2]]\n",
    "print(\"取得資料索引值為1和3的第一個及第三個欄位資料集\")\n",
    "print(df.iloc[[1,3],[0,2]])\n"
   ]
  },
  {
   "cell_type": "code",
   "execution_count": 34,
   "metadata": {},
   "outputs": [
    {
     "name": "stdout",
     "output_type": "stream",
     "text": [
      "在第3欄的位置新增一個欄位資料\n",
      "     name  math  test  english  chinese\n",
      "0    Mike    80    88       88       63\n",
      "1  Sherry    75    72       72       90\n",
      "2   Cindy    93    74       74       85\n",
      "3    John    86    98       98       70\n"
     ]
    }
   ],
   "source": [
    "#新增DataFrame資料\n",
    "#物件.insert(key,column='key',value[值1,值2])\n",
    "df.insert(2,column=\"test\",value=[88,72,74,98])\n",
    "print(\"在第3欄的位置新增一個欄位資料\")\n",
    "print(df)\n",
    "\n",
    "\n",
    "    "
   ]
  },
  {
   "cell_type": "code",
   "execution_count": 36,
   "metadata": {},
   "outputs": [
    {
     "name": "stdout",
     "output_type": "stream",
     "text": [
      "新增一筆資料\n",
      "     name  math  test  english  chinese\n",
      "0    Mike    80    88       88       63\n",
      "1  Sherry    75    72       72       90\n",
      "2   Cindy    93    74       74       85\n",
      "3    John    86    98       98       70\n",
      "4   Smile    60    78       65       70\n"
     ]
    }
   ],
   "source": [
    "#物件.append({'key':'value'},ignor_index=True)\n",
    "new_df1=df._append({\n",
    "    \"name\":\"Smile\",\n",
    "    \"math\":60,\n",
    "    \"test\":78,\n",
    "    \"english\":65,\n",
    "    \"chinese\":70\n",
    "},ignore_index=True)\n",
    "print(\"新增一筆資料\")\n",
    "print(new_df1)"
   ]
  },
  {
   "cell_type": "code",
   "execution_count": 38,
   "metadata": {},
   "outputs": [
    {
     "name": "stdout",
     "output_type": "stream",
     "text": [
      "原來的df\n",
      "     name  math  test  english  chinese\n",
      "0    Mike    80    88       88       63\n",
      "1  Sherry    75    72       72       90\n",
      "2   Cindy    93    74       74       85\n",
      "3    John    86    98       98       70\n",
      "-------------------------\n",
      "合併df2來新增資料\n",
      "     name  math  test  english  chinese\n",
      "0    Mike    80    88       88       63\n",
      "1  Sherry    75    72       72       90\n",
      "2   Cindy    93    74       74       85\n",
      "3    John    86    98       98       70\n",
      "4   Marry    88    90      100       95\n"
     ]
    }
   ],
   "source": [
    "#合併DataFrame資料\n",
    "#pd.concat([物件1,物件2],ignore_index=True)\n",
    "\n",
    "print(\"原來的df\")\n",
    "print(df)\n",
    "print(\"-------------------------\")\n",
    "\n",
    "df2=pd.DataFrame({\n",
    "    \"name\":[\"Marry\"],\n",
    "    \"math\":[88],\n",
    "    \"test\":[90],\n",
    "    \"english\":[100],\n",
    "    \"chinese\":[95]    \n",
    "})\n",
    "\n",
    "new_df2=pd.concat([df,df2],ignore_index=True)\n",
    "print(\"合併df2來新增資料\")\n",
    "print(new_df2)\n",
    "\n"
   ]
  },
  {
   "cell_type": "code",
   "execution_count": 41,
   "metadata": {},
   "outputs": [
    {
     "name": "stdout",
     "output_type": "stream",
     "text": [
      "原來的df\n",
      "    name  math  test  english  chinese\n",
      "0   Mike    80    88       88       63\n",
      "1  Larry   100    72       72       90\n",
      "2  Cindy    93    74       74       85\n",
      "3   John    86    98       98       70\n",
      "----------------------\n",
      "修改後的df\n",
      "    name  math  test  english  chinese\n",
      "0   Mike    80    88       88       63\n",
      "1  Larry   100    72       72       90\n",
      "2  Cindy    93    74       74       85\n",
      "3   John    86    98       98       70\n",
      "刪除math欄資料\n",
      "    name  math  english  chinese\n",
      "0   Mike    80       88       63\n",
      "1  Larry   100       72       90\n",
      "2  Cindy    93       74       85\n",
      "3   John    86       98       70\n",
      "刪除第一筆及第四筆資料\n",
      "    name  math  test  english  chinese\n",
      "1  Larry   100    72       72       90\n",
      "2  Cindy    93    74       74       85\n"
     ]
    }
   ],
   "source": [
    "#修改DataFrame資料\n",
    "print(\"原來的df\")\n",
    "print(df)\n",
    "print(\"----------------------\")\n",
    "\n",
    "#修改索引值為1的math欄位資料\n",
    "df.at[1,\"math\"]=100\n",
    "\n",
    "#修改索引值為1的第1個欄位資料\n",
    "df.iat[1,0]=\"Larry\"\n",
    "print(\"修改後的df\")\n",
    "print(df)\n",
    "\n",
    "#刪除DataFrame的欄資料\n",
    "#物件.drop([\"key\"],axis=1)\n",
    "new_df3=df.drop([\"test\"],axis=1)\n",
    "print(\"刪除math欄資料\")\n",
    "print(new_df3)\n",
    "\n",
    "#刪除DataFrame的列資料\n",
    "#物件.drop([key1,key2],axis=0)\n",
    "new_df4=df.drop([0,3],axis=0)\n",
    "print(\"刪除第一筆及第四筆資料\")\n",
    "print(new_df4)\n"
   ]
  },
  {
   "cell_type": "code",
   "execution_count": 43,
   "metadata": {},
   "outputs": [
    {
     "name": "stdout",
     "output_type": "stream",
     "text": [
      "原來的df\n",
      "     name  math  chinese\n",
      "0    Mike  80.0       63\n",
      "1  Sherry   NaN       90\n",
      "2    None  93.0       85\n",
      "3    John  86.0       70\n",
      "---------------------------------\n",
      "刪除空值後的df\n",
      "   name  math  chinese\n",
      "0  Mike  80.0       63\n",
      "3  John  86.0       70\n"
     ]
    }
   ],
   "source": [
    "#刪除DataFrame的空白資料列\n",
    "grades = {\"name\":[\"Mike\",\"Sherry\",None,\"John\"],\n",
    "          \"math\":[80,None,93,86],\n",
    "          \"chinese\":[63,90,85,70]\n",
    "          }\n",
    "df = pd.DataFrame(grades)\n",
    "print(\"原來的df\")\n",
    "print(df)\n",
    "print(\"---------------------------------\")\n",
    "\n",
    "new_df5=df.dropna()\n",
    "print(\"刪除空值後的df\")\n",
    "print(new_df5)"
   ]
  },
  {
   "cell_type": "code",
   "execution_count": 46,
   "metadata": {},
   "outputs": [
    {
     "name": "stdout",
     "output_type": "stream",
     "text": [
      "原來的df\n",
      "     name  math  chinese\n",
      "0  Sherry    80       90\n",
      "1  Sherry    80       90\n",
      "2    Alan    93       85\n",
      "3    John    86       70\n",
      "---------------------------------\n",
      "刪除重復值後的df\n",
      "     name  math  chinese\n",
      "0  Sherry    80       90\n",
      "2    Alan    93       85\n",
      "3    John    86       70\n"
     ]
    }
   ],
   "source": [
    "#刪除DataFrame重復的資料\n",
    "#物件.drop_duplicates()\n",
    "grades = {\"name\":[\"Sherry\",\"Sherry\",\"Alan\",\"John\"],\n",
    "          \"math\":[80,80,93,86],\n",
    "          \"chinese\":[90,90,85,70]\n",
    "          }\n",
    "df = pd.DataFrame(grades)\n",
    "print(\"原來的df\")\n",
    "print(df)\n",
    "print(\"---------------------------------\")\n",
    "\n",
    "new_df5=df.drop_duplicates()\n",
    "print(\"刪除重復值後的df\")\n",
    "print(new_df5)"
   ]
  },
  {
   "cell_type": "code",
   "execution_count": 59,
   "metadata": {},
   "outputs": [
    {
     "name": "stdout",
     "output_type": "stream",
     "text": [
      "原來的df\n",
      "     name  math  chinese\n",
      "0  Sherry    80       90\n",
      "1  Sherry    80       90\n",
      "2    Alan    93       85\n",
      "3    John    86       70\n",
      "---------------------------------\n",
      "篩選math欄大於80的資料集\n",
      "   name  math  chinese\n",
      "2  Alan    93       85\n",
      "3  John    86       70\n",
      "---------------------------------\n",
      "篩選nameh欄位包含John的資料集\n",
      "   name  math  chinese\n",
      "3  John    86       70\n"
     ]
    }
   ],
   "source": [
    "#DataFrame篩選\n",
    "#物件[物件[\"key\"]>值]\n",
    "#物件[物件[\"key\"].isin([\"key\"])]\n",
    "\n",
    "grades = {\"name\":[\"Sherry\",\"Sherry\",\"Alan\",\"John\"],\n",
    "          \"math\":[80,80,93,86],\n",
    "          \"chinese\":[90,90,85,70]\n",
    "          }\n",
    "df = pd.DataFrame(grades)\n",
    "print(\"原來的df\")\n",
    "print(df)\n",
    "print(\"---------------------------------\")\n",
    "\n",
    "new_df = df[df[\"math\"]>80]\n",
    "print(\"篩選math欄大於80的資料集\")\n",
    "print(new_df)\n",
    "print(\"---------------------------------\")\n",
    "\n",
    "new_df = df[df[\"name\"].isin([\"John\"])]\n",
    "print(\"篩選nameh欄位包含John的資料集\")\n",
    "print(new_df)\n"
   ]
  },
  {
   "cell_type": "code",
   "execution_count": 62,
   "metadata": {},
   "outputs": [
    {
     "name": "stdout",
     "output_type": "stream",
     "text": [
      "原來的df\n",
      "      name  math  chinese\n",
      "s3   Marry    90       90\n",
      "s1  Sherry    88       66\n",
      "s4    Alan    93       85\n",
      "s2    John    86       70\n",
      "---------------------------------\n",
      "索引遞增排序\n",
      "      name  math  chinese\n",
      "s1  Sherry    88       66\n",
      "s2    John    86       70\n",
      "s3   Marry    90       90\n",
      "s4    Alan    93       85\n",
      "---------------------------------\n",
      "索引遞減排序\n",
      "      name  math  chinese\n",
      "s4    Alan    93       85\n",
      "s3   Marry    90       90\n",
      "s2    John    86       70\n",
      "s1  Sherry    88       66\n",
      "---------------------------------\n",
      "math欄的值遞增排序\n",
      "      name  math  chinese\n",
      "s2    John    86       70\n",
      "s1  Sherry    88       66\n",
      "s3   Marry    90       90\n",
      "s4    Alan    93       85\n",
      "---------------------------------\n",
      "math欄的值遞減排序\n",
      "      name  math  chinese\n",
      "s4    Alan    93       85\n",
      "s3   Marry    90       90\n",
      "s1  Sherry    88       66\n",
      "s2    John    86       70\n"
     ]
    }
   ],
   "source": [
    "#DataFrame排序\n",
    "#物件.sort_index(ascending=0 or 1)\n",
    "#物件.sort_values([\"key\"],ascending=0 or 1)\n",
    "\n",
    "grades = {\"name\":[\"Marry\",\"Sherry\",\"Alan\",\"John\"],\n",
    "          \"math\":[90,88,93,86],\n",
    "          \"chinese\":[90,66,85,70]\n",
    "          }\n",
    "df = pd.DataFrame(grades)\n",
    "df.index = [\"s3\",\"s1\",\"s4\",\"s2\"]\n",
    "print(\"原來的df\")\n",
    "print(df)\n",
    "print(\"---------------------------------\")\n",
    "\n",
    "#索引排序\n",
    "new_df = df.sort_index(ascending=1)\n",
    "print(\"索引遞增排序\")\n",
    "print(new_df)\n",
    "print(\"---------------------------------\")\n",
    "\n",
    "new_df = df.sort_index(ascending=0)\n",
    "print(\"索引遞減排序\")\n",
    "print(new_df)\n",
    "print(\"---------------------------------\")\n",
    "\n",
    "#math欄的值排序\n",
    "new_df = df.sort_values([\"math\"], ascending=1)\n",
    "print(\"math欄的值遞增排序\")\n",
    "print(new_df)\n",
    "print(\"---------------------------------\")\n",
    "\n",
    "new_df = df.sort_values([\"math\"], ascending=0)\n",
    "print(\"math欄的值遞減排序\")\n",
    "print(new_df)\n"
   ]
  },
  {
   "cell_type": "markdown",
   "metadata": {},
   "source": [
    "#Pandas read_excel 讀取Excel檔案\n",
    "#讀取與匯出Excel\n",
    "\n",
    "import pandas as pd\n",
    "物件名稱=pd.read_excel(\"檔案路徑\")\n",
    "pd.to_excel(\"檔案路徑\")\n",
    "\n",
    "修正中文對齊問題\n",
    "pd.set_option('display.unicode.ambiguous_as_wide',True)\n",
    "pd.set_option('display.unicode.east_asian_width',True)"
   ]
  },
  {
   "cell_type": "markdown",
   "metadata": {},
   "source": [
    "工作表讀取\n",
    "import pandas as pd\n",
    "\n",
    "物件名稱 = pd.read_excel('檔案路徑',sheet_name='工作表名稱')\n",
    "\n",
    "讀取所有工作表:\n",
    "sheet_name=None\n",
    "\n",
    "讀取多個工作表:\n",
    "sheet_name=['工作表1','工作表2'...]"
   ]
  },
  {
   "cell_type": "markdown",
   "metadata": {},
   "source": [
    "欄、列讀取\n",
    "import pandas as pd \n",
    "\n",
    "物件名稱 = pd.read_excel('檔案路徑',usecols=['欄位名稱'])\n",
    "欄位名稱可替換為索引值或欄位編號\n",
    "usecols=[1,2,3]或usecols=['A,B,C']\n",
    "\n",
    "取範圍使用:\n",
    "限制筆數:nrows=列數量"
   ]
  },
  {
   "cell_type": "code",
   "execution_count": 77,
   "metadata": {},
   "outputs": [
    {
     "name": "stdout",
     "output_type": "stream",
     "text": [
      "   國文  數學  英文  物理  總分\n",
      "0    34   435     5   430   865\n",
      "1    43   456     7   449   905\n",
      "2    64    65    78   -13    52\n",
      "3    67    56     8    48   104\n",
      "4    78    65    87   -22    43\n",
      "5   567     3    79   -76   -73\n",
      "6    87    76    87   -11    65\n",
      "7    46   787    67   720  1507\n",
      "----------------------\n",
      "0     5\n",
      "1     7\n",
      "2    78\n",
      "3     8\n",
      "4    87\n",
      "5    79\n",
      "6    87\n",
      "7    67\n",
      "Name: 英文, dtype: int64\n",
      "----------------------\n",
      "0     5\n",
      "1     7\n",
      "2    78\n",
      "Name: 英文, dtype: int64\n"
     ]
    }
   ],
   "source": [
    "import pandas as pd\n",
    "ex = pd.read_excel(\"menu.xlsx\",sheet_name='銷售紀錄')\n",
    "#pd.set_option('display.unicode.ambiguous_as_wide',True)\n",
    "#pd.set_option('display.unicode.east_asian_width',True)\n",
    "df = pd.DataFrame(ex)\n",
    "print(df)\n",
    "print(\"----------------------\")\n",
    "\n",
    "#使用索引值\n",
    "ex1 = pd.read_excel(\"menu.xlsx\",usecols=[2])\n",
    "df1 = ex1.iloc[:, 0]  # 选择第三列并转换为 Series\n",
    "print(df1)\n",
    "print(\"----------------------\")\n",
    "\n",
    "#使用欄位名稱，並限制列數\n",
    "ex1 = pd.read_excel(\"menu.xlsx\", usecols=[\"英文\"],nrows=3)\n",
    "df1 = ex1[\"英文\"]  # 选择\"英文\"列并转换为 Series\n",
    "print(df1)"
   ]
  }
 ],
 "metadata": {
  "kernelspec": {
   "display_name": "Python 3",
   "language": "python",
   "name": "python3"
  },
  "language_info": {
   "codemirror_mode": {
    "name": "ipython",
    "version": 3
   },
   "file_extension": ".py",
   "mimetype": "text/x-python",
   "name": "python",
   "nbconvert_exporter": "python",
   "pygments_lexer": "ipython3",
   "version": "3.11.8"
  }
 },
 "nbformat": 4,
 "nbformat_minor": 2
}
