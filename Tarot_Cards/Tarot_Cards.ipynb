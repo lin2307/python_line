{
 "cells": [
  {
   "cell_type": "code",
   "execution_count": 2,
   "id": "9114c591",
   "metadata": {},
   "outputs": [],
   "source": [
    "#匯入牌組資料\n",
    "import pandas as pd\n",
    "card_data=pd.read_excel(\"塔羅牌資料.xlsx\")"
   ]
  },
  {
   "cell_type": "code",
   "execution_count": 3,
   "id": "6b600951",
   "metadata": {},
   "outputs": [],
   "source": [
    "#初始抽牌template\n",
    "start={\n",
    "    \"type\": \"buttons\",\n",
    "    \"thumbnailImageUrl\": \"https://i.imgur.com/NQPjz4s.jpg\",\n",
    "    \"imageAspectRatio\": \"square\",\n",
    "    \"imageSize\": \"contain\",\n",
    "    \"imageBackgroundColor\": \"#FFFFFF\",\n",
    "    \"title\": \"小戴塔羅、鐵口直斷\",\n",
    "    \"text\": \"點選下方開始抽牌\",\n",
    "    \"actions\": [\n",
    "      {\n",
    "        \"type\": \"postback\",\n",
    "        \"label\": \"抽牌\",\n",
    "        \"data\": \"抽牌\"\n",
    "      }\n",
    "    ]\n",
    "  }"
   ]
  },
  {
   "cell_type": "code",
   "execution_count": 4,
   "id": "ca01a3f4",
   "metadata": {
    "scrolled": true
   },
   "outputs": [],
   "source": [
    "import random as rd\n",
    "pn=[\"正\",\"逆\"]#positive or negative\n",
    "#抽牌結果[[牌號1,正逆],[牌號2,正逆],[牌號3,正逆]] 1正2逆\n",
    "def draw_cards():\n",
    "    global card_numbers\n",
    "    global card_list\n",
    "    global card\n",
    "    card_list=[]\n",
    "    card_numbers = rd.sample(range(0, 78), 3)#抽三張不重複\n",
    "    for card in card_numbers:\n",
    "        card_list.append([card,rd.randint(1,2)])\n",
    "    print(\"使用者抽牌:\",card_list)\n",
    "    #抽牌結果\n",
    "    card={\n",
    "  \"type\": \"carousel\",\n",
    "  \"contents\":[\n",
    "    {\n",
    "      \"type\": \"bubble\",\n",
    "      \"direction\": \"ltr\",\n",
    "      \"header\": {\n",
    "        \"type\": \"box\",\n",
    "        \"layout\": \"baseline\",\n",
    "        \"contents\": [\n",
    "          {\n",
    "            \"type\": \"text\",\n",
    "            \"text\": \"過去\",\n",
    "            \"color\": \"#FF9D00FF\",\n",
    "            \"align\": \"center\"\n",
    "          }\n",
    "        ]\n",
    "      },\n",
    "      \"hero\": {\n",
    "        \"type\": \"image\",\n",
    "        \"url\": card_data.iat[card_list[0][0],3],\n",
    "        \"size\": \"full\",\n",
    "        \"aspectRatio\": \"1.51:1\",\n",
    "        \"aspectMode\": \"fit\"\n",
    "      },\n",
    "      \"body\": {\n",
    "        \"type\": \"box\",\n",
    "        \"layout\": \"vertical\",\n",
    "        \"contents\": [\n",
    "          {\n",
    "            \"type\": \"text\",\n",
    "            \"text\": card_data.iat[card_list[0][0],0]+pn[card_list[0][1]-1],\n",
    "            \"align\": \"center\"\n",
    "          }\n",
    "        ]\n",
    "      },\n",
    "      \"footer\": {\n",
    "        \"type\": \"box\",\n",
    "        \"layout\": \"horizontal\",\n",
    "        \"contents\": [\n",
    "          {\n",
    "            \"type\": \"button\",\n",
    "            \"action\": {\n",
    "              \"type\": \"postback\",\n",
    "              \"label\": \"觀看牌義\",\n",
    "              \"data\": str(card_list[0][0])\n",
    "            }\n",
    "          }\n",
    "        ]\n",
    "      }\n",
    "    },\n",
    "    {\n",
    "      \"type\": \"bubble\",\n",
    "      \"direction\": \"ltr\",\n",
    "      \"header\": {\n",
    "        \"type\": \"box\",\n",
    "        \"layout\": \"baseline\",\n",
    "        \"contents\": [\n",
    "          {\n",
    "            \"type\": \"text\",\n",
    "            \"text\": \"現在\",\n",
    "            \"color\": \"#FF9D00FF\",\n",
    "            \"align\": \"center\"\n",
    "          }\n",
    "        ]\n",
    "      },\n",
    "      \"hero\": {\n",
    "        \"type\": \"image\",\n",
    "        \"url\": card_data.iat[card_list[1][0],3],\n",
    "        \"size\": \"full\",\n",
    "        \"aspectRatio\": \"1.51:1\",\n",
    "        \"aspectMode\": \"fit\"\n",
    "      },\n",
    "      \"body\": {\n",
    "        \"type\": \"box\",\n",
    "        \"layout\": \"vertical\",\n",
    "        \"contents\": [\n",
    "          {\n",
    "            \"type\": \"text\",\n",
    "            \"text\": card_data.iat[card_list[1][0],0]+pn[card_list[1][1]-1],\n",
    "            \"align\": \"center\"\n",
    "          }\n",
    "        ]\n",
    "      },\n",
    "      \"footer\": {\n",
    "        \"type\": \"box\",\n",
    "        \"layout\": \"horizontal\",\n",
    "        \"contents\": [\n",
    "          {\n",
    "            \"type\": \"button\",\n",
    "            \"action\": {\n",
    "              \"type\": \"postback\",\n",
    "              \"label\": \"觀看牌義\",\n",
    "              \"data\": str(card_list[1][0])\n",
    "            }\n",
    "          }\n",
    "        ]\n",
    "      }\n",
    "    },\n",
    "    {\n",
    "      \"type\": \"bubble\",\n",
    "      \"direction\": \"ltr\",\n",
    "      \"header\": {\n",
    "        \"type\": \"box\",\n",
    "        \"layout\": \"baseline\",\n",
    "        \"contents\": [\n",
    "          {\n",
    "            \"type\": \"text\",\n",
    "            \"text\": \"未來\",\n",
    "            \"color\": \"#FF9D00FF\",\n",
    "            \"align\": \"center\",\n",
    "          }\n",
    "        ]\n",
    "      },\n",
    "      \"hero\": {\n",
    "        \"type\": \"image\",\n",
    "        \"url\": card_data.iat[card_list[2][0],3],\n",
    "        \"size\": \"full\",\n",
    "        \"aspectRatio\": \"1.51:1\",\n",
    "        \"aspectMode\": \"fit\"\n",
    "      },\n",
    "      \"body\": {\n",
    "        \"type\": \"box\",\n",
    "        \"layout\": \"vertical\",\n",
    "        \"contents\": [\n",
    "          {\n",
    "            \"type\": \"text\",\n",
    "            \"text\": card_data.iat[card_list[2][0],0]+pn[card_list[2][1]-1],\n",
    "            \"align\": \"center\"          }\n",
    "        ]\n",
    "      },\n",
    "      \"footer\": {\n",
    "        \"type\": \"box\",\n",
    "        \"layout\": \"horizontal\",\n",
    "        \"contents\": [\n",
    "          {\n",
    "            \"type\": \"button\",\n",
    "            \"action\": {\n",
    "              \"type\": \"postback\",\n",
    "              \"label\": \"觀看牌義\",\n",
    "              \"data\": str(card_list[2][0])\n",
    "            }\n",
    "          }\n",
    "        ]\n",
    "      }\n",
    "    }\n",
    "  ]\n",
    "}"
   ]
  },
  {
   "cell_type": "code",
   "execution_count": 5,
   "id": "cc1025e9",
   "metadata": {
    "scrolled": true
   },
   "outputs": [
    {
     "name": "stdout",
     "output_type": "stream",
     "text": [
      " * Serving Flask app '__main__'\n",
      " * Debug mode: off\n"
     ]
    },
    {
     "name": "stderr",
     "output_type": "stream",
     "text": [
      "C:\\Users\\smile\\AppData\\Local\\Temp\\ipykernel_3372\\3581062203.py:7: LineBotSdkDeprecatedIn30: Call to deprecated class LineBotApi. (Use v3 class; linebot.v3.<feature>. See https://github.com/line/line-bot-sdk-python/blob/master/README.rst for more details.) -- Deprecated since version 3.0.0.\n",
      "  line_bot_api = LineBotApi('0MTwO+uLC9YQAIsSUu88agU/9o/MxFFa83qF0OPczd/ivnMam25adYe0lMDl7E+lTadbxeC3wYZbjPqTlZM1Ea3aP5kYuxIVTdHHpac8beN7ZA24XnGckQYWTi0Q4Ro9URFdR5lN4BGgM6Zc+W0D1wdB04t89/1O/w1cDnyilFU=')\n",
      "C:\\Users\\smile\\AppData\\Local\\Temp\\ipykernel_3372\\3581062203.py:8: LineBotSdkDeprecatedIn30: Call to deprecated class LineBotApi. (Use v3 class; linebot.v3.<feature>. See https://github.com/line/line-bot-sdk-python/blob/master/README.rst for more details.) -- Deprecated since version 3.0.0.\n",
      "  line_bot_api = LineBotApi('Cg1sbKnnbeqimGC5ilImA8KLiZdQnCB/IaO4hirKffQh5X3YLOQFyjDvZeyBf0+aWKUGLgpNL6PvZP+z9yokq3XfyIKsvmIBg7bv1H5fAMLYv5tB1ztv6+fClslkQ8yk6clBH2z96ZtR3eA4o3ZVXQdB04t89/1O/w1cDnyilFU=')\n",
      "WARNING: This is a development server. Do not use it in a production deployment. Use a production WSGI server instead.\n",
      " * Running on http://127.0.0.1:3000\n",
      "Press CTRL+C to quit\n"
     ]
    },
    {
     "name": "stdout",
     "output_type": "stream",
     "text": [
      "{'destination': 'U49a046de35b61db544c9a86561734bc1', 'events': [{'type': 'message', 'message': {'type': 'text', 'id': '501832400406315515', 'quoteToken': 'RArGMsfZcO_3UaD2kfTbuLNsZ8YPus5L84XuvfDwewM9PrnHpMRRKFkdy46VYDL35rNplKqAmAxHRzPJaihNHrtx0tPD0k1X2SwTvFfQ_m2LolkPTKjRWxfnjqtM0HRv8nQM_BT3XbH7T-3Q7BPIBw', 'text': '123'}, 'webhookEventId': '01HTBZKWGZ8QGQGBGV09YNP9SP', 'deliveryContext': {'isRedelivery': False}, 'timestamp': 1711946723677, 'source': {'type': 'user', 'userId': 'U0603a80324448af2e4315140f1d7270c'}, 'replyToken': '9f49ad9e875e420fa3665b5267dfa118', 'mode': 'active'}]}\n"
     ]
    },
    {
     "name": "stderr",
     "output_type": "stream",
     "text": [
      "C:\\Users\\smile\\AppData\\Local\\Temp\\ipykernel_3372\\3581062203.py:18: LineBotSdkDeprecatedIn30: Call to deprecated method reply_message. (Use 'from linebot.v3.messaging import MessagingApi' and 'MessagingApi(...).reply_message(...)' instead. See https://github.com/line/line-bot-sdk-python/blob/master/README.rst for more details.) -- Deprecated since version 3.0.0.\n",
      "  line_bot_api.reply_message(data['events'][0]['replyToken'],\n",
      "127.0.0.1 - - [01/Apr/2024 12:45:22] \"POST / HTTP/1.1\" 200 -\n"
     ]
    },
    {
     "name": "stdout",
     "output_type": "stream",
     "text": [
      "{'destination': 'U49a046de35b61db544c9a86561734bc1', 'events': [{'type': 'postback', 'postback': {'data': '抽牌'}, 'webhookEventId': '01HTBZM5PPFRE40GTJQBRPBV0G', 'deliveryContext': {'isRedelivery': False}, 'timestamp': 1711946732768, 'source': {'type': 'user', 'userId': 'U0603a80324448af2e4315140f1d7270c'}, 'replyToken': '8f89b3edc7a74c04a92109b5656ae054', 'mode': 'active'}]}\n",
      "使用者抽牌: [[28, 1], [41, 2], [31, 1]]\n"
     ]
    },
    {
     "name": "stderr",
     "output_type": "stream",
     "text": [
      "C:\\Users\\smile\\AppData\\Local\\Temp\\ipykernel_3372\\3581062203.py:23: LineBotSdkDeprecatedIn30: Call to deprecated method reply_message. (Use 'from linebot.v3.messaging import MessagingApi' and 'MessagingApi(...).reply_message(...)' instead. See https://github.com/line/line-bot-sdk-python/blob/master/README.rst for more details.) -- Deprecated since version 3.0.0.\n",
      "  line_bot_api.reply_message(data['events'][0]['replyToken'],\n",
      "127.0.0.1 - - [01/Apr/2024 12:45:31] \"POST / HTTP/1.1\" 200 -\n"
     ]
    },
    {
     "name": "stdout",
     "output_type": "stream",
     "text": [
      "{'destination': 'U49a046de35b61db544c9a86561734bc1', 'events': [{'type': 'postback', 'postback': {'data': '28'}, 'webhookEventId': '01HTBZMAX0873KHMNDT8KYYRTT', 'deliveryContext': {'isRedelivery': False}, 'timestamp': 1711946738115, 'source': {'type': 'user', 'userId': 'U0603a80324448af2e4315140f1d7270c'}, 'replyToken': '1409ce30457e469cb4514e7c53bcd8a4', 'mode': 'active'}]}\n"
     ]
    },
    {
     "name": "stderr",
     "output_type": "stream",
     "text": [
      "C:\\Users\\smile\\AppData\\Local\\Temp\\ipykernel_3372\\3581062203.py:27: LineBotSdkDeprecatedIn30: Call to deprecated method reply_message. (Use 'from linebot.v3.messaging import MessagingApi' and 'MessagingApi(...).reply_message(...)' instead. See https://github.com/line/line-bot-sdk-python/blob/master/README.rst for more details.) -- Deprecated since version 3.0.0.\n",
      "  line_bot_api.reply_message(data['events'][0]['replyToken'],\n",
      "127.0.0.1 - - [01/Apr/2024 12:45:37] \"POST / HTTP/1.1\" 200 -\n"
     ]
    },
    {
     "name": "stdout",
     "output_type": "stream",
     "text": [
      "{'destination': 'U49a046de35b61db544c9a86561734bc1', 'events': [{'type': 'postback', 'postback': {'data': '41'}, 'webhookEventId': '01HTBZN0D4KX1W3CDXYQHN67XR', 'deliveryContext': {'isRedelivery': False}, 'timestamp': 1711946760110, 'source': {'type': 'user', 'userId': 'U0603a80324448af2e4315140f1d7270c'}, 'replyToken': '89056172a2b54551a6fb6f735f5a4f34', 'mode': 'active'}]}\n"
     ]
    },
    {
     "name": "stderr",
     "output_type": "stream",
     "text": [
      "127.0.0.1 - - [01/Apr/2024 12:45:59] \"POST / HTTP/1.1\" 200 -\n"
     ]
    },
    {
     "name": "stdout",
     "output_type": "stream",
     "text": [
      "{'destination': 'U49a046de35b61db544c9a86561734bc1', 'events': [{'type': 'postback', 'postback': {'data': '31'}, 'webhookEventId': '01HTBZP3KKSAHBVPKQ0DC15MN5', 'deliveryContext': {'isRedelivery': False}, 'timestamp': 1711946796247, 'source': {'type': 'user', 'userId': 'U0603a80324448af2e4315140f1d7270c'}, 'replyToken': 'fc75a58aefd9415e88ccf10d2f4cbd06', 'mode': 'active'}]}\n"
     ]
    },
    {
     "name": "stderr",
     "output_type": "stream",
     "text": [
      "127.0.0.1 - - [01/Apr/2024 12:46:35] \"POST / HTTP/1.1\" 200 -\n"
     ]
    },
    {
     "ename": "",
     "evalue": "",
     "output_type": "error",
     "traceback": [
      "\u001b[1;31m在目前儲存格或上一個儲存格中執行程式碼時，Kernel 已損毀。\n",
      "\u001b[1;31m請檢閱儲存格中的程式碼，找出失敗的可能原因。\n",
      "\u001b[1;31m如需詳細資訊，請按一下<a href='https://aka.ms/vscodeJupyterKernelCrash'>這裡</a>。\n",
      "\u001b[1;31m如需詳細資料，請檢視 Jupyter <a href='command:jupyter.viewOutput'>記錄</a>。"
     ]
    }
   ],
   "source": [
    "from flask import Flask, request\n",
    "from linebot import LineBotApi\n",
    "from linebot.models import FlexSendMessage, TextSendMessage,TemplateSendMessage\n",
    "app = Flask(__name__)\n",
    "\n",
    "# LINE 聊天機器人的基本資料\n",
    "line_bot_api = LineBotApi('0MTwO+uLC9YQAIsSUu88agU/9o/MxFFa83qF0OPczd/ivnMam25adYe0lMDl7E+lTadbxeC3wYZbjPqTlZM1Ea3aP5kYuxIVTdHHpac8beN7ZA24XnGckQYWTi0Q4Ro9URFdR5lN4BGgM6Zc+W0D1wdB04t89/1O/w1cDnyilFU=')\n",
    "line_bot_api = LineBotApi('Cg1sbKnnbeqimGC5ilImA8KLiZdQnCB/IaO4hirKffQh5X3YLOQFyjDvZeyBf0+aWKUGLgpNL6PvZP+z9yokq3XfyIKsvmIBg7bv1H5fAMLYv5tB1ztv6+fClslkQ8yk6clBH2z96ZtR3eA4o3ZVXQdB04t89/1O/w1cDnyilFU=')\n",
    "@app.route(\"/\", methods=['POST'])\n",
    "def fortune():\n",
    "    data = request.get_json()\n",
    "    print(data)\n",
    "    if len(data['events'])==0:#驗證模式events是空的\n",
    "        print(\"webhook驗證OK\")\n",
    "        return 'Verify OK',200\n",
    "    elif data['events'][0]['type']==\"message\" and len(data['events'])==1:#任何文字訊息皆發送啟動template\n",
    "        if data['events'][0]['message'][\"text\"]!=\"開始抽牌\":    \n",
    "            line_bot_api.reply_message(data['events'][0]['replyToken'],\n",
    "            TemplateSendMessage(alt_text=\"123\", template=start))\n",
    "    if data['events'][0]['type']==\"postback\":\n",
    "        if data['events'][0][\"postback\"][\"data\"]==\"抽牌\":#使用者點選抽牌\n",
    "            draw_cards()\n",
    "            line_bot_api.reply_message(data['events'][0]['replyToken'],\n",
    "            FlexSendMessage(alt_text=\"456\",contents=card))\n",
    "        else:#使用者點選觀看牌義\n",
    "            card_num=int(data['events'][0][\"postback\"][\"data\"])\n",
    "            line_bot_api.reply_message(data['events'][0]['replyToken'],\n",
    "            TextSendMessage(text=card_data.iat[card_num,card_list[card_numbers.index(card_num)][1]]))\n",
    "    return 'OK',200\n",
    "if __name__ == \"__main__\":\n",
    "    app.run(port=3000)#需與NGROK的通道阜相同"
   ]
  }
 ],
 "metadata": {
  "kernelspec": {
   "display_name": "Python 3 (ipykernel)",
   "language": "python",
   "name": "python3"
  },
  "language_info": {
   "codemirror_mode": {
    "name": "ipython",
    "version": 3
   },
   "file_extension": ".py",
   "mimetype": "text/x-python",
   "name": "python",
   "nbconvert_exporter": "python",
   "pygments_lexer": "ipython3",
   "version": "3.11.8"
  }
 },
 "nbformat": 4,
 "nbformat_minor": 5
}
